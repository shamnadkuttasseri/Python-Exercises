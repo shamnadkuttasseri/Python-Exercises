{
 "cells": [
  {
   "cell_type": "markdown",
   "id": "2225338d",
   "metadata": {},
   "source": [
    "## Object Oriented Programming"
   ]
  },
  {
   "cell_type": "code",
   "execution_count": 2,
   "id": "8d78f6b4",
   "metadata": {},
   "outputs": [
    {
     "name": "stdout",
     "output_type": "stream",
     "text": [
      "The red car is medium in the size and has a speed of 60 mph.\n",
      "The blue car is small in the size and has a speed of 40 mph.\n",
      "The green car is large in the size and has a speed of 80 mph.\n",
      "The red car is driving at 60 mph.\n",
      "the blue car has stopped.\n",
      "the green car is honking.\n"
     ]
    }
   ],
   "source": [
    "#definr a car\n",
    "class Car:\n",
    "    def __init__(self,color,size,speed):\n",
    "        self.color=color\n",
    "        self.size=size\n",
    "        self.speed=speed\n",
    "    def drive(self):\n",
    "        print(f\"The {self.color} car is driving at {self.speed} mph.\")\n",
    "    def stop(self):\n",
    "        print(f\"the {self.color} car has stopped.\")\n",
    "    def honk(self):\n",
    "        print(f\"the {self.color} car is honking.\")\n",
    "    \n",
    "    \n",
    "#create car objects\n",
    "red_car = Car(\"red\",\"medium\",\"60\")\n",
    "blue_car = Car('blue',\"small\",\"40\")\n",
    "green_car = Car(\"green\",\"large\",\"80\")\n",
    "\n",
    "#access attributes of car objects.\n",
    "print(f\"The {red_car.color} car is {red_car.size} in the size and has a speed of {red_car.speed} mph.\")\n",
    "print(f\"The {blue_car.color} car is {blue_car.size} in the size and has a speed of {blue_car.speed} mph.\")\n",
    "print(f\"The {green_car.color} car is {green_car.size} in the size and has a speed of {green_car.speed} mph.\")\n",
    "\n",
    "#call methods of car objects.\n",
    "red_car.drive()\n",
    "blue_car.stop()\n",
    "green_car.honk()\n",
    "\n",
    "\n",
    "    "
   ]
  },
  {
   "cell_type": "markdown",
   "id": "6d08e12d",
   "metadata": {},
   "source": [
    "### Objects(instance) and instantations"
   ]
  },
  {
   "cell_type": "code",
   "execution_count": null,
   "id": "79931770",
   "metadata": {},
   "outputs": [],
   "source": [
    "obj = myclass()"
   ]
  },
  {
   "cell_type": "markdown",
   "id": "f89f7cfe",
   "metadata": {},
   "source": [
    "#### class attribute"
   ]
  },
  {
   "cell_type": "code",
   "execution_count": 4,
   "id": "10dfbc64",
   "metadata": {},
   "outputs": [
    {
     "name": "stdout",
     "output_type": "stream",
     "text": [
      "20\n"
     ]
    }
   ],
   "source": [
    "class myclass:\n",
    "    x=20 #class variable.\n",
    "    \n",
    "print(myclass.x)"
   ]
  },
  {
   "cell_type": "code",
   "execution_count": 5,
   "id": "cb3bd573",
   "metadata": {},
   "outputs": [
    {
     "name": "stdout",
     "output_type": "stream",
     "text": [
      "20\n"
     ]
    }
   ],
   "source": [
    "class myclass:\n",
    "    y=20\n",
    "    \n",
    "obj = myclass()\n",
    "print(obj.y)"
   ]
  },
  {
   "cell_type": "markdown",
   "id": "670c6311",
   "metadata": {},
   "source": [
    "#### Instance attribute"
   ]
  },
  {
   "cell_type": "code",
   "execution_count": 6,
   "id": "37912d04",
   "metadata": {},
   "outputs": [
    {
     "name": "stdout",
     "output_type": "stream",
     "text": [
      "20\n"
     ]
    }
   ],
   "source": [
    "class myclass:\n",
    "    def __init__(self):\n",
    "        self.y=20 #instance variable.\n",
    "obj=myclass()\n",
    "print(obj.y)"
   ]
  },
  {
   "cell_type": "markdown",
   "id": "be2158af",
   "metadata": {},
   "source": [
    "#### Class method"
   ]
  },
  {
   "cell_type": "code",
   "execution_count": 9,
   "id": "f2815342",
   "metadata": {},
   "outputs": [
    {
     "name": "stdout",
     "output_type": "stream",
     "text": [
      "5678\n",
      "HELLO 10 20\n"
     ]
    }
   ],
   "source": [
    "class Myclass:\n",
    "    x=10\n",
    "    y=20\n",
    "    \n",
    "    def print_x(self):\n",
    "        x=5678\n",
    "        print(x)\n",
    "        print('HELLO',self.x,self.y)\n",
    "    \n",
    "    def add(self):\n",
    "        z=self.x+self.y\n",
    "        print(self.x,\"+\",self.y ,\"=\",z)\n",
    "        \n",
    "obj=Myclass()\n",
    "obj.print_x()"
   ]
  },
  {
   "cell_type": "code",
   "execution_count": 10,
   "id": "907085cd",
   "metadata": {},
   "outputs": [
    {
     "name": "stdout",
     "output_type": "stream",
     "text": [
      "10 + 20 = 30\n"
     ]
    }
   ],
   "source": [
    "obj.add()"
   ]
  },
  {
   "cell_type": "code",
   "execution_count": 11,
   "id": "c6ddfb0e",
   "metadata": {},
   "outputs": [
    {
     "name": "stdout",
     "output_type": "stream",
     "text": [
      "5678\n",
      "HELLO Alexa 20\n"
     ]
    }
   ],
   "source": [
    "obj.x='Alexa'\n",
    "obj.print_x()"
   ]
  },
  {
   "cell_type": "markdown",
   "id": "e9c956d1",
   "metadata": {},
   "source": [
    "### Runtime Polymorphism-Method Overiding"
   ]
  },
  {
   "cell_type": "code",
   "execution_count": 3,
   "id": "b5f84523",
   "metadata": {},
   "outputs": [
    {
     "name": "stdout",
     "output_type": "stream",
     "text": [
      "i like to eat bones\n"
     ]
    }
   ],
   "source": [
    "class Animal:\n",
    "    #attributes and methods of parent class\n",
    "    name=\"\"\n",
    "    def eat(self):\n",
    "        print('I can eat')\n",
    "\n",
    "#inheritance from animal\n",
    "class dog(Animal):\n",
    "    #override eat()method\n",
    "    def eat(self):\n",
    "        print('i like to eat bones')\n",
    "        \n",
    "#create an object of subclass\n",
    "labrador = dog()\n",
    "\n",
    "labrador.eat()"
   ]
  },
  {
   "cell_type": "code",
   "execution_count": 5,
   "id": "8fed8af0",
   "metadata": {},
   "outputs": [
    {
     "name": "stdout",
     "output_type": "stream",
     "text": [
      "I can eat\n",
      "i like to eat bones\n"
     ]
    }
   ],
   "source": [
    "#super() method\n",
    "class Animal:\n",
    "    #attributes and methods of parent class\n",
    "    name=\"\"\n",
    "    def eat(self):\n",
    "        print('I can eat')\n",
    "\n",
    "#inheritance from animal\n",
    "class dog(Animal):\n",
    "    #override eat()method\n",
    "    def eat(self):\n",
    "        #call the eat() method of superclass using super\n",
    "        super().eat()\n",
    "        print('i like to eat bones')\n",
    "        \n",
    "#create an object of subclass\n",
    "labrador = dog()\n",
    "\n",
    "labrador.eat()"
   ]
  },
  {
   "cell_type": "markdown",
   "id": "3213ae8e",
   "metadata": {},
   "source": [
    "### Multiple Inheritence"
   ]
  },
  {
   "cell_type": "code",
   "execution_count": 7,
   "id": "1ab6015a",
   "metadata": {},
   "outputs": [
    {
     "name": "stdout",
     "output_type": "stream",
     "text": [
      "mammals can give direct birth\n",
      "winged animal can flap\n"
     ]
    }
   ],
   "source": [
    "class Mammal:\n",
    "    def mammal_info(self):\n",
    "        print(\"mammals can give direct birth\")\n",
    "        \n",
    "class WingedAnimal:\n",
    "    def WingedAnimal_info(self):\n",
    "        print(\"winged animal can flap\")\n",
    "        \n",
    "class Bat(Mammal,WingedAnimal):\n",
    "    pass\n",
    "\n",
    "#create an object of bat class\n",
    "b1=Bat()\n",
    "\n",
    "b1.mammal_info()\n",
    "b1.WingedAnimal_info()"
   ]
  },
  {
   "cell_type": "markdown",
   "id": "32097e8c",
   "metadata": {},
   "source": [
    "###  multilevel inheritance"
   ]
  },
  {
   "cell_type": "code",
   "execution_count": 10,
   "id": "80bb6b48",
   "metadata": {},
   "outputs": [
    {
     "name": "stdout",
     "output_type": "stream",
     "text": [
      "fido says: woof!\n",
      "whiskers says: meow!\n",
      "baldy says: screech!\n"
     ]
    }
   ],
   "source": [
    "class Animal:\n",
    "    def __init__(self,name):\n",
    "        self.name = name\n",
    "    def speak(self):\n",
    "        pass\n",
    "\n",
    "class Mammal(Animal):\n",
    "    def give_birth(self):\n",
    "        pass\n",
    "\n",
    "class dog(Mammal):\n",
    "    def speak(self):\n",
    "        return \"woof!\"\n",
    "\n",
    "class cat(Mammal):\n",
    "    def speak(self):\n",
    "        return \"meow!\"\n",
    "\n",
    "class bird(Mammal):\n",
    "    def fly(self):\n",
    "        pass\n",
    "\n",
    "class eagle(bird):\n",
    "    def speak(self):\n",
    "        return \"screech!\"\n",
    "\n",
    "\n",
    "#creating instances\n",
    "dog= dog('fido')\n",
    "cat= cat(\"whiskers\")\n",
    "eagle= eagle(\"baldy\")\n",
    "\n",
    "#accessing methods\n",
    "\n",
    "print(f\"{dog.name} says: {dog.speak()}\")\n",
    "print(f\"{cat.name} says: {cat.speak()}\")\n",
    "print(f\"{eagle.name} says: {eagle.speak()}\")\n"
   ]
  },
  {
   "cell_type": "markdown",
   "id": "7a28e579",
   "metadata": {},
   "source": [
    "### hirarchial inheritance"
   ]
  },
  {
   "cell_type": "code",
   "execution_count": 11,
   "id": "ceb0a58b",
   "metadata": {},
   "outputs": [
    {
     "name": "stdout",
     "output_type": "stream",
     "text": [
      "fido says: woof!\n",
      "whiskers says: meow!\n",
      "baldy says: screech!\n"
     ]
    }
   ],
   "source": [
    "class Animal:\n",
    "    def __init__(self,name):\n",
    "        self.name = name\n",
    "    def speak(self):\n",
    "        pass\n",
    "\n",
    "class dog(Mammal):\n",
    "    def speak(self):\n",
    "        return \"woof!\"\n",
    "\n",
    "class cat(Mammal):\n",
    "    def speak(self):\n",
    "        return \"meow!\"\n",
    "\n",
    "class bird(Mammal):\n",
    "    def fly(self):\n",
    "        pass\n",
    "\n",
    "class eagle(bird):\n",
    "    def speak(self):\n",
    "        return \"screech!\"\n",
    "\n",
    "\n",
    "#creating instances\n",
    "dog= dog('fido')\n",
    "cat= cat(\"whiskers\")\n",
    "eagle= eagle(\"baldy\")\n",
    "\n",
    "#accessing methods\n",
    "\n",
    "print(f\"{dog.name} says: {dog.speak()}\")\n",
    "print(f\"{cat.name} says: {cat.speak()}\")\n",
    "print(f\"{eagle.name} says: {eagle.speak()}\")\n"
   ]
  },
  {
   "cell_type": "markdown",
   "id": "d47fa0d6",
   "metadata": {},
   "source": [
    "### abstract method"
   ]
  },
  {
   "cell_type": "code",
   "execution_count": 13,
   "id": "5c2b8108",
   "metadata": {},
   "outputs": [
    {
     "name": "stdout",
     "output_type": "stream",
     "text": [
      "area 78.5\n",
      "area 24\n"
     ]
    }
   ],
   "source": [
    "from abc import ABC, abstractmethod\n",
    "\n",
    "class Shape(ABC):\n",
    "    @abstractmethod\n",
    "    def area(self):\n",
    "        pass\n",
    "\n",
    "class Circle(Shape):\n",
    "    def __init__(self,radius):\n",
    "        self.radius=radius\n",
    "        \n",
    "    def area(self):\n",
    "        return 3.14*self.radius*self.radius\n",
    "    \n",
    "class Rectangle(Shape):\n",
    "    def __init__(self,width,height):\n",
    "        self.width=width\n",
    "        self.height=height\n",
    "        \n",
    "    def area(self):\n",
    "        return self.width*self.height\n",
    "    \n",
    "circle = Circle(5)\n",
    "rectangle = Rectangle(4,6)\n",
    "\n",
    "shapes = [circle ,rectangle]\n",
    "\n",
    "for shape in shapes:\n",
    "    print(f\"area {shape.area()}\")"
   ]
  },
  {
   "cell_type": "code",
   "execution_count": null,
   "id": "88e29cfc",
   "metadata": {},
   "outputs": [],
   "source": []
  },
  {
   "cell_type": "code",
   "execution_count": null,
   "id": "e44c41d2",
   "metadata": {},
   "outputs": [],
   "source": []
  }
 ],
 "metadata": {
  "kernelspec": {
   "display_name": "Python 3 (ipykernel)",
   "language": "python",
   "name": "python3"
  },
  "language_info": {
   "codemirror_mode": {
    "name": "ipython",
    "version": 3
   },
   "file_extension": ".py",
   "mimetype": "text/x-python",
   "name": "python",
   "nbconvert_exporter": "python",
   "pygments_lexer": "ipython3",
   "version": "3.11.5"
  }
 },
 "nbformat": 4,
 "nbformat_minor": 5
}

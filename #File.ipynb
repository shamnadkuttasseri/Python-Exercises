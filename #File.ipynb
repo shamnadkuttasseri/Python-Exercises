{
 "cells": [
  {
   "cell_type": "markdown",
   "metadata": {},
   "source": [
    "## File handling"
   ]
  },
  {
   "cell_type": "code",
   "execution_count": 2,
   "metadata": {},
   "outputs": [
    {
     "name": "stdout",
     "output_type": "stream",
     "text": [
      "d:\\Shamnad\n"
     ]
    }
   ],
   "source": [
    "import os\n",
    "\n",
    "current_directory=os.getcwd()\n",
    "print(current_directory)"
   ]
  },
  {
   "cell_type": "code",
   "execution_count": 4,
   "metadata": {},
   "outputs": [
    {
     "name": "stdout",
     "output_type": "stream",
     "text": [
      "c:\\users\n"
     ]
    }
   ],
   "source": [
    "os.chdir('c:\\\\users')\n",
    "print(os.getcwd())"
   ]
  },
  {
   "cell_type": "code",
   "execution_count": 8,
   "metadata": {},
   "outputs": [
    {
     "name": "stdout",
     "output_type": "stream",
     "text": [
      "d:\\Shamnad\n"
     ]
    }
   ],
   "source": [
    "os.chdir(current_directory)\n",
    "print(os.getcwd())"
   ]
  },
  {
   "cell_type": "code",
   "execution_count": 10,
   "metadata": {},
   "outputs": [
    {
     "name": "stdout",
     "output_type": "stream",
     "text": [
      "d:\\Shamnad\n"
     ]
    }
   ],
   "source": [
    "print(os.getcwd())"
   ]
  },
  {
   "cell_type": "code",
   "execution_count": 11,
   "metadata": {},
   "outputs": [],
   "source": [
    "os.makedirs('folder1\\\\subfolder1')"
   ]
  },
  {
   "cell_type": "code",
   "execution_count": 12,
   "metadata": {},
   "outputs": [],
   "source": [
    "os.chdir('folder1\\\\subfolder1')"
   ]
  },
  {
   "cell_type": "code",
   "execution_count": 13,
   "metadata": {},
   "outputs": [
    {
     "name": "stdout",
     "output_type": "stream",
     "text": [
      "d:\\Shamnad\\folder1\\subfolder1\n"
     ]
    }
   ],
   "source": [
    "print(os.getcwd())"
   ]
  },
  {
   "cell_type": "code",
   "execution_count": 14,
   "metadata": {},
   "outputs": [
    {
     "name": "stdout",
     "output_type": "stream",
     "text": [
      "d:\\Shamnad\\folder1\n"
     ]
    }
   ],
   "source": [
    "os.chdir('..')\n",
    "print(os.getcwd())"
   ]
  },
  {
   "cell_type": "markdown",
   "metadata": {},
   "source": [
    "#### OS path\n",
    "        \n",
    "        os path join() function can be used to generate file path that matches the current operating system \n"
   ]
  },
  {
   "cell_type": "code",
   "execution_count": 1,
   "metadata": {},
   "outputs": [
    {
     "name": "stdout",
     "output_type": "stream",
     "text": [
      "D:\\sofronics\\python\n"
     ]
    }
   ],
   "source": [
    "import os\n",
    "cwd = os.getcwd()\n",
    "print(cwd)"
   ]
  },
  {
   "cell_type": "code",
   "execution_count": 2,
   "metadata": {},
   "outputs": [
    {
     "name": "stdout",
     "output_type": "stream",
     "text": [
      "D:\\sofronics\\python\\ex\\w2\n"
     ]
    }
   ],
   "source": [
    "path=os.path.join(cwd,'ex','w2')\n",
    "print(path)"
   ]
  },
  {
   "cell_type": "markdown",
   "metadata": {},
   "source": [
    "#### Listing directories"
   ]
  },
  {
   "cell_type": "code",
   "execution_count": 3,
   "metadata": {},
   "outputs": [
    {
     "name": "stdout",
     "output_type": "stream",
     "text": [
      ".ipynb_checkpoints\n",
      "basic exercises 1.ipynb\n",
      "basics.ipynb\n",
      "File.ipynb\n",
      "Python Conditions Exercise.ipynb\n",
      "Python For loop execise.ipynb\n",
      "python functions.ipynb\n",
      "Python List Exercises1.ipynb\n",
      "Python Set Exercise.ipynb\n",
      "Python Tuple Exercise.ipynb\n",
      "Python While loop Exercise.ipynb\n"
     ]
    }
   ],
   "source": [
    "files=os.listdir(cwd)\n",
    "for x in files:\n",
    "    print(x)"
   ]
  },
  {
   "cell_type": "markdown",
   "metadata": {},
   "source": [
    "### check for specific files"
   ]
  },
  {
   "cell_type": "code",
   "execution_count": 4,
   "metadata": {},
   "outputs": [
    {
     "name": "stdout",
     "output_type": "stream",
     "text": [
      "file exists\n"
     ]
    }
   ],
   "source": [
    "file='file.ipynb'\n",
    "\n",
    "if os.path.exists(file):\n",
    "    print('file exists')\n",
    "else:\n",
    "    print('file does not exist')"
   ]
  },
  {
   "cell_type": "markdown",
   "metadata": {},
   "source": [
    "#### checking file or directory"
   ]
  },
  {
   "cell_type": "code",
   "execution_count": 8,
   "metadata": {},
   "outputs": [
    {
     "name": "stdout",
     "output_type": "stream",
     "text": [
      "it is directory\n"
     ]
    }
   ],
   "source": [
    "path='.ipynb_checkpoints'\n",
    "#path='File.ipynb'\n",
    "\n",
    "if os.path.isfile(path):\n",
    "    print('it is file')\n",
    "elif os.path.isdir(path):\n",
    "    print('it is directory')\n",
    "else:\n",
    "    print('neither file nor directory')"
   ]
  },
  {
   "cell_type": "markdown",
   "metadata": {},
   "source": [
    "### Creating files"
   ]
  },
  {
   "cell_type": "code",
   "execution_count": 4,
   "metadata": {},
   "outputs": [],
   "source": [
    "file_name='sample.txt'\n",
    "\n",
    "f=open(file_name,'w')\n",
    "f.write('this is the first line')\n",
    "\n",
    "f.close()"
   ]
  },
  {
   "cell_type": "code",
   "execution_count": 5,
   "metadata": {},
   "outputs": [],
   "source": [
    "with open('sample.txt','a') as fh:\n",
    "    fh.write('Hello\\n')\n",
    "    fh.write('how are you')"
   ]
  },
  {
   "cell_type": "markdown",
   "metadata": {},
   "source": [
    "### reading from files"
   ]
  },
  {
   "cell_type": "code",
   "execution_count": 8,
   "metadata": {},
   "outputs": [
    {
     "name": "stdout",
     "output_type": "stream",
     "text": [
      "this is the first lineHello\n",
      "how are you\n"
     ]
    }
   ],
   "source": [
    "import os\n",
    "file_path= os.path.join('sample.txt')\n",
    "\n",
    "f=open(file_path,'r')\n",
    "items=f.read()\n",
    "print(items)\n",
    "f.close()"
   ]
  },
  {
   "cell_type": "code",
   "execution_count": 9,
   "metadata": {},
   "outputs": [
    {
     "name": "stdout",
     "output_type": "stream",
     "text": [
      "['this is the first lineHello\\n', 'how are you']\n"
     ]
    }
   ],
   "source": [
    "import os\n",
    "file_path= os.path.join('sample.txt')\n",
    "\n",
    "f=open(file_path,'r')\n",
    "items=f.readlines()\n",
    "print(items)#print as a list\n",
    "f.close()"
   ]
  },
  {
   "cell_type": "code",
   "execution_count": 10,
   "metadata": {},
   "outputs": [
    {
     "name": "stdout",
     "output_type": "stream",
     "text": [
      "this is the first lineHello\n",
      "how are you\n"
     ]
    }
   ],
   "source": [
    "import os\n",
    "file_path= os.path.join('sample.txt')\n",
    "\n",
    "f=open(file_path,'r')\n",
    "items=f.readlines()\n",
    "for i in items:\n",
    "    print(i.strip())#strip is used to remove linebreak at the end of each line\n",
    "f.close()"
   ]
  }
 ],
 "metadata": {
  "kernelspec": {
   "display_name": "Python 3 (ipykernel)",
   "language": "python",
   "name": "python3"
  },
  "language_info": {
   "codemirror_mode": {
    "name": "ipython",
    "version": 3
   },
   "file_extension": ".py",
   "mimetype": "text/x-python",
   "name": "python",
   "nbconvert_exporter": "python",
   "pygments_lexer": "ipython3",
   "version": "3.11.5"
  }
 },
 "nbformat": 4,
 "nbformat_minor": 2
}

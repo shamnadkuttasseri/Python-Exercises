{
 "cells": [
  {
   "cell_type": "markdown",
   "id": "b74295ad",
   "metadata": {
    "id": "b74295ad"
   },
   "source": [
    "# Object-Oriented Programming"
   ]
  },
  {
   "cell_type": "markdown",
   "id": "62d79a80",
   "metadata": {
    "id": "62d79a80"
   },
   "source": [
    "OOP uses something called \"objects\" to represent things in the computer program. An object is like a special toy that you can create and customize by giving it its own features (called \"attributes\") and things it can do (called \"methods\"). These objects are based on \"classes,\" which are like blueprints or templates for creating objects."
   ]
  },
  {
   "cell_type": "markdown",
   "id": "06b2aa98",
   "metadata": {
    "id": "06b2aa98"
   },
   "source": [
    "Imagine you have a box of different types of toys, like cars, dolls, and blocks. Each toy has its own unique features, such as color, size, and shape. You can also do different things with each toy, like make the car move, change the doll's clothes, or stack the blocks."
   ]
  },
  {
   "cell_type": "markdown",
   "id": "3d6bc2e6",
   "metadata": {
    "id": "3d6bc2e6"
   },
   "source": [
    "Let's take an example of a car. You can create a car object based on a car class, which has attributes like color, size, and speed, and methods like drive, stop, and honk. You can create multiple car objects with different attributes, like a red car, a blue car, or a small car. Each car object can do things like drive, stop, or honk, and you can customize each car object separately."
   ]
  },
  {
   "cell_type": "code",
   "execution_count": null,
   "id": "d6b8b1c2",
   "metadata": {
    "id": "d6b8b1c2",
    "outputId": "3d4d985a-256f-4d41-850a-591927d81743"
   },
   "outputs": [
    {
     "name": "stdout",
     "output_type": "stream",
     "text": [
      "The red car is medium in size and has a speed of 60 mph.\n",
      "The blue car is small in size and has a speed of 40 mph.\n",
      "The green car is large in size and has a speed of 80 mph.\n",
      "The red car is driving at 60 mph.\n",
      "The blue car has stopped.\n",
      "The green car is honking.\n"
     ]
    }
   ],
   "source": [
    "# Define a Car class\n",
    "class Car:\n",
    "    def __init__(self, color, size, speed):\n",
    "        self.color = color\n",
    "        self.size = size\n",
    "        self.speed = speed\n",
    "\n",
    "    def drive(self):\n",
    "        print(f\"The {self.color} car is driving at {self.speed} mph.\")\n",
    "\n",
    "    def stop(self):\n",
    "        print(f\"The {self.color} car has stopped.\")\n",
    "\n",
    "    def honk(self):\n",
    "        print(f\"The {self.color} car is honking.\")\n",
    "\n",
    "# Create car objects\n",
    "red_car = Car(\"red\", \"medium\", 60)\n",
    "blue_car = Car(\"blue\", \"small\", 40)\n",
    "green_car = Car(\"green\", \"large\", 80)\n",
    "\n",
    "# Access attributes of car objects\n",
    "print(f\"The {red_car.color} car is {red_car.size} in size and has a speed of {red_car.speed} mph.\")\n",
    "print(f\"The {blue_car.color} car is {blue_car.size} in size and has a speed of {blue_car.speed} mph.\")\n",
    "print(f\"The {green_car.color} car is {green_car.size} in size and has a speed of {green_car.speed} mph.\")\n",
    "\n",
    "# Call methods of car objects\n",
    "red_car.drive()\n",
    "blue_car.stop()\n",
    "green_car.honk()\n"
   ]
  },
  {
   "cell_type": "markdown",
   "id": "cbf290e2",
   "metadata": {
    "id": "cbf290e2"
   },
   "source": [
    "OOP helps organize your code and make it easier to understand and modify. Just like how you can change the color or size of a toy without changing the whole toy box, you can change the attributes or methods of an object without changing the whole program. You can also reuse the same class to create many objects with similar attributes and methods, just like you can use the same blueprint to build many houses with similar designs."
   ]
  },
  {
   "cell_type": "markdown",
   "id": "a7272e02",
   "metadata": {
    "id": "a7272e02"
   },
   "source": [
    "## Class Definition:\n",
    "\n",
    "A class is defined using the class keyword, followed by the class name. The class name should be in CamelCase convention, starting with an uppercase letter."
   ]
  },
  {
   "cell_type": "code",
   "execution_count": null,
   "id": "447dcba7",
   "metadata": {
    "id": "447dcba7"
   },
   "outputs": [],
   "source": [
    "class MyClass:\n",
    "    # class body\n"
   ]
  },
  {
   "cell_type": "markdown",
   "id": "59a56c67",
   "metadata": {
    "id": "59a56c67"
   },
   "source": [
    "## Objects(instance)  and Instantiation:\n",
    "\n",
    "The object is an entity that has a state and behavior associated with it.\n",
    "An object consists of :\n",
    "\n",
    "    State: It is represented by the attributes of an object. It also reflects the properties of an object.\n",
    "    Behavior: It is represented by the methods of an object. It also reflects the response of an object to other objects.\n",
    "    Identity: It gives a unique name to an object and enables one object to interact with other objects.\n",
    "\n",
    "Once a class is defined, you can create objects or instances of that class by calling the class name followed by parentheses. This process is called instantiation."
   ]
  },
  {
   "cell_type": "code",
   "execution_count": null,
   "id": "66f9f19c",
   "metadata": {
    "id": "66f9f19c"
   },
   "outputs": [],
   "source": [
    "obj = MyClass()  # creates an instance of MyClass"
   ]
  },
  {
   "cell_type": "markdown",
   "id": "216b2e8d",
   "metadata": {
    "id": "216b2e8d"
   },
   "source": [
    "## Class Attributes:\n",
    "\n",
    "Class attributes are variables that are shared by all instances of a class. They are defined within the class body but outside any method.\n",
    "\n",
    "In Class, attributes can be defined into two parts:\n",
    "\n",
    "    Instance variables: The instance variables are attributes attached to an instance of a class. We define instance variables in the constructor ( the __init__() method of a class).\n",
    "    \n",
    "    Class Variables: A class variable is a variable that is declared inside of class, but outside of any instance method or __init()__ method.\n",
    "\n",
    "Class attributes are accessed using the class name followed by dot notation."
   ]
  },
  {
   "cell_type": "code",
   "execution_count": null,
   "id": "a59baf4f",
   "metadata": {
    "id": "a59baf4f",
    "outputId": "f318291c-d7a9-42fe-9cb7-85e7761922c7"
   },
   "outputs": [
    {
     "name": "stdout",
     "output_type": "stream",
     "text": [
      "10\n"
     ]
    }
   ],
   "source": [
    "class MyClass:\n",
    "    x = 10  # class attribute\n",
    "\n",
    "print(MyClass.x)  # prints 10\n"
   ]
  },
  {
   "cell_type": "code",
   "execution_count": null,
   "id": "0aaa7adb",
   "metadata": {
    "id": "0aaa7adb"
   },
   "outputs": [],
   "source": [
    "class MyClass:\n",
    "    y = 20  # class attribute\n",
    "\n",
    "obj = MyClass()\n",
    "print(obj.y)  # prints 20"
   ]
  },
  {
   "cell_type": "markdown",
   "id": "f4303464",
   "metadata": {
    "id": "f4303464"
   },
   "source": [
    "## Instance Attributes:\n",
    "\n",
    "Instance attributes are variables that are unique to each instance of a class. They are defined within a class method using the self keyword. Instance attributes are accessed using the self keyword followed by dot notation."
   ]
  },
  {
   "cell_type": "code",
   "execution_count": null,
   "id": "7714dc67",
   "metadata": {
    "id": "7714dc67",
    "outputId": "60fc1df5-3950-4cfa-f4f1-51f2a43a66e2"
   },
   "outputs": [
    {
     "name": "stdout",
     "output_type": "stream",
     "text": [
      "20\n"
     ]
    }
   ],
   "source": [
    "class MyClass:\n",
    "    def __init__(self):\n",
    "        self.y = 20  # instance attribute\n",
    "\n",
    "obj = MyClass()\n",
    "print(obj.y)  # prints 20\n"
   ]
  },
  {
   "cell_type": "code",
   "execution_count": null,
   "id": "f193ecdb",
   "metadata": {
    "id": "f193ecdb"
   },
   "outputs": [],
   "source": [
    "\n"
   ]
  },
  {
   "cell_type": "markdown",
   "id": "cac0a406",
   "metadata": {
    "id": "cac0a406"
   },
   "source": [
    "## Class Methods:"
   ]
  },
  {
   "cell_type": "code",
   "execution_count": 1,
   "id": "ac438bc0",
   "metadata": {
    "colab": {
     "base_uri": "https://localhost:8080/"
    },
    "executionInfo": {
     "elapsed": 5,
     "status": "ok",
     "timestamp": 1701166110291,
     "user": {
      "displayName": "Data Science perinthalmanna",
      "userId": "16789623483377748101"
     },
     "user_tz": -330
    },
    "id": "ac438bc0",
    "outputId": "5aec9890-ebe3-4844-e7e7-44c3d54b6c80"
   },
   "outputs": [
    {
     "name": "stdout",
     "output_type": "stream",
     "text": [
      "5864\n",
      "Hello 10 20\n"
     ]
    }
   ],
   "source": [
    "class MyClass:\n",
    "    x = 10\n",
    "    y= 20\n",
    "\n",
    "    def print_x(self):\n",
    "        x=5864\n",
    "        print(x)\n",
    "        print(\"Hello\", self.x,self.y)\n",
    "\n",
    "    def add(self):\n",
    "        z = self.x + self.y\n",
    "        print(self.x ,'+', self.y,'=',z)\n",
    "\n",
    "obj = MyClass()\n",
    "\n",
    "obj.print_x()"
   ]
  },
  {
   "cell_type": "code",
   "execution_count": 2,
   "id": "99eb4f7c",
   "metadata": {
    "id": "99eb4f7c",
    "outputId": "926ac537-7c1a-4c71-d3c4-a178fccdb9d5"
   },
   "outputs": [
    {
     "name": "stdout",
     "output_type": "stream",
     "text": [
      "10 + 20 = 30\n"
     ]
    }
   ],
   "source": [
    "obj.add()"
   ]
  },
  {
   "cell_type": "code",
   "execution_count": 3,
   "id": "38681162",
   "metadata": {
    "id": "38681162",
    "outputId": "98873524-d6f4-4298-873e-0650bea6412e"
   },
   "outputs": [
    {
     "name": "stdout",
     "output_type": "stream",
     "text": [
      "5864\n",
      "Hello Alexa 20\n"
     ]
    }
   ],
   "source": [
    "obj.x = 'Alexa'\n",
    "obj.print_x()"
   ]
  },
  {
   "cell_type": "code",
   "execution_count": 4,
   "id": "550a5a8f",
   "metadata": {
    "id": "550a5a8f",
    "outputId": "b6471b29-baf8-4f29-864b-f3857a83fbad"
   },
   "outputs": [
    {
     "name": "stdout",
     "output_type": "stream",
     "text": [
      "5 + 8 = 13\n",
      "5864\n",
      "Hello 5 8\n"
     ]
    }
   ],
   "source": [
    "obj.x = 5\n",
    "obj.y = 8\n",
    "obj.add()\n",
    "obj.print_x()"
   ]
  },
  {
   "cell_type": "code",
   "execution_count": null,
   "id": "c6a40276",
   "metadata": {
    "id": "c6a40276",
    "outputId": "140b8854-d472-4d14-d0f5-3d5d554cd158"
   },
   "outputs": [
    {
     "name": "stdout",
     "output_type": "stream",
     "text": [
      "Area of Room = 1309.0\n"
     ]
    }
   ],
   "source": [
    "# create a class\n",
    "class Room:\n",
    "    length = 0.0\n",
    "    breadth = 0.0\n",
    "\n",
    "    # method to calculate area\n",
    "    def calculate_area(self):\n",
    "        print(\"Area of Room =\", self.length * self.breadth)\n",
    "\n",
    "# create object of Room class\n",
    "study_room = Room()\n",
    "\n",
    "# assign values to all the attributes\n",
    "study_room.length = 42.5\n",
    "study_room.breadth = 30.8\n",
    "\n",
    "# access method inside class\n",
    "study_room.calculate_area()"
   ]
  },
  {
   "cell_type": "code",
   "execution_count": null,
   "id": "7b0242e3",
   "metadata": {
    "id": "7b0242e3"
   },
   "outputs": [],
   "source": []
  },
  {
   "cell_type": "markdown",
   "id": "47e21e65",
   "metadata": {
    "id": "47e21e65"
   },
   "source": [
    "### Problem\n",
    "Create a class called BankAccount with attributes balance and account_number. Add methods to deposit and withdraw money from the account, and a method to print the current balance."
   ]
  },
  {
   "cell_type": "code",
   "execution_count": null,
   "id": "cb5ae845",
   "metadata": {
    "id": "cb5ae845",
    "outputId": "ff6e4836-d220-4454-adcd-37d669868c5e"
   },
   "outputs": [
    {
     "name": "stdout",
     "output_type": "stream",
     "text": [
      "Balance:  1000\n",
      "Balance:  1500\n",
      "Balance:  1300\n"
     ]
    }
   ],
   "source": [
    "class BankAccount:\n",
    "    balance = 1000\n",
    "    account_number = 1919\n",
    "\n",
    "    def deposit(self,amount):\n",
    "        self.balance += amount\n",
    "\n",
    "    def withdraw(self,amount):\n",
    "        if self.balance<amount:\n",
    "            print(\"Insufficient balance\")\n",
    "        else:\n",
    "            self.balance -= amount\n",
    "\n",
    "    def print_current_balance(self):\n",
    "        print(\"Balance: \",self.balance)\n",
    "\n",
    "BA =  BankAccount()\n",
    "BA.print_current_balance()\n",
    "BA.deposit(500)\n",
    "BA.print_current_balance()\n",
    "BA.withdraw(200)\n",
    "BA.print_current_balance()"
   ]
  },
  {
   "cell_type": "code",
   "execution_count": null,
   "id": "d62e26ec",
   "metadata": {
    "id": "d62e26ec"
   },
   "outputs": [],
   "source": []
  },
  {
   "cell_type": "markdown",
   "id": "95e5d94e",
   "metadata": {
    "id": "95e5d94e"
   },
   "source": [
    "### Python Constructors\n",
    "\n",
    "A constructor is a special type of method (function) which is used to initialize the instance members of the class.\n",
    "\n",
    "\"__init__()\" is always executed when the class is being initiated."
   ]
  },
  {
   "cell_type": "code",
   "execution_count": 1,
   "id": "62a37dbb",
   "metadata": {
    "id": "62a37dbb",
    "outputId": "8b8fd279-8db4-4ca7-f784-e8ea84695eb9"
   },
   "outputs": [
    {
     "name": "stdout",
     "output_type": "stream",
     "text": [
      "\n"
     ]
    }
   ],
   "source": [
    "class Bike:\n",
    "    # constructor function\n",
    "    def __init__(self,name = \"\"):\n",
    "        self.name = name\n",
    "        print(self.name)\n",
    "\n",
    "bike1 = Bike()"
   ]
  },
  {
   "cell_type": "code",
   "execution_count": 2,
   "id": "3322f57b",
   "metadata": {
    "id": "3322f57b",
    "outputId": "a58e7c86-c43c-4ea2-ecbd-3396ebb0978d"
   },
   "outputs": [
    {
     "name": "stdout",
     "output_type": "stream",
     "text": [
      "Mountain Bike\n"
     ]
    }
   ],
   "source": [
    "bike1 = Bike(\"Mountain Bike\")"
   ]
  },
  {
   "cell_type": "code",
   "execution_count": null,
   "id": "2b2658d3",
   "metadata": {
    "id": "2b2658d3",
    "outputId": "8409ad16-3c83-4902-e092-3c05b1fc32a6"
   },
   "outputs": [
    {
     "name": "stdout",
     "output_type": "stream",
     "text": [
      "Balance:  2500\n"
     ]
    }
   ],
   "source": [
    "class BankAccount:\n",
    "    def __init__(self,balance=1000,account_number=222):\n",
    "        self.balance = balance\n",
    "        self.account_number = account_number\n",
    "\n",
    "    def deposit(self,amount):\n",
    "        self.balance += amount\n",
    "\n",
    "    def withdraw(self,amount):\n",
    "        if self.balance<amount:\n",
    "            print(\"Insufficient balance\")\n",
    "        else:\n",
    "            self.balance -= amount\n",
    "\n",
    "    def print_current_balance(self):\n",
    "        print(\"Balance: \",self.balance)\n",
    "\n",
    "#BA =  BankAccount()\n",
    "BA =  BankAccount(2000,5555)\n",
    "BA.deposit(500)\n",
    "BA.print_current_balance()"
   ]
  },
  {
   "cell_type": "code",
   "execution_count": null,
   "id": "f02e785e",
   "metadata": {
    "id": "f02e785e",
    "outputId": "a43c825e-cfa1-4850-e652-53d876c8ac0b"
   },
   "outputs": [
    {
     "name": "stdout",
     "output_type": "stream",
     "text": [
      "Balance:  1500\n"
     ]
    }
   ],
   "source": [
    "BA.withdraw(1000)\n",
    "BA.print_current_balance()"
   ]
  },
  {
   "cell_type": "code",
   "execution_count": null,
   "id": "9c365a5e",
   "metadata": {
    "id": "9c365a5e"
   },
   "outputs": [],
   "source": []
  },
  {
   "cell_type": "code",
   "execution_count": null,
   "id": "a2b640ce",
   "metadata": {
    "id": "a2b640ce"
   },
   "outputs": [],
   "source": []
  },
  {
   "cell_type": "markdown",
   "id": "6283b0a4",
   "metadata": {
    "id": "6283b0a4"
   },
   "source": [
    "#### The __str__() Function\n",
    "\n",
    "controls what should be returned when the class object is represented as a string."
   ]
  },
  {
   "cell_type": "code",
   "execution_count": null,
   "id": "03806b83",
   "metadata": {
    "id": "03806b83",
    "outputId": "7fbbd0fa-2b64-4f80-c845-c7ee587e4dd4"
   },
   "outputs": [
    {
     "name": "stdout",
     "output_type": "stream",
     "text": [
      "<__main__.Person object at 0x000001CA520BF8E0>\n",
      "John\n",
      "36\n"
     ]
    }
   ],
   "source": [
    "# he string representation of an object WITHOUT the __str__() function:\n",
    "class Person:\n",
    "  def __init__(self, name, age):\n",
    "    self.name = name\n",
    "    self.age = age\n",
    "\n",
    "p1 = Person(\"John\", 36)\n",
    "print(p1)\n",
    "print(p1.name)\n",
    "print(p1.age)"
   ]
  },
  {
   "cell_type": "code",
   "execution_count": null,
   "id": "1d6714b3",
   "metadata": {
    "colab": {
     "base_uri": "https://localhost:8080/"
    },
    "executionInfo": {
     "elapsed": 420,
     "status": "ok",
     "timestamp": 1701168540409,
     "user": {
      "displayName": "Data Science perinthalmanna",
      "userId": "16789623483377748101"
     },
     "user_tz": -330
    },
    "id": "1d6714b3",
    "outputId": "1f149ee9-4a49-4537-b491-18c65bac9179"
   },
   "outputs": [
    {
     "name": "stdout",
     "output_type": "stream",
     "text": [
      "John - 36.6\n"
     ]
    }
   ],
   "source": [
    "# The string representation of an object WITH the __str__() function:\n",
    "class Person:\n",
    "  def __init__(self, name, age):\n",
    "    self.name = name\n",
    "    self.age = age\n",
    "\n",
    "  def __str__(self):\n",
    "    return f\"{self.name} - {self.age}\"\n",
    "\n",
    "p1 = Person(\"John\", 36.6)\n",
    "print(p1)\n"
   ]
  },
  {
   "cell_type": "code",
   "execution_count": null,
   "id": "574101f1",
   "metadata": {
    "id": "574101f1",
    "outputId": "f98a9063-cb73-4f97-84f8-55bd426eebbb"
   },
   "outputs": [
    {
     "data": {
      "text/plain": [
       "float"
      ]
     },
     "execution_count": 16,
     "metadata": {},
     "output_type": "execute_result"
    }
   ],
   "source": [
    "type(p1.age)"
   ]
  },
  {
   "cell_type": "code",
   "execution_count": null,
   "id": "6c6e4d77",
   "metadata": {
    "id": "6c6e4d77"
   },
   "outputs": [],
   "source": []
  },
  {
   "cell_type": "markdown",
   "id": "27d2559d",
   "metadata": {
    "id": "27d2559d"
   },
   "source": [
    "## Python Inheritance"
   ]
  },
  {
   "cell_type": "markdown",
   "id": "c29bc408",
   "metadata": {
    "id": "c29bc408"
   },
   "source": [
    "Inheritance allows us to define a class that inherits all the methods and properties from another class.\n",
    "\n",
    "    Parent class(Super class) is the class being inherited from, also called base class.\n",
    "\n",
    "    Child class(Sub class) is the class that inherits from another class, also called derived class."
   ]
  },
  {
   "cell_type": "markdown",
   "id": "be4dea0b",
   "metadata": {
    "id": "be4dea0b"
   },
   "source": [
    "#### define a superclass\n",
    "class super_class:\n",
    "\n",
    "    # attributes and method definition\n",
    "\n",
    "#### inheritance\n",
    "\n",
    "class sub_class(super_class):\n",
    "\n",
    "    # attributes and method of super_class\n",
    "    # attributes and method of sub_class"
   ]
  },
  {
   "cell_type": "code",
   "execution_count": 3,
   "id": "7efe9232",
   "metadata": {
    "id": "7efe9232",
    "outputId": "0d21d857-6085-4ec3-9442-6590480ebe8d"
   },
   "outputs": [
    {
     "name": "stdout",
     "output_type": "stream",
     "text": [
      "I can eat\n",
      "My name is  Rohu\n"
     ]
    }
   ],
   "source": [
    "class Animal:\n",
    "    # attribute and method of the parent class\n",
    "    name = \"\"\n",
    "    def eat(self):\n",
    "        print(\"I can eat\")\n",
    "\n",
    "# inherit from Animal\n",
    "class Dog(Animal):\n",
    "    # new method in subclass\n",
    "    def display(self):\n",
    "        # access name attribute of superclass using self\n",
    "        print(\"My name is \", self.name)\n",
    "\n",
    "# create an object of the subclass\n",
    "labrador = Dog()\n",
    "\n",
    "# access superclass attribute and method\n",
    "labrador.name = \"Rohu\"\n",
    "labrador.eat()\n",
    "\n",
    "# call subclass method\n",
    "labrador.display()"
   ]
  },
  {
   "cell_type": "markdown",
   "id": "111dac2d",
   "metadata": {
    "id": "111dac2d"
   },
   "source": [
    "### Task: Inheritance with Parent Class Polygon\n",
    "\n",
    "Create a parent class called Polygon with attributes num_sides and side_lengths. The Polygon class should also have a method calculate_perimeter that calculates the perimeter of the polygon.\n",
    "\n",
    "Now, create child classes for different types of polygons:\n",
    "\n",
    "    Triangle - A subclass of Polygon with a constructor that takes three side lengths as arguments. Implement a method to calculate the area using Heron's formula.\n",
    "    \n",
    "    Rectangle - A subclass of Polygon with a constructor that takes the length and width of the rectangle as arguments. Implement methods to calculate the area and diagonal length.\n",
    "    \n",
    "    Pentagon - A subclass of Polygon with a constructor that takes five side lengths as arguments. Implement a method to calculate the area using the apothem and perimeter.\n",
    "    \n",
    "    Hexagon - A subclass of Polygon with a constructor that takes six side lengths as arguments. Implement a method to calculate the area using the apothem and perimeter."
   ]
  },
  {
   "cell_type": "code",
   "execution_count": 4,
   "id": "7223dcdb",
   "metadata": {
    "id": "7223dcdb",
    "outputId": "805b510a-e073-46e5-a76e-93f1c920a325"
   },
   "outputs": [
    {
     "name": "stdout",
     "output_type": "stream",
     "text": [
      "Enter side 1 : 56\n",
      "Enter side 2 : 25\n",
      "Enter side 3 : 32\n",
      "Side 1 is 56.0\n",
      "Side 2 is 25.0\n",
      "Side 3 is 32.0\n",
      "The area of the triangle is 147.65\n"
     ]
    }
   ],
   "source": [
    "class Polygon:\n",
    "    # Initializing the number of sides\n",
    "    def __init__(self, no_of_sides):\n",
    "        self.n = no_of_sides\n",
    "        self.sides = [0 for i in range(no_of_sides)]\n",
    "\n",
    "    def inputSides(self):\n",
    "        \n",
    "        self.sides = [float(input(\"Enter side \"+str(i+1)+\" : \")) for i in range(self.n)]\n",
    "\n",
    "    # method to display the length of each side of the polygon\n",
    "    def dispSides(self):\n",
    "        for i in range(self.n):\n",
    "            print(\"Side\",i+1,\"is\",self.sides[i])\n",
    "\n",
    "class Triangle(Polygon):\n",
    "    # Initializing the number of sides of the triangle to 3 by\n",
    "    # calling the __init__ method of the Polygon class\n",
    "    def __init__(self):\n",
    "        Polygon.__init__(self,3)\n",
    "    def findArea(self):\n",
    "        a, b, c = self.sides\n",
    "\n",
    "        # calculate the semi-perimeter\n",
    "        s = (a + b + c) / 2\n",
    "\n",
    "        # Using Heron's formula to calculate the area of the triangle\n",
    "        area = (s*(s-a)*(s-b)*(s-c)) ** 0.5\n",
    "        print('The area of the triangle is %0.2f' %area)\n",
    "\n",
    "# Creating an instance of the Triangle class\n",
    "t = Triangle()\n",
    "\n",
    "# Prompting the user to enter the sides of the triangle\n",
    "t.inputSides()\n",
    "\n",
    "# Displaying the sides of the triangle\n",
    "t.dispSides()\n",
    "\n",
    "# Calculating and printing the area of the triangle\n",
    "t.findArea()"
   ]
  },
  {
   "cell_type": "markdown",
   "id": "fea32a98",
   "metadata": {
    "id": "fea32a98"
   },
   "source": [
    "## Polymorphism"
   ]
  },
  {
   "cell_type": "markdown",
   "id": "c8f447dc",
   "metadata": {
    "id": "c8f447dc"
   },
   "source": [
    "The word <b>\"polymorphism\"</b> means \"many forms\", and in programming it refers to methods/functions/operators with the same name that can be executed on many objects or classes.\n",
    "\n",
    "It allows objects of different classes to be treated as objects of a common superclass.\n",
    "\n",
    "There are two types of polymorphism in Python:\n",
    "\n",
    "    > Compile-time Polymorphism (Method Overloading)\n",
    "    > Runtime Polymorphism (Method Overriding)"
   ]
  },
  {
   "cell_type": "markdown",
   "id": "723683d4",
   "metadata": {
    "id": "723683d4"
   },
   "source": [
    "### Compile-time Polymorphism (Method Overloading):\n",
    "\n",
    "Method overloading allows a class to have multiple methods with the same name but different parameters. However, Python does not support true method overloading like some other languages (Java or C++). Still, you can achieve a similar effect using default arguments."
   ]
  },
  {
   "cell_type": "code",
   "execution_count": null,
   "id": "a18b20b0",
   "metadata": {
    "id": "a18b20b0",
    "outputId": "62b6b315-f7ef-4044-dbd4-bf76d7c0565c"
   },
   "outputs": [
    {
     "name": "stdout",
     "output_type": "stream",
     "text": [
      "2\n",
      "5\n",
      "9\n"
     ]
    }
   ],
   "source": [
    "class MathOperations:\n",
    "    def add(self, a, b=None, c=None):\n",
    "        if c is None:\n",
    "            if b is None:\n",
    "                return a\n",
    "            return a + b\n",
    "        return a + b + c\n",
    "\n",
    "calculator = MathOperations()\n",
    "\n",
    "print(calculator.add(2))\n",
    "print(calculator.add(2, 3))\n",
    "print(calculator.add(2, 3, 4))\n"
   ]
  },
  {
   "cell_type": "markdown",
   "id": "8f4f276e",
   "metadata": {
    "id": "8f4f276e"
   },
   "source": [
    "### Runtime Polymorphism - Method Overriding in Python Inheritance\n",
    "\n",
    "In the previous example, we see the object of the subclass can access the method of the superclass.\n",
    "\n",
    "However, what if the same method is present in both the superclass and subclass?\n",
    "\n",
    "In this case, the method in the subclass overrides the method in the superclass. This concept is known as method overriding in Python."
   ]
  },
  {
   "cell_type": "code",
   "execution_count": 1,
   "id": "d517afb9",
   "metadata": {
    "id": "d517afb9",
    "outputId": "38dbde32-23a5-4e81-8fec-fef7fcec73ec"
   },
   "outputs": [
    {
     "name": "stdout",
     "output_type": "stream",
     "text": [
      "I like to eat bones\n"
     ]
    }
   ],
   "source": [
    "class Animal:\n",
    "    # attributes and method of the parent class\n",
    "    name = \"\"\n",
    "    def eat(self):\n",
    "        print(\"I can eat\")\n",
    "\n",
    "# inherit from Animal\n",
    "class Dog(Animal):\n",
    "    # override eat() method\n",
    "    def eat(self):\n",
    "        print(\"I like to eat bones\")\n",
    "\n",
    "# create an object of the subclass\n",
    "labrador = Dog()\n",
    "\n",
    "# call the eat() method on the labrador object\n",
    "labrador.eat()"
   ]
  },
  {
   "cell_type": "markdown",
   "id": "a8c84d80",
   "metadata": {
    "id": "a8c84d80"
   },
   "source": [
    "In the above example, the same method eat() is present in both the Dog class and the Animal class.\n",
    "\n",
    "Now, when we call the eat() method using the object of the Dog subclass, the method of the Dog class is called.\n",
    "\n",
    "This is because the eat() method of the Dog subclass overrides the same method of the Animal superclass."
   ]
  },
  {
   "cell_type": "markdown",
   "id": "d38c49d2",
   "metadata": {
    "id": "d38c49d2"
   },
   "source": [
    "### The super() Method in Python Inheritance\n",
    "\n",
    "Previously we saw that the same method in the subclass overrides the method in the superclass.\n",
    "\n",
    "However, if we need to access the superclass method from the subclass, we use the super() method."
   ]
  },
  {
   "cell_type": "code",
   "execution_count": 2,
   "id": "28cba603",
   "metadata": {
    "id": "28cba603",
    "outputId": "f1f751b7-037f-44af-a042-4d421a21b1db"
   },
   "outputs": [
    {
     "name": "stdout",
     "output_type": "stream",
     "text": [
      "I can eat\n",
      "I like to eat bones\n"
     ]
    }
   ],
   "source": [
    "class Animal:\n",
    "    name = \"\"\n",
    "    def eat(self):\n",
    "        print(\"I can eat\")\n",
    "\n",
    "# inherit from Animal\n",
    "class Dog(Animal):\n",
    "    # override eat() method\n",
    "    def eat(self):\n",
    "        # call the eat() method of the superclass using super()\n",
    "        super().eat()\n",
    "        print(\"I like to eat bones\")\n",
    "\n",
    "# create an object of the subclass\n",
    "labrador = Dog()\n",
    "\n",
    "labrador.eat()"
   ]
  },
  {
   "cell_type": "markdown",
   "id": "dbe33c2a",
   "metadata": {
    "id": "dbe33c2a"
   },
   "source": [
    "##  Multiple Inheritance\n",
    "A class can be derived from more than one superclass in Python. This is called multiple inheritance.\n",
    "\n",
    "For example, A class Bat is derived from superclasses Mammal and WingedAnimal. It makes sense because bat is a mammal as well as a winged animal."
   ]
  },
  {
   "cell_type": "markdown",
   "id": "79aa0c32",
   "metadata": {
    "id": "79aa0c32"
   },
   "source": [
    "![image.png](attachment:image.png)"
   ]
  },
  {
   "cell_type": "markdown",
   "id": "60a88252",
   "metadata": {
    "id": "60a88252"
   },
   "source": [
    "class SuperClass1:\n",
    "\n",
    "    # features of SuperClass1\n",
    "\n",
    "class SuperClass2:\n",
    "\n",
    "    # features of SuperClass2\n",
    "\n",
    "class MultiDerived(SuperClass1, SuperClass2):\n",
    "\n",
    "    # features of SuperClass1 + SuperClass2 + MultiDerived class"
   ]
  },
  {
   "cell_type": "code",
   "execution_count": null,
   "id": "e96fdb59",
   "metadata": {
    "id": "e96fdb59",
    "outputId": "65e7f712-037e-4cb0-dd5c-c45081515ae0"
   },
   "outputs": [
    {
     "name": "stdout",
     "output_type": "stream",
     "text": [
      "Mammals can give direct birth.\n",
      "Winged animals can flap.\n"
     ]
    }
   ],
   "source": [
    "class Mammal:\n",
    "    def mammal_info(self):\n",
    "        print(\"Mammals can give direct birth.\")\n",
    "\n",
    "class WingedAnimal:\n",
    "    def winged_animal_info(self):\n",
    "        print(\"Winged animals can flap.\")\n",
    "\n",
    "class Bat(Mammal, WingedAnimal):\n",
    "    pass\n",
    "\n",
    "# create an object of Bat class\n",
    "b1 = Bat()\n",
    "\n",
    "b1.mammal_info()\n",
    "b1.winged_animal_info()"
   ]
  },
  {
   "cell_type": "markdown",
   "id": "56dc5467",
   "metadata": {
    "id": "56dc5467"
   },
   "source": [
    "## Multilevel Inheritance"
   ]
  },
  {
   "cell_type": "markdown",
   "id": "0382189a",
   "metadata": {
    "id": "0382189a"
   },
   "source": [
    "Multilevel inheritance involves creating a chain of inheritance, where a class inherits from a parent class, and another class inherits from that child class."
   ]
  },
  {
   "cell_type": "code",
   "execution_count": null,
   "id": "8665dd8b",
   "metadata": {
    "id": "8665dd8b",
    "outputId": "87f3a678-7420-4a2b-f2fe-47d797a539e3"
   },
   "outputs": [
    {
     "name": "stdout",
     "output_type": "stream",
     "text": [
      "Fido says: Woof!\n",
      "Whiskers says: Meow!\n",
      "Baldy says: Screech!\n"
     ]
    }
   ],
   "source": [
    "class Animal:\n",
    "    def __init__(self, name):\n",
    "        self.name = name\n",
    "\n",
    "    def speak(self):\n",
    "        pass\n",
    "\n",
    "class Mammal(Animal):\n",
    "    def give_birth(self):\n",
    "        pass\n",
    "\n",
    "class Dog(Mammal):\n",
    "    def speak(self):\n",
    "        return \"Woof!\"\n",
    "\n",
    "class Cat(Mammal):\n",
    "    def speak(self):\n",
    "        return \"Meow!\"\n",
    "\n",
    "class Bird(Animal):\n",
    "    def fly(self):\n",
    "        pass\n",
    "\n",
    "class Eagle(Bird):\n",
    "    def speak(self):\n",
    "        return \"Screech!\"\n",
    "\n",
    "# Creating instances\n",
    "dog = Dog(\"Fido\")\n",
    "cat = Cat(\"Whiskers\")\n",
    "eagle = Eagle(\"Baldy\")\n",
    "\n",
    "# Accessing methods\n",
    "print(f\"{dog.name} says: {dog.speak()}\")\n",
    "print(f\"{cat.name} says: {cat.speak()}\")\n",
    "print(f\"{eagle.name} says: {eagle.speak()}\")\n",
    "\n",
    "# Since the Bird class doesn't have a speak() method, it will use the one from the Animal class.\n"
   ]
  },
  {
   "cell_type": "markdown",
   "id": "96f96670",
   "metadata": {
    "id": "96f96670"
   },
   "source": [
    "In this example:\n",
    "\n",
    "    Animal is the grandparent class, which provides a basic structure for all animals.\n",
    "    Mammal inherits from Animal and adds a method give_birth.\n",
    "    Dog and Cat inherit from Mammal and override the speak method to provide specific sounds for each animal.\n",
    "    Bird inherits from Animal and adds a fly method.\n",
    "    Eagle inherits from Bird and overrides the speak method.\n",
    "\n",
    "When we create instances of these classes and call their speak method, the appropriate speak method for each type of animal will be used."
   ]
  },
  {
   "cell_type": "markdown",
   "id": "7a306b12",
   "metadata": {
    "id": "7a306b12"
   },
   "source": [
    "## Hierarchical Inheritance"
   ]
  },
  {
   "cell_type": "markdown",
   "id": "20c45807",
   "metadata": {
    "id": "20c45807"
   },
   "source": [
    "Hierarchical inheritance occurs when multiple classes inherit from the same parent class."
   ]
  },
  {
   "cell_type": "code",
   "execution_count": null,
   "id": "90a13749",
   "metadata": {
    "id": "90a13749",
    "outputId": "1a0e0bac-4da7-4714-c694-ac3e1e2b4b16"
   },
   "outputs": [
    {
     "name": "stdout",
     "output_type": "stream",
     "text": [
      "Fido says: Woof!\n",
      "Whiskers says: Meow!\n",
      "Tweety says: Chirp!\n"
     ]
    }
   ],
   "source": [
    "class Animal:\n",
    "    def __init__(self, name):\n",
    "        self.name = name\n",
    "\n",
    "    def speak(self):\n",
    "        pass\n",
    "\n",
    "class Dog(Animal):\n",
    "    def speak(self):\n",
    "        return \"Woof!\"\n",
    "\n",
    "class Cat(Animal):\n",
    "    def speak(self):\n",
    "        return \"Meow!\"\n",
    "\n",
    "class Bird(Animal):\n",
    "    def speak(self):\n",
    "        return \"Chirp!\"\n",
    "\n",
    "# Creating instances\n",
    "dog = Dog(\"Fido\")\n",
    "cat = Cat(\"Whiskers\")\n",
    "bird = Bird(\"Tweety\")\n",
    "\n",
    "# Accessing methods\n",
    "print(f\"{dog.name} says: {dog.speak()}\")\n",
    "print(f\"{cat.name} says: {cat.speak()}\")\n",
    "print(f\"{bird.name} says: {bird.speak()}\")\n"
   ]
  },
  {
   "cell_type": "code",
   "execution_count": null,
   "id": "1906f10e",
   "metadata": {
    "id": "1906f10e"
   },
   "outputs": [],
   "source": []
  },
  {
   "cell_type": "markdown",
   "id": "59df4241",
   "metadata": {
    "id": "59df4241"
   },
   "source": [
    "## Data Encapsulation\n",
    "\n",
    "It describes the idea of wrapping data and the methods that work on data within one unit. This puts restrictions on accessing variables and methods directly and can prevent the accidental modification of data. To prevent accidental change, an object’s variable can only be changed by an object’s method. Those types of variables are known as <b>private variables</b>.\n",
    "\n",
    "    Imagine you have a box with a lock on it. The box (class) contains some valuable items (data) and a set of instructions (methods) on how to use those items. The lock (encapsulation) keeps the contents safe and private, allowing only specific actions (methods) to interact with the items inside.\n",
    "\n",
    "A class is an example of encapsulation as it encapsulates all the data that is member functions, variables, etc. The goal of information hiding is to ensure that an object’s state is always valid by controlling access to attributes that are hidden from the outside world.\n",
    "\n",
    "In easy way, encapsulation is just the way to place your code at single place in such a way that it should be compact and restricted from the outside world to access protected or restricted data.\n",
    "![image.png](attachment:image.png)"
   ]
  },
  {
   "cell_type": "markdown",
   "id": "3cc090d8",
   "metadata": {
    "id": "3cc090d8"
   },
   "source": [
    "The given code demonstrates encapsulation by defining a class <b>Mobile</b> that encapsulates data about a mobile phone (brand, model, and price) along with methods to interact with the phone (making a call and providing information about the mobile). The data is accessed and modified through the methods defined within the class. This ensures that the data is controlled and allows for proper interaction with the object."
   ]
  },
  {
   "cell_type": "code",
   "execution_count": null,
   "id": "80fc9014",
   "metadata": {
    "colab": {
     "base_uri": "https://localhost:8080/"
    },
    "executionInfo": {
     "elapsed": 7,
     "status": "ok",
     "timestamp": 1699423282674,
     "user": {
      "displayName": "Data Science perinthalmanna",
      "userId": "16789623483377748101"
     },
     "user_tz": -330
    },
    "id": "80fc9014",
    "outputId": "4cdc2c2a-8dc7-41e6-8979-60dfd0055b01"
   },
   "outputs": [
    {
     "name": "stdout",
     "output_type": "stream",
     "text": [
      "calling to 9888111799\n",
      "Cell 2500\n"
     ]
    }
   ],
   "source": [
    "#example of encapsulation\n",
    "\n",
    "class Mobile:\n",
    "    def __init__(self, brand, model, price):\n",
    "        self.brand = brand\n",
    "        self.model = model\n",
    "        self.price = price\n",
    "\n",
    "    def call(self, number):\n",
    "        print(\"calling to \"+str(number))\n",
    "\n",
    "    def main(self):\n",
    "        return self.brand+\" \"+str(self.price)\n",
    "\n",
    "obj = Mobile(\"Cell\",1100,2500)\n",
    "obj.call(9888111799)\n",
    "print(obj.main())"
   ]
  },
  {
   "cell_type": "markdown",
   "id": "e57a1b07",
   "metadata": {
    "id": "e57a1b07"
   },
   "source": [
    "## Data abstraction"
   ]
  },
  {
   "cell_type": "markdown",
   "id": "2ffd843f",
   "metadata": {
    "id": "2ffd843f"
   },
   "source": [
    "Data abstraction is a key concept in object-oriented programming (OOP) that focuses on hiding the complex implementation details of a class and exposing only the essential features and functionalities. Abstraction allows you to create a simplified model of a real-world object by defining a clear interface and hiding the underlying complexities.\n",
    "\n",
    "User is familiar with that <b>\"what function does\"</b> but they don't know <b>\"how it does.\"</b>\n",
    "\n",
    "By default, Python does not provide abstract classes. Python comes with a module that provides the base for defining <b>Abstract Base classes(ABC)</b> and that module name is <b>ABC</b>. ABC works by decorating methods of the base class as abstract and then registering concrete classes as implementations of the abstract base. A method becomes abstract when decorated with the keyword <b>@abstractmethod</b>."
   ]
  },
  {
   "cell_type": "code",
   "execution_count": null,
   "id": "5c8bc2df",
   "metadata": {
    "id": "5c8bc2df"
   },
   "outputs": [],
   "source": []
  },
  {
   "cell_type": "code",
   "execution_count": null,
   "id": "cedcc7d0",
   "metadata": {
    "id": "cedcc7d0",
    "outputId": "5ef5333a-dea7-4b0c-9265-1888e91765a8"
   },
   "outputs": [
    {
     "name": "stdout",
     "output_type": "stream",
     "text": [
      "Area: 78.5\n",
      "Area: 24\n"
     ]
    }
   ],
   "source": [
    "from abc import ABC, abstractmethod\n",
    "\n",
    "class Shape(ABC):\n",
    "    @abstractmethod\n",
    "    def area(self):\n",
    "        pass\n",
    "\n",
    "class Circle(Shape):\n",
    "    def __init__(self, radius):\n",
    "        self.radius = radius\n",
    "\n",
    "    def area(self):\n",
    "        return 3.14 * self.radius * self.radius\n",
    "\n",
    "class Rectangle(Shape):\n",
    "    def __init__(self, width, height):\n",
    "        self.width = width\n",
    "        self.height = height\n",
    "\n",
    "    def area(self):\n",
    "        return self.width * self.height\n",
    "\n",
    "circle = Circle(5)\n",
    "rectangle = Rectangle(4, 6)\n",
    "\n",
    "shapes = [circle, rectangle]\n",
    "\n",
    "for shape in shapes:\n",
    "    print(f\"Area: {shape.area()}\")\n"
   ]
  },
  {
   "cell_type": "code",
   "execution_count": null,
   "id": "70824af7",
   "metadata": {
    "id": "70824af7",
    "outputId": "9eedf9f3-494f-42f6-8e84-fb12ded3727b"
   },
   "outputs": [
    {
     "name": "stdout",
     "output_type": "stream",
     "text": [
      "Subject is Maths\n",
      "Subject is Physics\n",
      "Subject is Chemistry\n",
      "Subject is English\n"
     ]
    }
   ],
   "source": [
    "# abstraction in python\n",
    "from abc import ABC,abstractmethod\n",
    "\n",
    "# abstract class\n",
    "class Subject(ABC):\n",
    "    @abstractmethod\n",
    "    def subject(self):\n",
    "        pass\n",
    "\n",
    "class Maths(Subject):\n",
    "    # override superclass method\n",
    "    def subject(self):\n",
    "        print(\"Subject is Maths\")\n",
    "\n",
    "class Physics(Subject):\n",
    "    # override superclass method\n",
    "    def subject(self):\n",
    "        print(\"Subject is Physics\")\n",
    "\n",
    "class Chemistry(Subject):\n",
    "    # override superclass method\n",
    "    def subject(self):\n",
    "        print(\"Subject is Chemistry\")\n",
    "\n",
    "class English(Subject):\n",
    "    # override superclass method\n",
    "    def subject(self):\n",
    "        print(\"Subject is English\")\n",
    "\n",
    "maths=Maths()\n",
    "maths.subject()\n",
    "\n",
    "physics=Physics()\n",
    "physics.subject()\n",
    "\n",
    "chemistry=Chemistry()\n",
    "chemistry.subject()\n",
    "\n",
    "english=English()\n",
    "english.subject()"
   ]
  },
  {
   "cell_type": "markdown",
   "id": "8d94e073",
   "metadata": {
    "id": "8d94e073"
   },
   "source": [
    "### What are Concrete Methods in Abstract Base Class(ABC)?\n",
    "\n",
    "If a class contains only concrete methods ( normal methods) we can say it is a concrete class. On the other hand, an abstract class contains both normal and abstract methods. The concrete class is mainly used to provide an implementation of the abstract methods of the abstract superclass."
   ]
  },
  {
   "cell_type": "code",
   "execution_count": null,
   "id": "d6bc9fac",
   "metadata": {
    "id": "d6bc9fac",
    "outputId": "c44d5abe-1d25-4c62-e67d-20ae508c6e79"
   },
   "outputs": [
    {
     "name": "stdout",
     "output_type": "stream",
     "text": [
      "The abstract superclass\n",
      "The subclass\n"
     ]
    }
   ],
   "source": [
    "import abc\n",
    "from abc import ABC, abstractmethod\n",
    "\n",
    "class SuperClass(ABC):\n",
    "    @abstractmethod\n",
    "    def my_method(self):\n",
    "        print(\"The abstract superclass\")\n",
    "\n",
    "class SubClass(SuperClass):\n",
    "    def my_method(self):\n",
    "        super().my_method()\n",
    "        print(\"The subclass\")\n",
    "\n",
    "obj=SubClass()\n",
    "obj.my_method()"
   ]
  },
  {
   "cell_type": "markdown",
   "id": "6c52a1e9",
   "metadata": {
    "id": "6c52a1e9"
   },
   "source": [
    "In the above program, we created an abstract class SuperClass with an abstract method my_method. We also created a concrete class SubClass in that we created a normal method my_method which overrides the superclass method we also called super class method using the super() method in a subclass."
   ]
  },
  {
   "cell_type": "code",
   "execution_count": null,
   "id": "1733c0f7",
   "metadata": {
    "id": "1733c0f7"
   },
   "outputs": [],
   "source": []
  }
 ],
 "metadata": {
  "colab": {
   "provenance": []
  },
  "kernelspec": {
   "display_name": "Python 3 (ipykernel)",
   "language": "python",
   "name": "python3"
  },
  "language_info": {
   "codemirror_mode": {
    "name": "ipython",
    "version": 3
   },
   "file_extension": ".py",
   "mimetype": "text/x-python",
   "name": "python",
   "nbconvert_exporter": "python",
   "pygments_lexer": "ipython3",
   "version": "3.11.5"
  }
 },
 "nbformat": 4,
 "nbformat_minor": 5
}

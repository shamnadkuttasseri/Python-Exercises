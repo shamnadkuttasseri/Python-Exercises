{
 "cells": [
  {
   "cell_type": "code",
   "execution_count": 5,
   "id": "f76d680c",
   "metadata": {},
   "outputs": [
    {
     "name": "stdout",
     "output_type": "stream",
     "text": [
      "hello\n",
      "hello world\n"
     ]
    }
   ],
   "source": [
    "    print(\"hello\")\n",
    "    print(\"hello world\")"
   ]
  },
  {
   "cell_type": "code",
   "execution_count": 7,
   "id": "4976b1c3",
   "metadata": {},
   "outputs": [
    {
     "name": "stdout",
     "output_type": "stream",
     "text": [
      "95\n"
     ]
    }
   ],
   "source": [
    "num1=5\n",
    "num2=90\n",
    "print(num1+num2)"
   ]
  },
  {
   "cell_type": "code",
   "execution_count": 8,
   "id": "ba7c5481",
   "metadata": {},
   "outputs": [
    {
     "name": "stdout",
     "output_type": "stream",
     "text": [
      "123\n"
     ]
    }
   ],
   "source": [
    "num1=89\n",
    "num2=34\n",
    "num3=num1+num2\n",
    "print(num3)"
   ]
  },
  {
   "cell_type": "code",
   "execution_count": 9,
   "id": "af123899",
   "metadata": {},
   "outputs": [
    {
     "name": "stdout",
     "output_type": "stream",
     "text": [
      "1 3.6 hello\n"
     ]
    }
   ],
   "source": [
    "x,y,z=1,3.6,\"hello\"\n",
    "print(x,y,z)"
   ]
  },
  {
   "cell_type": "code",
   "execution_count": 12,
   "id": "1e0b9ed0",
   "metadata": {},
   "outputs": [
    {
     "name": "stdout",
     "output_type": "stream",
     "text": [
      "hei hei hei\n"
     ]
    }
   ],
   "source": [
    "x=y=z=\"hei\"\n",
    "print(x,y,z)"
   ]
  },
  {
   "cell_type": "markdown",
   "id": "1bd9df76",
   "metadata": {},
   "source": [
    "### comments"
   ]
  },
  {
   "cell_type": "code",
   "execution_count": 13,
   "id": "09809fff",
   "metadata": {},
   "outputs": [
    {
     "name": "stdout",
     "output_type": "stream",
     "text": [
      "hello,world!\n"
     ]
    }
   ],
   "source": [
    "# This is a single-line comment\n",
    "print(\"hello,world!\")# this is also a comment"
   ]
  },
  {
   "cell_type": "code",
   "execution_count": 14,
   "id": "5734060a",
   "metadata": {},
   "outputs": [
    {
     "name": "stdout",
     "output_type": "stream",
     "text": [
      "hello\n"
     ]
    }
   ],
   "source": [
    "\"\"\"\n",
    "ed\n",
    "ed\n",
    "ed\n",
    "\"\"\"\n",
    "print(\"hello\")"
   ]
  },
  {
   "cell_type": "code",
   "execution_count": null,
   "id": "42453a42",
   "metadata": {},
   "outputs": [],
   "source": [
    "# ed\n",
    "# ed\n",
    "# ed\n"
   ]
  },
  {
   "cell_type": "markdown",
   "id": "3da8bb3a",
   "metadata": {},
   "source": [
    "### type"
   ]
  },
  {
   "cell_type": "code",
   "execution_count": 15,
   "id": "a918d7d4",
   "metadata": {},
   "outputs": [
    {
     "name": "stdout",
     "output_type": "stream",
     "text": [
      "<class 'int'>\n",
      "<class 'str'>\n",
      "<class 'list'>\n"
     ]
    }
   ],
   "source": [
    "x=4\n",
    "y=\"jh\"\n",
    "z=[2,3,4]\n",
    "print(type(x))\n",
    "print(type(y))\n",
    "print(type(z))"
   ]
  },
  {
   "cell_type": "markdown",
   "id": "c8cff782",
   "metadata": {},
   "source": [
    "### type conversion\n"
   ]
  },
  {
   "cell_type": "code",
   "execution_count": 18,
   "id": "4f9bd1d4",
   "metadata": {},
   "outputs": [
    {
     "name": "stdout",
     "output_type": "stream",
     "text": [
      "<class 'str'>\n",
      "<class 'int'>\n"
     ]
    }
   ],
   "source": [
    "num_str=\"45\"\n",
    "print(type(num_str))\n",
    "\n",
    "num_int=int(num_str)## num_int will be an integer 45\n",
    "print(type(num_int))"
   ]
  },
  {
   "cell_type": "code",
   "execution_count": 19,
   "id": "d83ad5c5",
   "metadata": {},
   "outputs": [
    {
     "name": "stdout",
     "output_type": "stream",
     "text": [
      "<class 'str'>\n",
      "<class 'float'>\n"
     ]
    }
   ],
   "source": [
    "num_str=\"3.45\"\n",
    "print(type(num_str))\n",
    "\n",
    "num_float=float(num_str)# num_float will be a float 3.45\n",
    "print(type(num_float))\n",
    "\n"
   ]
  },
  {
   "cell_type": "markdown",
   "id": "cb37d02f",
   "metadata": {},
   "source": [
    "### python user-input\n"
   ]
  },
  {
   "cell_type": "code",
   "execution_count": 2,
   "id": "0ea461d4",
   "metadata": {},
   "outputs": [
    {
     "name": "stdout",
     "output_type": "stream",
     "text": [
      "enter username:john\n",
      "Hello john\n"
     ]
    }
   ],
   "source": [
    "username=input(\"enter username:\")\n",
    "print(\"Hello\",username)"
   ]
  },
  {
   "cell_type": "code",
   "execution_count": 6,
   "id": "31ba5b9a",
   "metadata": {},
   "outputs": [
    {
     "name": "stdout",
     "output_type": "stream",
     "text": [
      "enter first number:89\n",
      "enter second number:97\n",
      "the addition result is: 8997\n"
     ]
    }
   ],
   "source": [
    "x=input(\"enter first number:\")\n",
    "y=input(\"enter second number:\")\n",
    "print(\"the addition result is:\",x+y)"
   ]
  },
  {
   "cell_type": "code",
   "execution_count": 7,
   "id": "677ebed0",
   "metadata": {},
   "outputs": [
    {
     "name": "stdout",
     "output_type": "stream",
     "text": [
      "enter first number:89\n",
      "enter second number:97\n",
      "the addition result is: 186.0\n"
     ]
    }
   ],
   "source": [
    "x=float(input(\"enter first number:\"))\n",
    "y=int(input(\"enter second number:\"))\n",
    "c=x+y\n",
    "print(\"the addition result is:\",x+y)"
   ]
  },
  {
   "cell_type": "code",
   "execution_count": null,
   "id": "ddaca524",
   "metadata": {},
   "outputs": [],
   "source": [
    "a=\"\"\"my name is shamil \n",
    "i am currrently residing in \n",
    "bangalore. for my career as a \n",
    "python developer.\"\"\"\n",
    "print(a)"
   ]
  },
  {
   "cell_type": "markdown",
   "id": "2896aabb",
   "metadata": {},
   "source": [
    "## String"
   ]
  },
  {
   "cell_type": "markdown",
   "id": "7855805a",
   "metadata": {},
   "source": [
    "### string length"
   ]
  },
  {
   "cell_type": "code",
   "execution_count": 10,
   "id": "4280ee5f",
   "metadata": {},
   "outputs": [
    {
     "name": "stdout",
     "output_type": "stream",
     "text": [
      "13\n"
     ]
    }
   ],
   "source": [
    "my_string=\"hello, world!\"\n",
    "length=len(my_string)\n",
    "print(length)\n"
   ]
  },
  {
   "cell_type": "markdown",
   "id": "01c5067b",
   "metadata": {},
   "source": [
    "### string indexing\n"
   ]
  },
  {
   "cell_type": "code",
   "execution_count": 17,
   "id": "7beecfb4",
   "metadata": {},
   "outputs": [
    {
     "name": "stdout",
     "output_type": "stream",
     "text": [
      "h\n"
     ]
    }
   ],
   "source": [
    "my_string=\"hello, world!\"\n",
    "first_char=my_string[0]\n",
    "print(first_char)"
   ]
  },
  {
   "cell_type": "markdown",
   "id": "3683e6ba",
   "metadata": {},
   "source": [
    "### string slicing"
   ]
  },
  {
   "cell_type": "code",
   "execution_count": 20,
   "id": "d67d2728",
   "metadata": {},
   "outputs": [
    {
     "name": "stdout",
     "output_type": "stream",
     "text": [
      "ello\n"
     ]
    }
   ],
   "source": [
    "# inclusive start,exclusive end\n",
    "my_string=\"hello, world!\"\n",
    "sliced_string=my_string[1:5]\n",
    "print(sliced_string)"
   ]
  },
  {
   "cell_type": "code",
   "execution_count": 22,
   "id": "fe2e817f",
   "metadata": {},
   "outputs": [
    {
     "name": "stdout",
     "output_type": "stream",
     "text": [
      "! d\n"
     ]
    }
   ],
   "source": [
    "#negative indices\n",
    "my_string=\"hello, world!\"\n",
    "last_char=my_string[-1]\n",
    "second_last_char=my_string[-2]\n",
    "print(last_char,second_last_char)"
   ]
  },
  {
   "cell_type": "code",
   "execution_count": 35,
   "id": "3020e222",
   "metadata": {},
   "outputs": [
    {
     "name": "stdout",
     "output_type": "stream",
     "text": [
      "Hello , world!\n"
     ]
    }
   ],
   "source": [
    "#omitted indices\n",
    "my_string=\"Hello, world!\"\n",
    "start_omitted=my_string[:5]\n",
    "end_omitted=my_string[5:]\n",
    "print(start_omitted,end_omitted)"
   ]
  },
  {
   "cell_type": "code",
   "execution_count": 40,
   "id": "46eaed42",
   "metadata": {},
   "outputs": [
    {
     "name": "stdout",
     "output_type": "stream",
     "text": [
      "Hlo\n"
     ]
    }
   ],
   "source": [
    "#step size\n",
    "my_string=\"Hello, world!\"\n",
    "every_second_char=my_string[0:5:2]\n",
    "print(every_second_char)"
   ]
  },
  {
   "cell_type": "markdown",
   "id": "d36a2357",
   "metadata": {},
   "source": [
    "### string concantenation"
   ]
  },
  {
   "cell_type": "code",
   "execution_count": 42,
   "id": "8ad14ec0",
   "metadata": {},
   "outputs": [
    {
     "name": "stdout",
     "output_type": "stream",
     "text": [
      "Helloworld\n"
     ]
    }
   ],
   "source": [
    "a=\"Hello\"\n",
    "b=\"world\"\n",
    "c=a+b\n",
    "print(c)"
   ]
  },
  {
   "cell_type": "code",
   "execution_count": 43,
   "id": "7fb99694",
   "metadata": {},
   "outputs": [
    {
     "name": "stdout",
     "output_type": "stream",
     "text": [
      "Hello world\n"
     ]
    }
   ],
   "source": [
    "a=\"Hello\"\n",
    "b=\"world\"\n",
    "c=a+\" \"+b\n",
    "print(c)"
   ]
  },
  {
   "cell_type": "code",
   "execution_count": 45,
   "id": "d661da14",
   "metadata": {},
   "outputs": [
    {
     "name": "stdout",
     "output_type": "stream",
     "text": [
      "Hello world!!!!!!!!!!!!!!!!!!!!\n"
     ]
    }
   ],
   "source": [
    "a=\"Hello\"\n",
    "b=\"world\"\n",
    "c=a+\" \"+b+('!'*20)\n",
    "print(c)"
   ]
  },
  {
   "cell_type": "markdown",
   "id": "c3597428",
   "metadata": {},
   "source": [
    "### string methods"
   ]
  },
  {
   "cell_type": "code",
   "execution_count": 46,
   "id": "0db8d479",
   "metadata": {},
   "outputs": [
    {
     "name": "stdout",
     "output_type": "stream",
     "text": [
      "HELLO\n"
     ]
    }
   ],
   "source": [
    "s1=\"hello\"\n",
    "print(s1.upper())"
   ]
  },
  {
   "cell_type": "code",
   "execution_count": 47,
   "id": "8bbd90c3",
   "metadata": {},
   "outputs": [
    {
     "name": "stdout",
     "output_type": "stream",
     "text": [
      "hello\n"
     ]
    }
   ],
   "source": [
    "s2=\"HELLO\"\n",
    "print(s2.lower())"
   ]
  },
  {
   "cell_type": "code",
   "execution_count": 51,
   "id": "5e87303a",
   "metadata": {},
   "outputs": [
    {
     "name": "stdout",
     "output_type": "stream",
     "text": [
      "  Hello, world!  \n",
      "Hello, world!\n"
     ]
    }
   ],
   "source": [
    "s3=\"  Hello, world!  \"\n",
    "print(s3)\n",
    "print(s3.strip())"
   ]
  },
  {
   "cell_type": "code",
   "execution_count": 56,
   "id": "c4ee6755",
   "metadata": {},
   "outputs": [
    {
     "name": "stdout",
     "output_type": "stream",
     "text": [
      "True\n",
      "True\n",
      "True\n"
     ]
    }
   ],
   "source": [
    "alpha_check=\"Hello\".isalpha()\n",
    "print(alpha_check)\n",
    "digit_check=\"123\".isdigit()\n",
    "print(digit_check)\n",
    "alnum_check=\"hello123\".isalnum()\n",
    "print(alnum_check)\n"
   ]
  },
  {
   "cell_type": "code",
   "execution_count": 60,
   "id": "2eafa10f",
   "metadata": {},
   "outputs": [
    {
     "name": "stdout",
     "output_type": "stream",
     "text": [
      "['apple', 'banana', 'cherry']\n",
      "apple+banana+cherry\n"
     ]
    }
   ],
   "source": [
    "my_string=\"apple,banana,cherry\"\n",
    "fruits=my_string.split(\",\")\n",
    "print(fruits)\n",
    "joined_string=\"+\".join(fruits)\n",
    "print(joined_string)\n"
   ]
  },
  {
   "cell_type": "code",
   "execution_count": 62,
   "id": "24c09c6e",
   "metadata": {},
   "outputs": [
    {
     "name": "stdout",
     "output_type": "stream",
     "text": [
      "Hello, world!\n",
      "Hi, world!\n"
     ]
    }
   ],
   "source": [
    "my_string=\"Hello, world!\"\n",
    "print(my_string)\n",
    "first_string=my_string.replace('Hello','Hi')\n",
    "print(first_string)"
   ]
  },
  {
   "cell_type": "markdown",
   "id": "51aebac3",
   "metadata": {},
   "source": [
    "### string formatting"
   ]
  },
  {
   "cell_type": "code",
   "execution_count": 71,
   "id": "9dea8d9f",
   "metadata": {},
   "outputs": [
    {
     "name": "stdout",
     "output_type": "stream",
     "text": [
      "my name is Alice and i am 23 years old.\n"
     ]
    }
   ],
   "source": [
    "name=\"Alice\"\n",
    "age=23\n",
    "#s=\"my name is \"+name+\" and i am \"+age+\" years old\"\n",
    "formatted_string=\"my name is %s and i am %d years old.\" %(name,age)\n",
    "print(formatted_string)"
   ]
  },
  {
   "cell_type": "code",
   "execution_count": 6,
   "id": "b826a01f",
   "metadata": {},
   "outputs": [
    {
     "name": "stdout",
     "output_type": "stream",
     "text": [
      "my name is Rinshad and i am 30 years old.\n"
     ]
    }
   ],
   "source": [
    "name=\"Rinshad\"\n",
    "age=30\n",
    "formatted_string=f\"my name is {name} and i am {age} years old.\" \n",
    "print(formatted_string)"
   ]
  },
  {
   "cell_type": "code",
   "execution_count": 1,
   "id": "a308ff4b",
   "metadata": {},
   "outputs": [
    {
     "name": "stdout",
     "output_type": "stream",
     "text": [
      "my name is Ramees and i am 20 years old.\n"
     ]
    }
   ],
   "source": [
    "name=\"Ramees\"\n",
    "age=20\n",
    "formatted_string=\"my name is {} and i am {} years old.\".format(name, age)\n",
    "print(formatted_string)"
   ]
  },
  {
   "cell_type": "code",
   "execution_count": 3,
   "id": "42d7f38e",
   "metadata": {},
   "outputs": [
    {
     "name": "stdout",
     "output_type": "stream",
     "text": [
      "the value of pi is aproximately=3.14\n"
     ]
    }
   ],
   "source": [
    "pi=3.14159265359\n",
    "formatted_pi=\"the value of pi is aproximately={:0.2f}\".format(pi)\n",
    "print(formatted_pi)"
   ]
  },
  {
   "cell_type": "markdown",
   "id": "2f2d74ac",
   "metadata": {},
   "source": [
    "## python booleans"
   ]
  },
  {
   "cell_type": "code",
   "execution_count": 52,
   "id": "ced69810",
   "metadata": {},
   "outputs": [
    {
     "name": "stdout",
     "output_type": "stream",
     "text": [
      "True False\n"
     ]
    }
   ],
   "source": [
    "x= True\n",
    "y= False\n",
    "print(x,y)"
   ]
  },
  {
   "cell_type": "code",
   "execution_count": 11,
   "id": "e3703056",
   "metadata": {},
   "outputs": [
    {
     "name": "stdout",
     "output_type": "stream",
     "text": [
      "False\n",
      "False\n",
      "True\n"
     ]
    }
   ],
   "source": [
    "x=5\n",
    "y=10\n",
    "greater_than=x>y\n",
    "equal_to=x==y\n",
    "logical_and=(x<10)and(y>5)\n",
    "print(greater_than)\n",
    "print(equal_to)\n",
    "print(logical_and)"
   ]
  },
  {
   "cell_type": "markdown",
   "id": "65ad9f84",
   "metadata": {},
   "source": [
    "### operations"
   ]
  },
  {
   "cell_type": "markdown",
   "id": "97d6b5cd",
   "metadata": {},
   "source": [
    "#### Arithmetic operations"
   ]
  },
  {
   "cell_type": "code",
   "execution_count": 17,
   "id": "03861913",
   "metadata": {},
   "outputs": [
    {
     "name": "stdout",
     "output_type": "stream",
     "text": [
      "addition= 15\n",
      "substraction= 5\n",
      "multiplication= 50\n",
      "division= 2.0\n",
      "modulus= 0\n",
      "exponentiation= 100000\n",
      "float_division= 2\n"
     ]
    }
   ],
   "source": [
    "x=10\n",
    "y=5\n",
    "addition=x+y\n",
    "substraction=x-y\n",
    "multiplication=x*y\n",
    "division=x/y\n",
    "modulus=x%y#only remainder is shown\n",
    "exponentiation=x**y#right(y) is the power of left(x) operent\n",
    "float_division=x//y#the division is rounded into nearest whole number\n",
    "print(\"addition=\",addition)\n",
    "print(\"substraction=\",substraction)\n",
    "print(\"multiplication=\",multiplication)\n",
    "print(\"division=\",division)\n",
    "print(\"modulus=\",modulus)\n",
    "print(\"exponentiation=\",exponentiation)\n",
    "print(\"float_division=\",float_division)\n"
   ]
  },
  {
   "cell_type": "markdown",
   "id": "2b2b1274",
   "metadata": {},
   "source": [
    "#### comparison operator\n",
    "###### !=-->not equal\n",
    "###### ==-->is equal"
   ]
  },
  {
   "cell_type": "markdown",
   "id": "bdf75bd9",
   "metadata": {},
   "source": [
    "#### logical operators"
   ]
  },
  {
   "cell_type": "code",
   "execution_count": 18,
   "id": "0f11dc19",
   "metadata": {},
   "outputs": [
    {
     "name": "stdout",
     "output_type": "stream",
     "text": [
      "True\n",
      "True\n",
      "False\n"
     ]
    }
   ],
   "source": [
    "x=5\n",
    "print(x>3 and x<10)\n",
    "print(x>3 or x<10)\n",
    "print(not(x>3 and x<10))#reverse the result"
   ]
  },
  {
   "cell_type": "markdown",
   "id": "ca7fb389",
   "metadata": {},
   "source": [
    "#### assignment operators"
   ]
  },
  {
   "cell_type": "code",
   "execution_count": 4,
   "id": "d63fe805",
   "metadata": {},
   "outputs": [
    {
     "name": "stdout",
     "output_type": "stream",
     "text": [
      "15\n",
      "10\n",
      "50\n",
      "10.0\n"
     ]
    }
   ],
   "source": [
    "x=10\n",
    "#add and assign\n",
    "x+=5\n",
    "print(x)\n",
    "#subtract and assign\n",
    "x-=5\n",
    "print(x)\n",
    "#multiply and assign\n",
    "x*=5\n",
    "print(x)\n",
    "#divide and assign\n",
    "x /= 5\n",
    "print(x)\n"
   ]
  },
  {
   "cell_type": "markdown",
   "id": "870f5b31",
   "metadata": {},
   "source": [
    "#### identity operators"
   ]
  },
  {
   "cell_type": "code",
   "execution_count": 22,
   "id": "bba5560c",
   "metadata": {},
   "outputs": [
    {
     "name": "stdout",
     "output_type": "stream",
     "text": [
      "True\n",
      "False\n",
      "True\n",
      "False\n",
      "True\n",
      "False\n"
     ]
    }
   ],
   "source": [
    "x=[\"apple\",\"banana\"]\n",
    "y=[\"apple\",\"banana\"]\n",
    "z=x\n",
    "print(x is z)\n",
    "print(x is y)\n",
    "print(x==y)\n",
    "print(x is not z)\n",
    "print(x is not y)\n",
    "print(x!=y)\n"
   ]
  },
  {
   "cell_type": "markdown",
   "id": "99242342",
   "metadata": {},
   "source": [
    "#### membership operators"
   ]
  },
  {
   "cell_type": "code",
   "execution_count": 25,
   "id": "132d3297",
   "metadata": {},
   "outputs": [
    {
     "name": "stdout",
     "output_type": "stream",
     "text": [
      "True\n"
     ]
    }
   ],
   "source": [
    "x=[\"apple\",\"banana\"]\n",
    "print(\"banana\" in x)"
   ]
  },
  {
   "cell_type": "code",
   "execution_count": 26,
   "id": "98f02dbc",
   "metadata": {},
   "outputs": [
    {
     "name": "stdout",
     "output_type": "stream",
     "text": [
      "True\n"
     ]
    }
   ],
   "source": [
    "x=[\"apple\",\"banana\"]\n",
    "print(\"pineapple\" not in x)"
   ]
  },
  {
   "cell_type": "markdown",
   "id": "3614fee8",
   "metadata": {},
   "source": [
    "## python list"
   ]
  },
  {
   "cell_type": "markdown",
   "id": "b89334bd",
   "metadata": {},
   "source": [
    "### access list items"
   ]
  },
  {
   "cell_type": "code",
   "execution_count": 28,
   "id": "a0769152",
   "metadata": {},
   "outputs": [
    {
     "name": "stdout",
     "output_type": "stream",
     "text": [
      "first_element= 1\n",
      "second_element= 2\n",
      "last_element= 9\n",
      "[3, 4, 5]\n",
      "9\n"
     ]
    }
   ],
   "source": [
    "numbers=[1,2,3,4,5,6,7,8,9]\n",
    "first_element=numbers[0]\n",
    "second_element=numbers[1]\n",
    "last_element=numbers[-1]\n",
    "print(\"first_element=\",first_element)\n",
    "print(\"second_element=\",second_element)\n",
    "print(\"last_element=\",last_element)\n",
    "print(numbers[2:5])\n",
    "print(len(numbers))"
   ]
  },
  {
   "cell_type": "markdown",
   "id": "5c34efb2",
   "metadata": {},
   "source": [
    "### list operation and methods"
   ]
  },
  {
   "cell_type": "markdown",
   "id": "1e0b58e6",
   "metadata": {},
   "source": [
    "#### adding elements"
   ]
  },
  {
   "cell_type": "code",
   "execution_count": 30,
   "id": "c4caf4d8",
   "metadata": {},
   "outputs": [
    {
     "name": "stdout",
     "output_type": "stream",
     "text": [
      "['apple', 'banana', 'cherry']\n"
     ]
    }
   ],
   "source": [
    "fruits=[\"apple\",\"banana\"]\n",
    "fruits.append(\"cherry\")\n",
    "print(fruits)"
   ]
  },
  {
   "cell_type": "code",
   "execution_count": 31,
   "id": "f56d84ff",
   "metadata": {},
   "outputs": [
    {
     "name": "stdout",
     "output_type": "stream",
     "text": [
      "['cherry', 'apple', 'banana']\n"
     ]
    }
   ],
   "source": [
    "fruits=[\"apple\",\"banana\"]\n",
    "fruits.insert(0,\"cherry\")#in insert we can choose the position of added element\n",
    "print(fruits)"
   ]
  },
  {
   "cell_type": "markdown",
   "id": "dd594eff",
   "metadata": {},
   "source": [
    "#### Extending lists"
   ]
  },
  {
   "cell_type": "code",
   "execution_count": 32,
   "id": "1686b407",
   "metadata": {},
   "outputs": [
    {
     "name": "stdout",
     "output_type": "stream",
     "text": [
      "['apple', 'banana', 'cherry', 'orange']\n"
     ]
    }
   ],
   "source": [
    "fruits=[\"apple\",\"banana\"]\n",
    "more_fruits=(\"cherry\",\"orange\")\n",
    "fruits.extend(more_fruits)\n",
    "print(fruits)"
   ]
  },
  {
   "cell_type": "markdown",
   "id": "6e842e9e",
   "metadata": {},
   "source": [
    "#### change item value"
   ]
  },
  {
   "cell_type": "code",
   "execution_count": 33,
   "id": "50271a7a",
   "metadata": {},
   "outputs": [
    {
     "name": "stdout",
     "output_type": "stream",
     "text": [
      "['apple', 'melon', 'cherry', 'orange']\n",
      "['apple', 'melon', 'pineapple', 'orange']\n"
     ]
    }
   ],
   "source": [
    "fruits=['apple', 'banana', 'cherry', 'orange']\n",
    "fruits[1]=\"melon\"\n",
    "print(fruits)\n",
    "fruits[1:3]=\"melon\",\"pineapple\"\n",
    "print(fruits)"
   ]
  },
  {
   "cell_type": "markdown",
   "id": "45ade1cf",
   "metadata": {},
   "source": [
    "#### removing elements"
   ]
  },
  {
   "cell_type": "code",
   "execution_count": 43,
   "id": "8d1c31aa",
   "metadata": {},
   "outputs": [
    {
     "name": "stdout",
     "output_type": "stream",
     "text": [
      "['apple', 'cherry', 'orange']\n",
      "['apple', 'cherry']\n",
      "[]\n"
     ]
    }
   ],
   "source": [
    "fruits=['apple', 'banana', 'cherry', 'orange']\n",
    "fruits.remove(\"banana\")\n",
    "print(fruits)\n",
    "removed_fruit=fruits.pop()\n",
    "print(fruits)\n",
    "clear_fruits=fruits.clear()\n",
    "print(fruits)"
   ]
  },
  {
   "cell_type": "markdown",
   "id": "a14192eb",
   "metadata": {},
   "source": [
    "#### copying list"
   ]
  },
  {
   "cell_type": "code",
   "execution_count": 44,
   "id": "cb213bac",
   "metadata": {},
   "outputs": [
    {
     "name": "stdout",
     "output_type": "stream",
     "text": [
      "['apple', 'banana', 'cherry', 'orange']\n"
     ]
    }
   ],
   "source": [
    "fruits=['apple', 'banana', 'cherry', 'orange']\n",
    "copy_fruits=fruits.copy()\n",
    "#or\n",
    "#copy_fruits=fruits[:]\n",
    "print(copy_fruits)"
   ]
  },
  {
   "cell_type": "markdown",
   "id": "cb09fb5f",
   "metadata": {},
   "source": [
    "#### reversing a list"
   ]
  },
  {
   "cell_type": "code",
   "execution_count": 45,
   "id": "132f6a60",
   "metadata": {},
   "outputs": [
    {
     "name": "stdout",
     "output_type": "stream",
     "text": [
      "[6, 5, 4, 3, 2, 1]\n"
     ]
    }
   ],
   "source": [
    "numbers=[1,2,3,4,5,6]\n",
    "numbers.reverse()\n",
    "print(numbers)"
   ]
  },
  {
   "cell_type": "markdown",
   "id": "4c148565",
   "metadata": {},
   "source": [
    "#### sorting a list"
   ]
  },
  {
   "cell_type": "code",
   "execution_count": 51,
   "id": "da2792ba",
   "metadata": {},
   "outputs": [
    {
     "name": "stdout",
     "output_type": "stream",
     "text": [
      "[1, 2, 3, 4, 6, 8]\n",
      "[8, 6, 4, 3, 2, 1]\n"
     ]
    }
   ],
   "source": [
    "numbers=[2,3,8,4,6,1]\n",
    "numbers.sort()\n",
    "print(numbers)\n",
    "numbers.sort(reverse=True)\n",
    "print(numbers)"
   ]
  },
  {
   "cell_type": "markdown",
   "id": "6c313400",
   "metadata": {},
   "source": [
    "#### nested list"
   ]
  },
  {
   "cell_type": "code",
   "execution_count": 54,
   "id": "854a069b",
   "metadata": {},
   "outputs": [
    {
     "name": "stdout",
     "output_type": "stream",
     "text": [
      "[[1, 2, 3], [4, 5, 6], [7, 8]]\n"
     ]
    }
   ],
   "source": [
    "nested_list=[[1,2,3],[4,5,6],[7,8]]\n",
    "print(nested_list)"
   ]
  },
  {
   "cell_type": "markdown",
   "id": "2ce56128",
   "metadata": {},
   "source": [
    "#### counting"
   ]
  },
  {
   "cell_type": "code",
   "execution_count": 56,
   "id": "76301cd2",
   "metadata": {},
   "outputs": [
    {
     "name": "stdout",
     "output_type": "stream",
     "text": [
      "3\n"
     ]
    }
   ],
   "source": [
    "numbers=[1,2,3,4,5,6,7,7,7]\n",
    "count=numbers.count(7)\n",
    "print(count)"
   ]
  },
  {
   "cell_type": "markdown",
   "id": "8063d1bd",
   "metadata": {},
   "source": [
    "#### max.min.sum"
   ]
  },
  {
   "cell_type": "code",
   "execution_count": 57,
   "id": "d8e9dfd8",
   "metadata": {},
   "outputs": [
    {
     "name": "stdout",
     "output_type": "stream",
     "text": [
      "7\n",
      "1\n",
      "28\n"
     ]
    }
   ],
   "source": [
    "numbers=[1,2,3,4,5,6,7]\n",
    "print(max(numbers))\n",
    "print(min(numbers))\n",
    "print(sum(numbers))"
   ]
  },
  {
   "cell_type": "code",
   "execution_count": 63,
   "id": "5cd15092",
   "metadata": {},
   "outputs": [
    {
     "name": "stdout",
     "output_type": "stream",
     "text": [
      "[9, 3, 5, 7, 1]\n"
     ]
    }
   ],
   "source": [
    "#write a program to swap first and last elements\n",
    "my_list=[1,3,5,7,9]\n",
    "my_list[0],my_list[-1]=my_list[-1],my_list[0]\n",
    "print(my_list)"
   ]
  },
  {
   "cell_type": "code",
   "execution_count": 70,
   "id": "554f75ec",
   "metadata": {},
   "outputs": [
    {
     "name": "stdout",
     "output_type": "stream",
     "text": [
      "third largest element= 67\n"
     ]
    }
   ],
   "source": [
    "#write a program to find the third largest element in a list\n",
    "my_list=[2,7,45,4,67,89,6,12,123]\n",
    "my_list.sort(reverse=True)\n",
    "print(\"third largest element=\",my_list[2])\n"
   ]
  },
  {
   "cell_type": "markdown",
   "id": "024cb372",
   "metadata": {},
   "source": [
    "### Tuple"
   ]
  },
  {
   "cell_type": "markdown",
   "id": "28f49ec2",
   "metadata": {},
   "source": [
    "#### immutability of tuples\n"
   ]
  },
  {
   "cell_type": "code",
   "execution_count": 1,
   "id": "35f3188b",
   "metadata": {},
   "outputs": [],
   "source": [
    "numbers=(1,2,3,4,5)\n",
    "numbers[1]=10"
   ]
  },
  {
   "cell_type": "markdown",
   "id": "0666dcf3",
   "metadata": {},
   "source": [
    "#### update tuple"
   ]
  },
  {
   "cell_type": "code",
   "execution_count": 6,
   "id": "12741084",
   "metadata": {},
   "outputs": [
    {
     "name": "stdout",
     "output_type": "stream",
     "text": [
      "('apple', 'banana', 'cherry', 'orange', 'orange')\n"
     ]
    }
   ],
   "source": [
    "mytuple=('apple', 'banana', 'cherry', 'orange')\n",
    "y=list(mytuple)\n",
    "y.append('orange')\n",
    "mytuple=tuple(y)\n",
    "print(mytuple)"
   ]
  },
  {
   "cell_type": "code",
   "execution_count": 9,
   "id": "64b2a5d4",
   "metadata": {},
   "outputs": [
    {
     "name": "stdout",
     "output_type": "stream",
     "text": [
      "('apple', 'banana', 'cherry', 'orange', 'orange')\n"
     ]
    }
   ],
   "source": [
    "mytuple=('apple', 'banana', 'cherry', 'orange')\n",
    "y=('orange',)\n",
    "mytuple += y\n",
    "print(mytuple)"
   ]
  },
  {
   "cell_type": "markdown",
   "id": "7a5a1da5",
   "metadata": {},
   "source": [
    "#### unpacking a tuple"
   ]
  },
  {
   "cell_type": "code",
   "execution_count": 12,
   "id": "fe108486",
   "metadata": {},
   "outputs": [
    {
     "name": "stdout",
     "output_type": "stream",
     "text": [
      "apple\n",
      "banana\n",
      "cherry\n"
     ]
    }
   ],
   "source": [
    "fruits=('apple', 'banana', 'cherry')\n",
    "x,y,z=fruits\n",
    "print(x)\n",
    "print(y)\n",
    "print(z)\n"
   ]
  },
  {
   "cell_type": "code",
   "execution_count": 13,
   "id": "c028a6dd",
   "metadata": {},
   "outputs": [
    {
     "name": "stdout",
     "output_type": "stream",
     "text": [
      "apple\n",
      "['banana', 'cherry', 'orange', 'pineapple', 'melon,']\n",
      "kiwi\n"
     ]
    }
   ],
   "source": [
    "fruits=('apple', 'banana', 'cherry', 'orange','pineapple','melon,','kiwi')\n",
    "x,*y,z=fruits\n",
    "print(x)\n",
    "print(y)\n",
    "print(z)"
   ]
  },
  {
   "cell_type": "markdown",
   "id": "5b6897ba",
   "metadata": {},
   "source": [
    "### set"
   ]
  },
  {
   "cell_type": "code",
   "execution_count": 14,
   "id": "b03da226",
   "metadata": {},
   "outputs": [
    {
     "name": "stdout",
     "output_type": "stream",
     "text": [
      "{1, 2, 3, 4, 5}\n"
     ]
    }
   ],
   "source": [
    "numbers={1,2,3,4,5}\n",
    "print(numbers)"
   ]
  },
  {
   "cell_type": "markdown",
   "id": "d604dd59",
   "metadata": {},
   "source": [
    "#### unique elements"
   ]
  },
  {
   "cell_type": "code",
   "execution_count": 15,
   "id": "47e50d03",
   "metadata": {},
   "outputs": [
    {
     "name": "stdout",
     "output_type": "stream",
     "text": [
      "{1, 2, 3}\n"
     ]
    }
   ],
   "source": [
    "numbers={1,2,3,2,1}\n",
    "print(numbers)"
   ]
  },
  {
   "cell_type": "markdown",
   "id": "f232a1c5",
   "metadata": {},
   "source": [
    "#### add "
   ]
  },
  {
   "cell_type": "code",
   "execution_count": 18,
   "id": "af1919ef",
   "metadata": {},
   "outputs": [
    {
     "name": "stdout",
     "output_type": "stream",
     "text": [
      "{'cherry', 'orange', 'apple', 'banana'}\n"
     ]
    }
   ],
   "source": [
    "set1={'apple', 'banana', 'cherry'}\n",
    "set1.add('orange')\n",
    "print(set1)"
   ]
  },
  {
   "cell_type": "code",
   "execution_count": 17,
   "id": "eb46d507",
   "metadata": {},
   "outputs": [
    {
     "name": "stdout",
     "output_type": "stream",
     "text": [
      "{'melon,', 'apple', 'banana', 'pineapple', 'orange', 'cherry', 'kiwi'}\n"
     ]
    }
   ],
   "source": [
    "set1={'apple', 'banana', 'cherry'}\n",
    "set2={'orange','pineapple','melon,','kiwi'}\n",
    "set1.update(set2)\n",
    "print(set1)"
   ]
  },
  {
   "cell_type": "markdown",
   "id": "f1da9274",
   "metadata": {},
   "source": [
    "#### remove set items"
   ]
  },
  {
   "cell_type": "code",
   "execution_count": 19,
   "id": "c7be6264",
   "metadata": {},
   "outputs": [
    {
     "name": "stdout",
     "output_type": "stream",
     "text": [
      "{'cherry', 'apple'}\n"
     ]
    }
   ],
   "source": [
    "myset={'apple', 'banana', 'cherry'}\n",
    "myset.discard('banana')\n",
    "print(myset)"
   ]
  },
  {
   "cell_type": "markdown",
   "id": "add90109",
   "metadata": {},
   "source": [
    "remove,\n",
    "pop,\n",
    "clear"
   ]
  },
  {
   "cell_type": "markdown",
   "id": "8172aa11",
   "metadata": {},
   "source": [
    "#### set operations "
   ]
  },
  {
   "cell_type": "code",
   "execution_count": 21,
   "id": "88a08353",
   "metadata": {},
   "outputs": [
    {
     "name": "stdout",
     "output_type": "stream",
     "text": [
      "{1, 2, 3, 4, 5}\n"
     ]
    }
   ],
   "source": [
    "set1={1,2,3}\n",
    "set2={3,4,5}\n",
    "union_set=set1.union(set2)\n",
    "print(union_set)"
   ]
  },
  {
   "cell_type": "code",
   "execution_count": 22,
   "id": "3321240e",
   "metadata": {},
   "outputs": [
    {
     "name": "stdout",
     "output_type": "stream",
     "text": [
      "{3}\n"
     ]
    }
   ],
   "source": [
    "set1={1,2,3}\n",
    "set2={3,4,5}\n",
    "intersection_set=set1.intersection(set2)\n",
    "print(intersection_set)"
   ]
  },
  {
   "cell_type": "code",
   "execution_count": 26,
   "id": "f987d0cb",
   "metadata": {},
   "outputs": [
    {
     "name": "stdout",
     "output_type": "stream",
     "text": [
      "{1, 2}\n"
     ]
    }
   ],
   "source": [
    "set1={1,2,3}\n",
    "set2={3,4,5}\n",
    "difference_set=set1.difference(set2)\n",
    "print(difference_set)"
   ]
  },
  {
   "cell_type": "code",
   "execution_count": 24,
   "id": "b62c67d2",
   "metadata": {},
   "outputs": [
    {
     "name": "stdout",
     "output_type": "stream",
     "text": [
      "{1, 2, 4, 5}\n"
     ]
    }
   ],
   "source": [
    "set1={1,2,3}\n",
    "set2={3,4,5}\n",
    "symmetric_difference_set=set1.symmetric_difference(set2)\n",
    "print(symmetric_difference_set)"
   ]
  },
  {
   "cell_type": "markdown",
   "id": "4c1bd7ed",
   "metadata": {},
   "source": [
    "### python conditions\n",
    "1.if\n",
    "2.if...else\n",
    "3.if....elif...else"
   ]
  },
  {
   "cell_type": "code",
   "execution_count": 29,
   "id": "6cba2ed6",
   "metadata": {},
   "outputs": [
    {
     "name": "stdout",
     "output_type": "stream",
     "text": [
      "first number:5\n",
      "second number:6\n",
      "b is greater than a\n"
     ]
    }
   ],
   "source": [
    "a=int(input(\"first number:\"))\n",
    "b=int(input(\"second number:\"))\n",
    "\n",
    "if b>a:\n",
    "    print(\"b is greater than a\")\n",
    "elif b<a:\n",
    "    print(\"a is greater than b\")\n",
    "else: \n",
    "    print(\"a and b are equal\")\n",
    "    \n",
    "        "
   ]
  },
  {
   "cell_type": "code",
   "execution_count": 31,
   "id": "8b844c3c",
   "metadata": {},
   "outputs": [
    {
     "name": "stdout",
     "output_type": "stream",
     "text": [
      "number:5\n",
      "a is positive\n"
     ]
    }
   ],
   "source": [
    "#write a python program to check a number taken from the user,is positive or negative\n",
    "a=int(input(\"number:\"))\n",
    "\n",
    "if a>=0:\n",
    "    print(\"a is positive\")\n",
    "else:\n",
    "    print(\"a is negative\")"
   ]
  },
  {
   "cell_type": "code",
   "execution_count": 32,
   "id": "e9980a2b",
   "metadata": {},
   "outputs": [],
   "source": [
    "# write a python program to accept the mark from the user and print the grade\n",
    "#marks       grade\n",
    "#>90          A\n",
    "#90-80        B\n",
    "#80-70        C\n",
    "#70-60        D\n",
    "#<60          FAILED"
   ]
  },
  {
   "cell_type": "code",
   "execution_count": 1,
   "id": "c4ef3191",
   "metadata": {},
   "outputs": [
    {
     "name": "stdout",
     "output_type": "stream",
     "text": [
      "Mark:41\n",
      "Failed\n"
     ]
    }
   ],
   "source": [
    "a=int(input(\"Mark:\"))\n",
    "\n",
    "if a>90:\n",
    "    print('A grade')\n",
    "elif 90>a>80:\n",
    "    print('B grade')\n",
    "elif 80>a>70:\n",
    "    print('C grade')\n",
    "elif 70>a>60:\n",
    "    print('D grade')\n",
    "else:\n",
    "    print('Failed')"
   ]
  },
  {
   "cell_type": "markdown",
   "id": "8e833a7e",
   "metadata": {},
   "source": [
    "### short hand If,If-else"
   ]
  },
  {
   "cell_type": "code",
   "execution_count": 2,
   "id": "69d06556",
   "metadata": {},
   "outputs": [
    {
     "name": "stdout",
     "output_type": "stream",
     "text": [
      "a is greater than b\n"
     ]
    }
   ],
   "source": [
    "a=200\n",
    "b=33\n",
    "if a > b: print(\"a is greater than b\")"
   ]
  },
  {
   "cell_type": "code",
   "execution_count": 3,
   "id": "a2520001",
   "metadata": {},
   "outputs": [
    {
     "name": "stdout",
     "output_type": "stream",
     "text": [
      "b\n"
     ]
    }
   ],
   "source": [
    "a=2\n",
    "b=330\n",
    "print('a') if a > b else print('b')"
   ]
  },
  {
   "cell_type": "markdown",
   "id": "f46d178d",
   "metadata": {},
   "source": [
    "### nested if"
   ]
  },
  {
   "cell_type": "code",
   "execution_count": 7,
   "id": "811d8d03",
   "metadata": {},
   "outputs": [
    {
     "name": "stdout",
     "output_type": "stream",
     "text": [
      "above ten,\n",
      "also above 20!\n",
      "above 50\n"
     ]
    }
   ],
   "source": [
    "x=52\n",
    "if x>10:\n",
    "    print(\"above ten,\")\n",
    "    if x>20:\n",
    "        print('also above 20!')\n",
    "        if x>50:\n",
    "            print(\"above 50\")\n",
    "    else:\n",
    "        print('but not above 20')\n",
    "else:\n",
    "    print('finished')"
   ]
  },
  {
   "cell_type": "markdown",
   "id": "dece31dd",
   "metadata": {},
   "source": [
    "### the pass statement"
   ]
  },
  {
   "cell_type": "code",
   "execution_count": 8,
   "id": "bcd7d48f",
   "metadata": {},
   "outputs": [
    {
     "name": "stdout",
     "output_type": "stream",
     "text": [
      "stage 1\n",
      "stage 2\n",
      "stage 3\n"
     ]
    }
   ],
   "source": [
    "a=33\n",
    "b=200\n",
    "print('stage 1')\n",
    "if b>a:\n",
    "    pass\n",
    "print('stage 2')\n",
    "print('stage 3')"
   ]
  },
  {
   "cell_type": "code",
   "execution_count": null,
   "id": "09fb83a5",
   "metadata": {},
   "outputs": [],
   "source": [
    "# write a program to check a character is vowel or not "
   ]
  },
  {
   "cell_type": "code",
   "execution_count": 21,
   "id": "9de6a86c",
   "metadata": {},
   "outputs": [
    {
     "name": "stdout",
     "output_type": "stream",
     "text": [
      "enter a alphabet:b\n",
      "not vowel\n"
     ]
    }
   ],
   "source": [
    "alphabet=input('enter a alphabet:')\n",
    "vowel=[\"a\",\"e\",\"i\",\"o\",\"u\"]\n",
    "if alphabet in vowel:\n",
    "    print('vowel')\n",
    "else:\n",
    "    print(\"not vowel\")"
   ]
  },
  {
   "cell_type": "code",
   "execution_count": null,
   "id": "a1294fcb",
   "metadata": {},
   "outputs": [],
   "source": [
    "#write a program to check a number is prime number or not"
   ]
  },
  {
   "cell_type": "code",
   "execution_count": 8,
   "id": "f97c166f",
   "metadata": {},
   "outputs": [
    {
     "name": "stdout",
     "output_type": "stream",
     "text": [
      "enter a number:2\n",
      "not prime number\n"
     ]
    }
   ],
   "source": [
    "n=int(input('enter a number:'))\n",
    "if n==1:\n",
    "    print('is not prime number')\n",
    "elif n%2==0:\n",
    "    print('not prime number')\n",
    "elif n==2:\n",
    "    print('not prime number') \n",
    "else:\n",
    "    print(n,'is prime number')"
   ]
  },
  {
   "cell_type": "markdown",
   "id": "9afdf6c6",
   "metadata": {},
   "source": [
    "### loop"
   ]
  },
  {
   "cell_type": "markdown",
   "id": "ee7e0b59",
   "metadata": {},
   "source": [
    "### while loop"
   ]
  },
  {
   "cell_type": "code",
   "execution_count": 27,
   "id": "8cebd554",
   "metadata": {},
   "outputs": [
    {
     "name": "stdout",
     "output_type": "stream",
     "text": [
      "1\n",
      "2\n",
      "3\n",
      "4\n",
      "5\n",
      "finished\n"
     ]
    }
   ],
   "source": [
    "i=1\n",
    "n=5\n",
    "while i <= n:\n",
    "    print(i)\n",
    "    i=i+1\n",
    "print(\"finished\")"
   ]
  },
  {
   "cell_type": "code",
   "execution_count": 28,
   "id": "8d3a4f51",
   "metadata": {},
   "outputs": [
    {
     "name": "stdout",
     "output_type": "stream",
     "text": [
      "total: 5050\n"
     ]
    }
   ],
   "source": [
    "i=1\n",
    "n=100\n",
    "total=0\n",
    "while i<=n:\n",
    "    total=total+i\n",
    "    i=i+1\n",
    "print(\"total:\",total)"
   ]
  },
  {
   "cell_type": "code",
   "execution_count": null,
   "id": "f1d18fb3",
   "metadata": {},
   "outputs": [],
   "source": [
    "#write a program to reverse a number."
   ]
  },
  {
   "cell_type": "code",
   "execution_count": 29,
   "id": "3a062fac",
   "metadata": {},
   "outputs": [
    {
     "name": "stdout",
     "output_type": "stream",
     "text": [
      "enter a number:234\n",
      "the reversed number is : 432\n"
     ]
    }
   ],
   "source": [
    "num=int(input(\"enter a number:\"))\n",
    "rev=0\n",
    "while (num!=0):\n",
    "    rem=num%10\n",
    "    rev=rev*10+rem\n",
    "    num=num//10\n",
    "print(\"the reversed number is :\",rev)"
   ]
  },
  {
   "cell_type": "code",
   "execution_count": null,
   "id": "fff66587",
   "metadata": {},
   "outputs": [],
   "source": [
    "#write a program to print n natural number in descending order using while loop for a given range."
   ]
  },
  {
   "cell_type": "code",
   "execution_count": 30,
   "id": "8aff5a1b",
   "metadata": {},
   "outputs": [
    {
     "name": "stdout",
     "output_type": "stream",
     "text": [
      "10\n",
      "9\n",
      "8\n",
      "7\n",
      "6\n",
      "5\n",
      "4\n",
      "3\n",
      "2\n",
      "1\n",
      "finished\n"
     ]
    }
   ],
   "source": [
    "i=10\n",
    "n=1\n",
    "while i>=n:\n",
    "    print(i)\n",
    "    i=i-1\n",
    "print('finished')\n",
    "    "
   ]
  },
  {
   "cell_type": "code",
   "execution_count": 2,
   "id": "8d0953a1",
   "metadata": {},
   "outputs": [
    {
     "name": "stdout",
     "output_type": "stream",
     "text": [
      "1\n",
      "2\n",
      "3\n",
      "4\n",
      "5\n"
     ]
    }
   ],
   "source": [
    "#looping through list\n",
    "mylist=[1,2,3,4,5]\n",
    "i=0\n",
    "while i<len(mylist):\n",
    "    print(mylist[i])\n",
    "    i=i+1"
   ]
  },
  {
   "cell_type": "code",
   "execution_count": 2,
   "id": "7882e36b",
   "metadata": {},
   "outputs": [
    {
     "name": "stdout",
     "output_type": "stream",
     "text": [
      "[1, 4, 9, 16, 25]\n"
     ]
    }
   ],
   "source": [
    "mylist=[1,2,3,4,5]\n",
    "i=0\n",
    "list2=[]\n",
    "while i<len(mylist):\n",
    "    x=mylist[i]*mylist[i]\n",
    "    list2.append(x)\n",
    "    i=i+1\n",
    "print(list2)"
   ]
  },
  {
   "cell_type": "code",
   "execution_count": 3,
   "id": "744a5b33",
   "metadata": {},
   "outputs": [
    {
     "name": "stdout",
     "output_type": "stream",
     "text": [
      "enter a number:4\n",
      "enter a number:54\n",
      "enter a number:34\n",
      "enter a number:1\n",
      "enter a number:0\n",
      "total= 93\n"
     ]
    }
   ],
   "source": [
    "#program to calculate the sum of numbers until\n",
    "#the user enters 0\n",
    "total = 0\n",
    "number=int(input('enter a number:'))\n",
    "while number != 0:\n",
    "    total += number\n",
    "    #take number input again\n",
    "    number=int(input('enter a number:'))\n",
    "print('total=',total)\n",
    "    "
   ]
  },
  {
   "cell_type": "code",
   "execution_count": 6,
   "id": "59d66da1",
   "metadata": {},
   "outputs": [
    {
     "name": "stdout",
     "output_type": "stream",
     "text": [
      "enter a nuumber:5\n",
      "factorial of 5 is : 120\n"
     ]
    }
   ],
   "source": [
    "#factorial prgrm\n",
    "num=int(input('enter a nuumber:'))\n",
    "fac=1\n",
    "i=1\n",
    "while i<=num:\n",
    "    fac=fac*i\n",
    "    #print(fac)\n",
    "    i=i+1\n",
    "print('factorial of' ,num,'is :',fac)\n"
   ]
  },
  {
   "cell_type": "markdown",
   "id": "30f85e15",
   "metadata": {},
   "source": [
    "### break statement"
   ]
  },
  {
   "cell_type": "code",
   "execution_count": 7,
   "id": "67674cdd",
   "metadata": {},
   "outputs": [
    {
     "name": "stdout",
     "output_type": "stream",
     "text": [
      "1\n",
      "2\n",
      "3\n",
      "4\n",
      "16\n"
     ]
    }
   ],
   "source": [
    "i=1\n",
    "while i< 6:\n",
    "    print(i)\n",
    "    if i==4:\n",
    "        print(i*i)\n",
    "        break\n",
    "    i=i+1"
   ]
  },
  {
   "cell_type": "markdown",
   "id": "adff770b",
   "metadata": {},
   "source": [
    "### continue statement"
   ]
  },
  {
   "cell_type": "code",
   "execution_count": 8,
   "id": "8b48d720",
   "metadata": {},
   "outputs": [
    {
     "name": "stdout",
     "output_type": "stream",
     "text": [
      "1\n",
      "3\n",
      "4\n",
      "5\n",
      "6\n",
      "7\n",
      "8\n",
      "9\n",
      "10\n",
      "11\n",
      "13\n",
      "14\n",
      "15\n",
      "16\n",
      "17\n",
      "18\n",
      "19\n",
      "20\n",
      "21\n",
      "22\n",
      "24\n",
      "25\n",
      "26\n",
      "27\n",
      "28\n",
      "29\n",
      "30\n",
      "31\n",
      "32\n",
      "33\n",
      "35\n",
      "36\n",
      "37\n",
      "38\n",
      "39\n",
      "40\n",
      "41\n",
      "42\n",
      "43\n",
      "44\n",
      "46\n",
      "47\n",
      "48\n",
      "49\n",
      "50\n"
     ]
    }
   ],
   "source": [
    "i=0\n",
    "list=[23,45,34,12,2]\n",
    "while i<50:\n",
    "    i=i+1\n",
    "    if i in list:\n",
    "        continue\n",
    "    print(i)"
   ]
  },
  {
   "cell_type": "markdown",
   "id": "73df1871",
   "metadata": {},
   "source": [
    "## python for loops\n"
   ]
  },
  {
   "cell_type": "code",
   "execution_count": 9,
   "id": "f18e1f06",
   "metadata": {},
   "outputs": [
    {
     "name": "stdout",
     "output_type": "stream",
     "text": [
      "b\n",
      "a\n",
      "n\n",
      "a\n",
      "n\n",
      "a\n"
     ]
    }
   ],
   "source": [
    "for x in 'banana':\n",
    "    print(x)"
   ]
  },
  {
   "cell_type": "code",
   "execution_count": 14,
   "id": "c9d2f26a",
   "metadata": {},
   "outputs": [
    {
     "name": "stdout",
     "output_type": "stream",
     "text": [
      "apple\n",
      "banana\n",
      "cherry\n"
     ]
    }
   ],
   "source": [
    "fruits=['apple','banana','cherry','orange','pineapple','melon,','kiwi']\n",
    "for x in fruits:\n",
    "    if x=='orange':\n",
    "         break\n",
    "    print(x)"
   ]
  },
  {
   "cell_type": "code",
   "execution_count": 15,
   "id": "f5e9218c",
   "metadata": {},
   "outputs": [
    {
     "name": "stdout",
     "output_type": "stream",
     "text": [
      "apple\n",
      "banana\n",
      "cherry\n",
      "pineapple\n",
      "melon,\n",
      "kiwi\n"
     ]
    }
   ],
   "source": [
    "fruits=['apple','banana','cherry','orange','pineapple','melon,','kiwi']\n",
    "for x in fruits:\n",
    "    if x=='orange':\n",
    "         continue\n",
    "    print(x)"
   ]
  },
  {
   "cell_type": "markdown",
   "id": "06e82019",
   "metadata": {},
   "source": [
    "### range function"
   ]
  },
  {
   "cell_type": "code",
   "execution_count": 16,
   "id": "d977cb7b",
   "metadata": {},
   "outputs": [
    {
     "name": "stdout",
     "output_type": "stream",
     "text": [
      "0\n",
      "1\n",
      "2\n",
      "3\n",
      "4\n",
      "5\n",
      "6\n",
      "7\n",
      "8\n",
      "9\n"
     ]
    }
   ],
   "source": [
    "for x in range(10):\n",
    "    print(x)"
   ]
  },
  {
   "cell_type": "code",
   "execution_count": 17,
   "id": "4ddd47cd",
   "metadata": {},
   "outputs": [
    {
     "name": "stdout",
     "output_type": "stream",
     "text": [
      "2\n",
      "3\n",
      "4\n",
      "5\n",
      "6\n",
      "7\n",
      "8\n",
      "9\n",
      "10\n",
      "11\n",
      "12\n",
      "13\n",
      "14\n",
      "15\n",
      "16\n",
      "17\n",
      "18\n",
      "19\n"
     ]
    }
   ],
   "source": [
    "for x in range(2,20):\n",
    "    print(x)"
   ]
  },
  {
   "cell_type": "code",
   "execution_count": 18,
   "id": "26ea03dc",
   "metadata": {},
   "outputs": [
    {
     "name": "stdout",
     "output_type": "stream",
     "text": [
      "2\n",
      "4\n",
      "6\n",
      "8\n",
      "10\n",
      "12\n",
      "14\n",
      "16\n",
      "18\n"
     ]
    }
   ],
   "source": [
    "for x in range(2,20,2):\n",
    "    print(x)"
   ]
  },
  {
   "cell_type": "code",
   "execution_count": 19,
   "id": "78dd9689",
   "metadata": {},
   "outputs": [],
   "source": [
    "#nested loops"
   ]
  },
  {
   "cell_type": "code",
   "execution_count": 20,
   "id": "3de2e550",
   "metadata": {},
   "outputs": [
    {
     "name": "stdout",
     "output_type": "stream",
     "text": [
      "red apple\n",
      "red banana\n",
      "red cherry\n",
      "..................\n",
      "big apple\n",
      "big banana\n",
      "big cherry\n",
      "..................\n",
      "sweet apple\n",
      "sweet banana\n",
      "sweet cherry\n",
      "..................\n"
     ]
    }
   ],
   "source": [
    "colors=['red','big','sweet']\n",
    "fruits=['apple','banana','cherry']\n",
    "for x in colors:\n",
    "    for y in fruits:\n",
    "        print(x,y)\n",
    "    print('..................')"
   ]
  },
  {
   "cell_type": "code",
   "execution_count": 21,
   "id": "3c889fc6",
   "metadata": {},
   "outputs": [
    {
     "name": "stdout",
     "output_type": "stream",
     "text": [
      "the sum of squares: 3269\n"
     ]
    }
   ],
   "source": [
    "# code to find the sum of squares of each elements of list using for loop\n",
    "\n",
    "numbers=[2,4,56,7,8]\n",
    "sum_=0\n",
    "for num in numbers:\n",
    "    sqr=num**2\n",
    "    sum_=sum_+sqr\n",
    "    #print(sqr)\n",
    "print('the sum of squares:',sum_)"
   ]
  },
  {
   "cell_type": "code",
   "execution_count": 22,
   "id": "4d680735",
   "metadata": {},
   "outputs": [
    {
     "name": "stdout",
     "output_type": "stream",
     "text": [
      "11 is a prime number\n",
      "13 is a prime number\n",
      "17 is a prime number\n",
      "19 is a prime number\n"
     ]
    }
   ],
   "source": [
    "# searches for prime numbers from 10-20\n",
    "\n",
    "for num in range(10,20):\n",
    "    for i in range(2,num):\n",
    "        if num %i==0:\n",
    "            break\n",
    "    else:\n",
    "        print(num,'is a prime number')"
   ]
  },
  {
   "cell_type": "code",
   "execution_count": 27,
   "id": "c3b42c0e",
   "metadata": {},
   "outputs": [
    {
     "name": "stdout",
     "output_type": "stream",
     "text": [
      "7 X 1 = 7\n",
      "7 X 2 = 14\n",
      "7 X 3 = 21\n",
      "7 X 4 = 28\n",
      "7 X 5 = 35\n",
      "7 X 6 = 42\n",
      "7 X 7 = 49\n",
      "7 X 8 = 56\n",
      "7 X 9 = 63\n",
      "7 X 10 = 70\n"
     ]
    }
   ],
   "source": [
    "# program to print multiplication table of given number\n",
    "n=7\n",
    "\n",
    "for i in range(1,11):\n",
    "    product =n*i\n",
    "    print('%d X %d = %d' % (n,i,product))"
   ]
  },
  {
   "cell_type": "code",
   "execution_count": 6,
   "id": "e0393cea",
   "metadata": {},
   "outputs": [
    {
     "name": "stdout",
     "output_type": "stream",
     "text": [
      "1\n",
      "12\n",
      "123\n",
      "1234\n",
      "12345\n"
     ]
    }
   ],
   "source": [
    "#pattern\n",
    "row=5\n",
    "\n",
    "for i in range(1,row+1):\n",
    "    for j in range(1,i+1):#run inner loop i+1 times\n",
    "        print(j,end=\" \")\n",
    "    print()"
   ]
  },
  {
   "cell_type": "code",
   "execution_count": 9,
   "id": "d812a490",
   "metadata": {},
   "outputs": [
    {
     "name": "stdout",
     "output_type": "stream",
     "text": [
      "1\n",
      "22\n",
      "333\n",
      "4444\n",
      "55555\n"
     ]
    }
   ],
   "source": [
    "#pattern\n",
    "row=5\n",
    "\n",
    "for i in range(1,row+1):\n",
    "    for j in range(1,i+1):#run inner loop i+1 times\n",
    "        print(i,end=\" \")\n",
    "    print()"
   ]
  },
  {
   "cell_type": "code",
   "execution_count": 10,
   "id": "b28ab499",
   "metadata": {},
   "outputs": [
    {
     "name": "stdout",
     "output_type": "stream",
     "text": [
      "*\n",
      "**\n",
      "***\n",
      "****\n",
      "*****\n"
     ]
    }
   ],
   "source": [
    "#pattern\n",
    "row=5\n",
    "\n",
    "for i in range(1,row+1):\n",
    "    for j in range(1,i+1):#run inner loop i+1 times\n",
    "        print(\"*\",end=\"\")\n",
    "    print()"
   ]
  },
  {
   "cell_type": "code",
   "execution_count": 17,
   "id": "c2d06d0e",
   "metadata": {},
   "outputs": [
    {
     "name": "stdout",
     "output_type": "stream",
     "text": [
      "5 4 3 2 1 \n",
      "4 3 2 1 \n",
      "3 2 1 \n",
      "2 1 \n",
      "1 \n",
      "\n"
     ]
    }
   ],
   "source": [
    "n=5\n",
    "k=5\n",
    "for i in range(0,n+1):\n",
    "    for j in range(k-i,0,-1):\n",
    "        print(j,end=' ')\n",
    "    print()"
   ]
  },
  {
   "cell_type": "code",
   "execution_count": 20,
   "id": "33344f31",
   "metadata": {},
   "outputs": [
    {
     "name": "stdout",
     "output_type": "stream",
     "text": [
      "* \n",
      "* * \n",
      "* * * \n",
      "* * * * \n",
      "* * * * * \n",
      "* * * * \n",
      "* * * \n",
      "* * \n",
      "* \n",
      "\n"
     ]
    }
   ],
   "source": [
    "row=5\n",
    "for i in range(0,row):\n",
    "    for j in range(0,i+1):\n",
    "        print('*',end=' ')\n",
    "    print()\n",
    "for i in range(row,0,-1):\n",
    "    for j in range(0,i-1):\n",
    "        print('*',end=' ')\n",
    "    print()"
   ]
  },
  {
   "cell_type": "code",
   "execution_count": 23,
   "id": "ffb96b4e",
   "metadata": {},
   "outputs": [
    {
     "name": "stdout",
     "output_type": "stream",
     "text": [
      "enter a string:messi36\n",
      "number of digits: 2\n",
      "number of letters: 5\n"
     ]
    }
   ],
   "source": [
    "s=input('enter a string:')\n",
    "\n",
    "digits=0\n",
    "letters=0\n",
    "\n",
    "for i in s:\n",
    "    if i.isdigit():\n",
    "        digits +=1\n",
    "    elif i.isalpha():\n",
    "        letters +=1\n",
    "    else:\n",
    "        pass\n",
    "    \n",
    "print('number of digits:',digits)\n",
    "print('number of letters:',letters)\n"
   ]
  },
  {
   "cell_type": "markdown",
   "id": "3ba6bcff",
   "metadata": {},
   "source": [
    "### list comprehension"
   ]
  },
  {
   "cell_type": "code",
   "execution_count": 24,
   "id": "eeb3f818",
   "metadata": {},
   "outputs": [
    {
     "name": "stdout",
     "output_type": "stream",
     "text": [
      "['apple', 'pineapple', 'orange']\n"
     ]
    }
   ],
   "source": [
    "fruits=['apple',\"pineapple\",\"orange\",'cherry']\n",
    "newlist=[]\n",
    "\n",
    "for x in fruits:\n",
    "    if \"a\" in x:\n",
    "        newlist.append(x)\n",
    "print(newlist)"
   ]
  },
  {
   "cell_type": "code",
   "execution_count": 25,
   "id": "0edea222",
   "metadata": {},
   "outputs": [
    {
     "name": "stdout",
     "output_type": "stream",
     "text": [
      "['apple', 'pineapple', 'orange']\n"
     ]
    }
   ],
   "source": [
    "fruits=['apple',\"pineapple\",\"orange\",'cherry']\n",
    "\n",
    "newlist=[x for x in fruits if 'a' in x]\n",
    "\n",
    "print(newlist)"
   ]
  },
  {
   "cell_type": "code",
   "execution_count": 26,
   "id": "37595794",
   "metadata": {},
   "outputs": [
    {
     "name": "stdout",
     "output_type": "stream",
     "text": [
      "['pineapple', 'orange', 'cherry']\n"
     ]
    }
   ],
   "source": [
    "fruits=['apple',\"pineapple\",\"orange\",'cherry']\n",
    "\n",
    "newlist2=[x for x in fruits if x != 'apple']\n",
    "\n",
    "print(newlist2)"
   ]
  },
  {
   "cell_type": "code",
   "execution_count": 27,
   "id": "50fda9a1",
   "metadata": {},
   "outputs": [
    {
     "name": "stdout",
     "output_type": "stream",
     "text": [
      "['apple', 'pineapple', 'orange', 'cherry']\n"
     ]
    }
   ],
   "source": [
    "fruits=['apple',\"pineapple\",\"orange\",'cherry']\n",
    "\n",
    "newlist3=[x for x in fruits]\n",
    "print(newlist3)"
   ]
  },
  {
   "cell_type": "code",
   "execution_count": 28,
   "id": "32e6aaea",
   "metadata": {},
   "outputs": [
    {
     "name": "stdout",
     "output_type": "stream",
     "text": [
      "[0, 1, 4, 9, 16, 25, 36, 49, 64, 81]\n"
     ]
    }
   ],
   "source": [
    "\n",
    "newlist4=[x*x for x in range(10)]\n",
    "print(newlist4)"
   ]
  },
  {
   "cell_type": "code",
   "execution_count": 29,
   "id": "605018ac",
   "metadata": {},
   "outputs": [
    {
     "name": "stdout",
     "output_type": "stream",
     "text": [
      "['APPLE', 'PINEAPPLE', 'ORANGE', 'CHERRY']\n"
     ]
    }
   ],
   "source": [
    "fruits=['apple',\"pineapple\",\"orange\",'cherry']\n",
    "\n",
    "newlist5=[x.upper() for x in fruits]\n",
    "\n",
    "print(newlist5)"
   ]
  },
  {
   "cell_type": "markdown",
   "id": "d7157c22",
   "metadata": {},
   "source": [
    "### using enumerate "
   ]
  },
  {
   "cell_type": "code",
   "execution_count": 30,
   "id": "f0f5a4d8",
   "metadata": {},
   "outputs": [
    {
     "name": "stdout",
     "output_type": "stream",
     "text": [
      "0 the\n",
      "1 big\n",
      "2 bang\n",
      "3 theory\n"
     ]
    }
   ],
   "source": [
    "for index,value in enumerate(['the','big','bang','theory']):\n",
    "    print(index,value)"
   ]
  },
  {
   "cell_type": "code",
   "execution_count": 34,
   "id": "ce47afc4",
   "metadata": {},
   "outputs": [
    {
     "name": "stdout",
     "output_type": "stream",
     "text": [
      "<enumerate object at 0x0000015C1CAB90D0>\n",
      "<class 'enumerate'>\n",
      "[(0, 'bread'), (1, 'milk'), (2, 'butter')]\n",
      "[(10, 'bread'), (11, 'milk'), (12, 'butter')]\n"
     ]
    }
   ],
   "source": [
    "grocery=[\"bread\",\"milk\",\"butter\"]\n",
    "enumerategrocery=enumerate(grocery)\n",
    "\n",
    "print(enumerategrocery)\n",
    "print(type(enumerategrocery))\n",
    "\n",
    "print(list(enumerategrocery))\n",
    "\n",
    "enumerategrocery=enumerate(grocery,10)\n",
    "print(list(enumerategrocery))"
   ]
  },
  {
   "cell_type": "markdown",
   "id": "cb3180b3",
   "metadata": {},
   "source": [
    "### zip"
   ]
  },
  {
   "cell_type": "code",
   "execution_count": 35,
   "id": "79d752fe",
   "metadata": {},
   "outputs": [
    {
     "name": "stdout",
     "output_type": "stream",
     "text": [
      "what is your name? i am apple.\n",
      "what is your color? i am red.\n",
      "what is your shape? i am a circle.\n"
     ]
    }
   ],
   "source": [
    "questions=['name','color','shape']\n",
    "answers=['apple','red','a circle']\n",
    "\n",
    "for question, answer in zip(questions,answers):\n",
    "    print('what is your {0}? i am {1}.'.format(question, answer))"
   ]
  },
  {
   "cell_type": "code",
   "execution_count": 38,
   "id": "2d3b2ee9",
   "metadata": {},
   "outputs": [
    {
     "name": "stdout",
     "output_type": "stream",
     "text": [
      "the lis in sorted order is:\n",
      "1 1 3 4 5 6 7 8 \n",
      "the lis in sorted order without duplicate is:\n",
      "1 3 4 5 6 7 8 "
     ]
    }
   ],
   "source": [
    "lis=[1,3,5,4,6,1,7,8]\n",
    "\n",
    "print('the lis in sorted order is:')\n",
    "for i in sorted(lis):\n",
    "    print(i,end=\" \")\n",
    "print('')\n",
    "\n",
    "print('the lis in sorted order without duplicate is:')\n",
    "for i in sorted(set(lis)):\n",
    "    print(i,end=' ')"
   ]
  },
  {
   "cell_type": "code",
   "execution_count": null,
   "id": "4f71961a",
   "metadata": {},
   "outputs": [],
   "source": [
    "#using reversed\n"
   ]
  },
  {
   "cell_type": "code",
   "execution_count": 39,
   "id": "742700e5",
   "metadata": {},
   "outputs": [
    {
     "name": "stdout",
     "output_type": "stream",
     "text": [
      "The lis in reversed order is:\n",
      "8 7 1 6 4 5 3 1 "
     ]
    }
   ],
   "source": [
    "lis=[1,3,5,4,6,1,7,8]\n",
    "print('The lis in reversed order is:')\n",
    "for i in reversed(lis):\n",
    "    print(i,end=' ')"
   ]
  },
  {
   "cell_type": "code",
   "execution_count": 40,
   "id": "b2d064b7",
   "metadata": {},
   "outputs": [],
   "source": [
    "#iter and next"
   ]
  },
  {
   "cell_type": "code",
   "execution_count": 42,
   "id": "27511b2c",
   "metadata": {},
   "outputs": [
    {
     "name": "stdout",
     "output_type": "stream",
     "text": [
      "a\n",
      "e\n",
      "i\n",
      "o\n",
      "u\n"
     ]
    }
   ],
   "source": [
    "vowels=['a','e','i','o','u']\n",
    "\n",
    "vowels_iter=iter(vowels)\n",
    "\n",
    "print(next(vowels_iter))\n",
    "print(next(vowels_iter))\n",
    "print(next(vowels_iter))\n",
    "print(next(vowels_iter))\n",
    "print(next(vowels_iter))\n"
   ]
  },
  {
   "cell_type": "markdown",
   "id": "49ba2652",
   "metadata": {},
   "source": []
  }
 ],
 "metadata": {
  "kernelspec": {
   "display_name": "Python 3 (ipykernel)",
   "language": "python",
   "name": "python3"
  },
  "language_info": {
   "codemirror_mode": {
    "name": "ipython",
    "version": 3
   },
   "file_extension": ".py",
   "mimetype": "text/x-python",
   "name": "python",
   "nbconvert_exporter": "python",
   "pygments_lexer": "ipython3",
   "version": "3.11.5"
  }
 },
 "nbformat": 4,
 "nbformat_minor": 5
}

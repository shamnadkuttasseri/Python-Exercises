{
 "cells": [
  {
   "cell_type": "markdown",
   "id": "2d4d1698",
   "metadata": {},
   "source": [
    "## python functions\n"
   ]
  },
  {
   "cell_type": "code",
   "execution_count": null,
   "id": "b7aba848",
   "metadata": {},
   "outputs": [],
   "source": [
    "def function_name(argument):\n",
    "    \n",
    "    #function body\n",
    "    return "
   ]
  },
  {
   "cell_type": "code",
   "execution_count": 1,
   "id": "2de7d0e9",
   "metadata": {},
   "outputs": [],
   "source": [
    "def greet():\n",
    "    print('Hello World!')"
   ]
  },
  {
   "cell_type": "code",
   "execution_count": 2,
   "id": "4196e1f1",
   "metadata": {},
   "outputs": [
    {
     "name": "stdout",
     "output_type": "stream",
     "text": [
      "Hello World!\n",
      "Hello World!\n"
     ]
    }
   ],
   "source": [
    "greet()\n",
    "\n",
    "greet()"
   ]
  },
  {
   "cell_type": "code",
   "execution_count": 3,
   "id": "6c485f6b",
   "metadata": {},
   "outputs": [
    {
     "name": "stdout",
     "output_type": "stream",
     "text": [
      "hello ravi\n",
      "hello 90\n"
     ]
    }
   ],
   "source": [
    "def name_fn(name):\n",
    "    print('hello', name)\n",
    "name_fn('ravi')\n",
    "name_fn(90)"
   ]
  },
  {
   "cell_type": "code",
   "execution_count": 4,
   "id": "d78180a7",
   "metadata": {},
   "outputs": [
    {
     "name": "stdout",
     "output_type": "stream",
     "text": [
      "Enter a name:shamnad\n",
      "hello shamnad\n"
     ]
    }
   ],
   "source": [
    "x=input('Enter a name:')\n",
    "name_fn(x)"
   ]
  },
  {
   "cell_type": "code",
   "execution_count": 7,
   "id": "8543a663",
   "metadata": {},
   "outputs": [
    {
     "name": "stdout",
     "output_type": "stream",
     "text": [
      "sum: 99\n"
     ]
    }
   ],
   "source": [
    "#function with two arguments\n",
    "def add_numbers(num1,num2):\n",
    "    sum=num1+num2\n",
    "    print(\"sum:\",sum)\n",
    "add_numbers(90,9)"
   ]
  },
  {
   "cell_type": "code",
   "execution_count": 9,
   "id": "0f922ae4",
   "metadata": {},
   "outputs": [
    {
     "name": "stdout",
     "output_type": "stream",
     "text": [
      "Enter a number:23\n",
      "Enter a number:45\n",
      "sum: 68\n"
     ]
    }
   ],
   "source": [
    "x=int(input('Enter a number:'))\n",
    "y=int(input('Enter a number:'))\n",
    "add_numbers(x,y)"
   ]
  },
  {
   "cell_type": "code",
   "execution_count": 12,
   "id": "37a347d7",
   "metadata": {},
   "outputs": [
    {
     "name": "stdout",
     "output_type": "stream",
     "text": [
      "sum: 13\n"
     ]
    }
   ],
   "source": [
    "add_numbers(9,4)"
   ]
  },
  {
   "cell_type": "markdown",
   "id": "e5bedc07",
   "metadata": {},
   "source": [
    "### function argument with default values"
   ]
  },
  {
   "cell_type": "code",
   "execution_count": 15,
   "id": "0579c723",
   "metadata": {},
   "outputs": [
    {
     "name": "stdout",
     "output_type": "stream",
     "text": [
      "sum: 6\n",
      "sum: 12\n",
      "sum: 7\n"
     ]
    }
   ],
   "source": [
    "def add_numbers(num1=2,num2=4):\n",
    "    sum=num1+num2\n",
    "    print(\"sum:\",sum)\n",
    "#function call without argument\n",
    "add_numbers()\n",
    "#function call with two arguments\n",
    "add_numbers(3,9)\n",
    "#function call with one argument\n",
    "add_numbers(num2=5)\n"
   ]
  },
  {
   "cell_type": "markdown",
   "id": "de35974e",
   "metadata": {},
   "source": [
    "### function with arbitary arguments"
   ]
  },
  {
   "cell_type": "code",
   "execution_count": 16,
   "id": "f15d3b13",
   "metadata": {},
   "outputs": [
    {
     "name": "stdout",
     "output_type": "stream",
     "text": [
      "sum= 6\n",
      "sum= 94\n"
     ]
    }
   ],
   "source": [
    "#prgrm to fnd sum of multiple numbers\n",
    "\n",
    "def find_sum(*numbers):\n",
    "    result=0\n",
    "    for num in numbers:\n",
    "        result +=num\n",
    "    print(\"sum=\",result)\n",
    "\n",
    "    \n",
    "find_sum(1,2,3)\n",
    "\n",
    "find_sum(1,2,3,4,4,56,7,8,9)"
   ]
  },
  {
   "cell_type": "markdown",
   "id": "3eaa9cbe",
   "metadata": {},
   "source": [
    "### return statement"
   ]
  },
  {
   "cell_type": "code",
   "execution_count": 17,
   "id": "2f2e77cc",
   "metadata": {},
   "outputs": [
    {
     "name": "stdout",
     "output_type": "stream",
     "text": [
      "square 16\n"
     ]
    }
   ],
   "source": [
    "#funtion definition\n",
    "def find_square(num):\n",
    "    result=num*num\n",
    "    return result\n",
    "\n",
    "square = find_square(4)\n",
    "print('square',square)"
   ]
  },
  {
   "cell_type": "code",
   "execution_count": 18,
   "id": "6e309b8e",
   "metadata": {
    "scrolled": true
   },
   "outputs": [
    {
     "name": "stdout",
     "output_type": "stream",
     "text": [
      "calculations 42 13 -1\n"
     ]
    }
   ],
   "source": [
    "def calculation(num1,num2):\n",
    "    sqr=num1*num2\n",
    "    sum=num1+num2\n",
    "    sub=num1-num2\n",
    "    return sqr,sum,sub\n",
    "x,y,z=calculation(6,7)\n",
    "print('calculations',x,y,z)"
   ]
  },
  {
   "cell_type": "markdown",
   "id": "ba8017a9",
   "metadata": {},
   "source": [
    "### python recursive function"
   ]
  },
  {
   "cell_type": "code",
   "execution_count": 19,
   "id": "4906094f",
   "metadata": {},
   "outputs": [
    {
     "name": "stdout",
     "output_type": "stream",
     "text": [
      "the factorial of 3 is 6\n"
     ]
    }
   ],
   "source": [
    "def factorial(x):\n",
    "    if x==1:\n",
    "        return 1\n",
    "    else:\n",
    "        return(x*factorial(x-1))\n",
    "num=3\n",
    "print('the factorial of',num,'is',factorial(num))"
   ]
  },
  {
   "cell_type": "code",
   "execution_count": null,
   "id": "20637455",
   "metadata": {},
   "outputs": [],
   "source": [
    "# factorial(3)\n",
    "# 3*factorial(2)\n",
    "# 3*2*factorial(1)\n",
    "# 3*2*1\n",
    "# 3*2\n",
    "# 6"
   ]
  },
  {
   "cell_type": "code",
   "execution_count": 23,
   "id": "0f373043",
   "metadata": {},
   "outputs": [
    {
     "name": "stdout",
     "output_type": "stream",
     "text": [
      "enter a number:23\n",
      "odd\n"
     ]
    }
   ],
   "source": [
    "#task\n",
    "\n",
    "#define a function that checks if a number is even or oddo\n",
    "def even_odd(num):\n",
    "    if num/2==0:\n",
    "        return 'even'\n",
    "    else:\n",
    "        return 'odd'\n",
    "\n",
    "num1=int(input(\"enter a number:\"))\n",
    "\n",
    "print(even_odd(num1))"
   ]
  },
  {
   "cell_type": "markdown",
   "id": "793fcbf2",
   "metadata": {},
   "source": [
    "### Lambda function"
   ]
  },
  {
   "cell_type": "code",
   "execution_count": 24,
   "id": "0dd85be1",
   "metadata": {},
   "outputs": [],
   "source": [
    "def greet():\n",
    "    print('Hello world')\n"
   ]
  },
  {
   "cell_type": "code",
   "execution_count": 25,
   "id": "ff2064fb",
   "metadata": {},
   "outputs": [
    {
     "name": "stdout",
     "output_type": "stream",
     "text": [
      "hello world\n"
     ]
    }
   ],
   "source": [
    "greet=lambda:print('hello world')\n",
    "greet()"
   ]
  },
  {
   "cell_type": "code",
   "execution_count": 26,
   "id": "3110da88",
   "metadata": {},
   "outputs": [
    {
     "name": "stdout",
     "output_type": "stream",
     "text": [
      "hello ravi\n"
     ]
    }
   ],
   "source": [
    "def name_fn(name):\n",
    "    print('hello',name)\n",
    "    \n",
    "name_fn('ravi')\n"
   ]
  },
  {
   "cell_type": "code",
   "execution_count": 28,
   "id": "a8691973",
   "metadata": {},
   "outputs": [
    {
     "name": "stdout",
     "output_type": "stream",
     "text": [
      "hello john\n"
     ]
    }
   ],
   "source": [
    "greet_user=lambda name:print('hello',name)\n",
    "\n",
    "greet_user('john')"
   ]
  },
  {
   "cell_type": "markdown",
   "id": "612c17ee",
   "metadata": {},
   "source": [
    "### Python Variable Scope\n",
    "\n",
    "        local variable \n",
    "        global variable"
   ]
  },
  {
   "cell_type": "code",
   "execution_count": 1,
   "id": "7b0c2d1b",
   "metadata": {},
   "outputs": [
    {
     "name": "stdout",
     "output_type": "stream",
     "text": [
      "local hello\n",
      "global hi\n"
     ]
    }
   ],
   "source": [
    "message=\"global hi\"\n",
    "def greet():\n",
    "    message=\"local hello\"\n",
    "    print(message)\n",
    "    \n",
    "greet()\n",
    "print(message)"
   ]
  },
  {
   "cell_type": "markdown",
   "id": "8f4300ec",
   "metadata": {},
   "source": [
    "### Module"
   ]
  },
  {
   "cell_type": "code",
   "execution_count": 2,
   "id": "349a2d3e",
   "metadata": {},
   "outputs": [],
   "source": [
    "#python module addition\n",
    "def add_(a,b):\n",
    "    result=a+b\n",
    "    return result\n",
    "#save this as python file\n"
   ]
  },
  {
   "cell_type": "code",
   "execution_count": 2,
   "id": "08d1964e",
   "metadata": {},
   "outputs": [
    {
     "name": "stdout",
     "output_type": "stream",
     "text": [
      "9\n"
     ]
    }
   ],
   "source": [
    "import example\n",
    "x=example.add_(4,5)\n",
    "print(x)"
   ]
  },
  {
   "cell_type": "markdown",
   "id": "6e584cfc",
   "metadata": {},
   "source": [
    "### Standard Library Modules"
   ]
  },
  {
   "cell_type": "code",
   "execution_count": 1,
   "id": "2e016503",
   "metadata": {},
   "outputs": [
    {
     "name": "stdout",
     "output_type": "stream",
     "text": [
      "the value pi is 3.141592653589793\n"
     ]
    }
   ],
   "source": [
    "#import standard math module\n",
    "import math\n",
    "print('the value pi is',math.pi)"
   ]
  },
  {
   "cell_type": "code",
   "execution_count": 3,
   "id": "cc6ead9c",
   "metadata": {},
   "outputs": [
    {
     "name": "stdout",
     "output_type": "stream",
     "text": [
      "3.141592653589793\n"
     ]
    }
   ],
   "source": [
    "# PYTHON IMPORT WITH RENAMING\n",
    "import math as m\n",
    "print(m.pi)"
   ]
  },
  {
   "cell_type": "code",
   "execution_count": 8,
   "id": "f205559f",
   "metadata": {},
   "outputs": [
    {
     "name": "stdout",
     "output_type": "stream",
     "text": [
      "3.141592653589793\n",
      "4.499809670330265\n"
     ]
    }
   ],
   "source": [
    "#PYTHON FROM....IMPORT STATEMENT\n",
    "from math import pi,log\n",
    "print(pi)\n",
    "print(log(90))\n"
   ]
  },
  {
   "cell_type": "code",
   "execution_count": 1,
   "id": "a84edaac",
   "metadata": {},
   "outputs": [
    {
     "name": "stdout",
     "output_type": "stream",
     "text": [
      "the value of pi is 3.141592653589793\n",
      "Radius= 31.41592653589793\n",
      "1.6094379124341003\n"
     ]
    },
    {
     "data": {
      "text/plain": [
       "2.23606797749979"
      ]
     },
     "execution_count": 1,
     "metadata": {},
     "output_type": "execute_result"
    }
   ],
   "source": [
    "#IMPORT ALL NAMES\n",
    "from math import *\n",
    "print('the value of pi is',pi)\n",
    "r=5\n",
    "print('Radius=',2*pi*r)\n",
    "print(log(r))\n",
    "sqrt(r)\n"
   ]
  },
  {
   "cell_type": "markdown",
   "id": "1e9fb3fe",
   "metadata": {},
   "source": [
    "## Error Handling (exception)"
   ]
  },
  {
   "cell_type": "code",
   "execution_count": 13,
   "id": "3bb61864",
   "metadata": {},
   "outputs": [
    {
     "name": "stdout",
     "output_type": "stream",
     "text": [
      "starting calculation\n",
      "87 / 40 = 2.175\n",
      "starting calculation\n"
     ]
    },
    {
     "ename": "ZeroDivisionError",
     "evalue": "division by zero",
     "output_type": "error",
     "traceback": [
      "\u001b[1;31m---------------------------------------------------------------------------\u001b[0m",
      "\u001b[1;31mZeroDivisionError\u001b[0m                         Traceback (most recent call last)",
      "Cell \u001b[1;32mIn[13], line 8\u001b[0m\n\u001b[0;32m      4\u001b[0m     \u001b[38;5;28mprint\u001b[39m(number,\u001b[38;5;124m'\u001b[39m\u001b[38;5;124m/\u001b[39m\u001b[38;5;124m'\u001b[39m,divisor,\u001b[38;5;124m'\u001b[39m\u001b[38;5;124m=\u001b[39m\u001b[38;5;124m'\u001b[39m,result)\n\u001b[0;32m      7\u001b[0m divide(\u001b[38;5;241m87\u001b[39m,\u001b[38;5;241m40\u001b[39m)\n\u001b[1;32m----> 8\u001b[0m divide(\u001b[38;5;241m9\u001b[39m,\u001b[38;5;241m0\u001b[39m)\n",
      "Cell \u001b[1;32mIn[13], line 3\u001b[0m, in \u001b[0;36mdivide\u001b[1;34m(number, divisor)\u001b[0m\n\u001b[0;32m      1\u001b[0m \u001b[38;5;28;01mdef\u001b[39;00m \u001b[38;5;21mdivide\u001b[39m(number,divisor):\n\u001b[0;32m      2\u001b[0m     \u001b[38;5;28mprint\u001b[39m(\u001b[38;5;124m'\u001b[39m\u001b[38;5;124mstarting calculation\u001b[39m\u001b[38;5;124m'\u001b[39m)\n\u001b[1;32m----> 3\u001b[0m     result\u001b[38;5;241m=\u001b[39mnumber\u001b[38;5;241m/\u001b[39mdivisor\n\u001b[0;32m      4\u001b[0m     \u001b[38;5;28mprint\u001b[39m(number,\u001b[38;5;124m'\u001b[39m\u001b[38;5;124m/\u001b[39m\u001b[38;5;124m'\u001b[39m,divisor,\u001b[38;5;124m'\u001b[39m\u001b[38;5;124m=\u001b[39m\u001b[38;5;124m'\u001b[39m,result)\n",
      "\u001b[1;31mZeroDivisionError\u001b[0m: division by zero"
     ]
    }
   ],
   "source": [
    "def divide(number,divisor):\n",
    "    print('starting calculation')\n",
    "    result=number/divisor\n",
    "    print(number,'/',divisor,'=',result)\n",
    "\n",
    "    \n",
    "#divide(87,40)\n",
    "divide(9,0)"
   ]
  },
  {
   "cell_type": "markdown",
   "id": "41692c2c",
   "metadata": {},
   "source": [
    "### try-except"
   ]
  },
  {
   "cell_type": "code",
   "execution_count": 18,
   "id": "c05e081c",
   "metadata": {},
   "outputs": [],
   "source": [
    "#ZeroDivisionError\n",
    "def divide(number,divisor):\n",
    "    print('starting calculation')\n",
    "    try:\n",
    "        result=number/divisor\n",
    "        print(number,'/',divisor,'=',result)\n",
    "    except ZeroDivisionError:\n",
    "        print('cannot divide by zero')\n",
    "    print('calculation over..')"
   ]
  },
  {
   "cell_type": "code",
   "execution_count": 19,
   "id": "5db5e44b",
   "metadata": {},
   "outputs": [
    {
     "name": "stdout",
     "output_type": "stream",
     "text": [
      "starting calculation\n",
      "87 / 40 = 2.175\n",
      "calculation over..\n",
      "starting calculation\n",
      "cannot divide by zero\n",
      "calculation over..\n"
     ]
    }
   ],
   "source": [
    "divide(87,40)\n",
    "divide(9,0)"
   ]
  },
  {
   "cell_type": "code",
   "execution_count": 20,
   "id": "275aa967",
   "metadata": {},
   "outputs": [
    {
     "name": "stdout",
     "output_type": "stream",
     "text": [
      "starting calculation\n"
     ]
    },
    {
     "ename": "TypeError",
     "evalue": "unsupported operand type(s) for /: 'int' and 'str'",
     "output_type": "error",
     "traceback": [
      "\u001b[1;31m---------------------------------------------------------------------------\u001b[0m",
      "\u001b[1;31mTypeError\u001b[0m                                 Traceback (most recent call last)",
      "Cell \u001b[1;32mIn[20], line 11\u001b[0m\n\u001b[0;32m      7\u001b[0m         \u001b[38;5;28mprint\u001b[39m(\u001b[38;5;124m'\u001b[39m\u001b[38;5;124mcannot divide by zero\u001b[39m\u001b[38;5;124m'\u001b[39m)\n\u001b[0;32m      8\u001b[0m     \u001b[38;5;28mprint\u001b[39m(\u001b[38;5;124m'\u001b[39m\u001b[38;5;124mcalculation over..\u001b[39m\u001b[38;5;124m'\u001b[39m)\n\u001b[1;32m---> 11\u001b[0m divide(\u001b[38;5;241m23\u001b[39m,\u001b[38;5;124m\"\u001b[39m\u001b[38;5;124masd\u001b[39m\u001b[38;5;124m\"\u001b[39m)\n",
      "Cell \u001b[1;32mIn[20], line 4\u001b[0m, in \u001b[0;36mdivide\u001b[1;34m(number, divisor)\u001b[0m\n\u001b[0;32m      2\u001b[0m \u001b[38;5;28mprint\u001b[39m(\u001b[38;5;124m'\u001b[39m\u001b[38;5;124mstarting calculation\u001b[39m\u001b[38;5;124m'\u001b[39m)\n\u001b[0;32m      3\u001b[0m \u001b[38;5;28;01mtry\u001b[39;00m:\n\u001b[1;32m----> 4\u001b[0m     result\u001b[38;5;241m=\u001b[39mnumber\u001b[38;5;241m/\u001b[39mdivisor\n\u001b[0;32m      5\u001b[0m     \u001b[38;5;28mprint\u001b[39m(number,\u001b[38;5;124m'\u001b[39m\u001b[38;5;124m/\u001b[39m\u001b[38;5;124m'\u001b[39m,divisor,\u001b[38;5;124m'\u001b[39m\u001b[38;5;124m=\u001b[39m\u001b[38;5;124m'\u001b[39m,result)\n\u001b[0;32m      6\u001b[0m \u001b[38;5;28;01mexcept\u001b[39;00m \u001b[38;5;167;01mZeroDivisionError\u001b[39;00m:\n",
      "\u001b[1;31mTypeError\u001b[0m: unsupported operand type(s) for /: 'int' and 'str'"
     ]
    }
   ],
   "source": [
    "\n",
    "def divide(number,divisor):\n",
    "    print('starting calculation')\n",
    "    try:\n",
    "        result=number/divisor\n",
    "        print(number,'/',divisor,'=',result)\n",
    "    except ZeroDivisionError:\n",
    "        print('cannot divide by zero')\n",
    "    print('calculation over..')\n",
    "    \n",
    "    \n",
    "divide(23,\"asd\")"
   ]
  },
  {
   "cell_type": "code",
   "execution_count": 23,
   "id": "82c4cc67",
   "metadata": {},
   "outputs": [
    {
     "name": "stdout",
     "output_type": "stream",
     "text": [
      "starting calculation\n",
      "incorrect inputs\n",
      "calculation over..\n",
      "starting calculation\n",
      "cannot divide by zero\n",
      "calculation over..\n",
      "starting calculation\n",
      "23 / 4 = 5.75\n",
      "calculation over..\n"
     ]
    }
   ],
   "source": [
    "#ZeroDivisionError,ValueError seperately\n",
    "def divide(number,divisor):\n",
    "    print('starting calculation')\n",
    "    try:\n",
    "        result=float(number)/float(divisor)\n",
    "        print(number,'/',divisor,'=',result)\n",
    "    except(ZeroDivisionError):\n",
    "        print('cannot divide by zero')\n",
    "    except ValueError:\n",
    "        print('incorrect inputs')\n",
    "    print('calculation over..')\n",
    "    \n",
    "    \n",
    "divide(23,\"asd\")\n",
    "divide(9,0)\n",
    "divide(23,4)"
   ]
  },
  {
   "cell_type": "code",
   "execution_count": 25,
   "id": "e7f464b0",
   "metadata": {},
   "outputs": [
    {
     "name": "stdout",
     "output_type": "stream",
     "text": [
      "starting calculation\n",
      "incorrect inputs\n",
      "calculation over..\n",
      "starting calculation\n",
      "incorrect inputs\n",
      "calculation over..\n",
      "starting calculation\n",
      "23 / 4 = 5.75\n",
      "calculation over..\n"
     ]
    }
   ],
   "source": [
    "#ZeroDivisionError,ValueError in single line\n",
    "def divide(number,divisor):\n",
    "    print('starting calculation')\n",
    "    try:\n",
    "        result=float(number)/float(divisor)\n",
    "        print(number,'/',divisor,'=',result)\n",
    "    except(ZeroDivisionError,ValueError):\n",
    "        print('incorrect inputs')\n",
    "    print('calculation over..')\n",
    "\n",
    "\n",
    "divide(23,\"asd\")\n",
    "divide(9,0)\n",
    "divide(23,4)"
   ]
  },
  {
   "cell_type": "code",
   "execution_count": 28,
   "id": "d295a2c7",
   "metadata": {},
   "outputs": [
    {
     "name": "stdout",
     "output_type": "stream",
     "text": [
      "list too short\n"
     ]
    }
   ],
   "source": [
    "#IndexError\n",
    "def get_head(items):\n",
    "    try:\n",
    "        return items[0]\n",
    "    except IndexError:\n",
    "        return 'list too short'\n",
    "print(get_head([]))"
   ]
  },
  {
   "cell_type": "code",
   "execution_count": 30,
   "id": "32e7fd16",
   "metadata": {},
   "outputs": [
    {
     "name": "stdout",
     "output_type": "stream",
     "text": [
      "4\n",
      "nothing\n"
     ]
    }
   ],
   "source": [
    "#else\n",
    "y=4\n",
    "try:\n",
    "    print(y)\n",
    "except:\n",
    "    print('y is not difined')\n",
    "else:\n",
    "    print('nothing')\n",
    "    "
   ]
  },
  {
   "cell_type": "code",
   "execution_count": 32,
   "id": "c5a3741d",
   "metadata": {},
   "outputs": [
    {
     "name": "stdout",
     "output_type": "stream",
     "text": [
      "8\n",
      "try-except is finished\n"
     ]
    }
   ],
   "source": [
    "#finally\n",
    "m=8\n",
    "try:\n",
    "    print(m)\n",
    "except:\n",
    "    print('something went wrong')\n",
    "finally:\n",
    "    print('try-except is finished')"
   ]
  },
  {
   "cell_type": "code",
   "execution_count": 34,
   "id": "80ad5c8a",
   "metadata": {},
   "outputs": [
    {
     "ename": "Exception",
     "evalue": "sorry,no numbers below zero",
     "output_type": "error",
     "traceback": [
      "\u001b[1;31m---------------------------------------------------------------------------\u001b[0m",
      "\u001b[1;31mException\u001b[0m                                 Traceback (most recent call last)",
      "Cell \u001b[1;32mIn[34], line 3\u001b[0m\n\u001b[0;32m      1\u001b[0m x\u001b[38;5;241m=\u001b[39m\u001b[38;5;241m-\u001b[39m\u001b[38;5;241m8\u001b[39m\n\u001b[0;32m      2\u001b[0m \u001b[38;5;28;01mif\u001b[39;00m x\u001b[38;5;241m<\u001b[39m\u001b[38;5;241m0\u001b[39m:\n\u001b[1;32m----> 3\u001b[0m     \u001b[38;5;28;01mraise\u001b[39;00m \u001b[38;5;167;01mException\u001b[39;00m(\u001b[38;5;124m'\u001b[39m\u001b[38;5;124msorry,no numbers below zero\u001b[39m\u001b[38;5;124m'\u001b[39m)\n",
      "\u001b[1;31mException\u001b[0m: sorry,no numbers below zero"
     ]
    }
   ],
   "source": [
    "x=-8\n",
    "if x<0:\n",
    "    raise Exception('sorry,no numbers below zero')"
   ]
  },
  {
   "cell_type": "code",
   "execution_count": 36,
   "id": "39b551ec",
   "metadata": {},
   "outputs": [
    {
     "ename": "TypeError",
     "evalue": "only integers are allowed",
     "output_type": "error",
     "traceback": [
      "\u001b[1;31m---------------------------------------------------------------------------\u001b[0m",
      "\u001b[1;31mTypeError\u001b[0m                                 Traceback (most recent call last)",
      "Cell \u001b[1;32mIn[36], line 4\u001b[0m\n\u001b[0;32m      2\u001b[0m x\u001b[38;5;241m=\u001b[39m\u001b[38;5;124m'\u001b[39m\u001b[38;5;124mhello\u001b[39m\u001b[38;5;124m'\u001b[39m\n\u001b[0;32m      3\u001b[0m \u001b[38;5;28;01mif\u001b[39;00m \u001b[38;5;129;01mnot\u001b[39;00m \u001b[38;5;28mtype\u001b[39m(x) \u001b[38;5;129;01mis\u001b[39;00m \u001b[38;5;28mint\u001b[39m:\n\u001b[1;32m----> 4\u001b[0m     \u001b[38;5;28;01mraise\u001b[39;00m \u001b[38;5;167;01mTypeError\u001b[39;00m(\u001b[38;5;124m'\u001b[39m\u001b[38;5;124monly integers are allowed\u001b[39m\u001b[38;5;124m'\u001b[39m)\n",
      "\u001b[1;31mTypeError\u001b[0m: only integers are allowed"
     ]
    }
   ],
   "source": [
    "x=7\n",
    "x='hello'\n",
    "if not type(x) is int:\n",
    "    raise TypeError('only integers are allowed')"
   ]
  },
  {
   "cell_type": "markdown",
   "id": "84c2e387",
   "metadata": {},
   "source": [
    "## python dictionaries\n",
    "            \n",
    "            used to store data values in key value pairs."
   ]
  },
  {
   "cell_type": "code",
   "execution_count": 4,
   "id": "e349bbd7",
   "metadata": {},
   "outputs": [
    {
     "name": "stdout",
     "output_type": "stream",
     "text": [
      "{' brand': 'ford', 'electric': False, 'year': 1964, 'colour': ['red', 'white', 'blue']}\n",
      "4\n"
     ]
    }
   ],
   "source": [
    "mydict={\n",
    "   ' brand':'ford',\n",
    "    'electric':False,\n",
    "    'year':1964,\n",
    "    'colour':['red','white','blue']\n",
    "}\n",
    "print(mydict)\n",
    "print(len(mydict))"
   ]
  },
  {
   "cell_type": "markdown",
   "id": "be2d1aab",
   "metadata": {},
   "source": [
    "#### accessing items"
   ]
  },
  {
   "cell_type": "code",
   "execution_count": 8,
   "id": "34c31ce4",
   "metadata": {},
   "outputs": [
    {
     "name": "stdout",
     "output_type": "stream",
     "text": [
      "mustang\n"
     ]
    }
   ],
   "source": [
    "mydict={\n",
    "   ' brand':'ford',\n",
    "    'model':'mustang',\n",
    "    'year':1964,\n",
    "}\n",
    "x=mydict['model']\n",
    "print(x)"
   ]
  },
  {
   "cell_type": "code",
   "execution_count": 10,
   "id": "167d70d1",
   "metadata": {},
   "outputs": [
    {
     "name": "stdout",
     "output_type": "stream",
     "text": [
      "mustang\n"
     ]
    }
   ],
   "source": [
    "mydict={\n",
    "   ' brand':'ford',\n",
    "    'model':'mustang',\n",
    "    'year':1964,\n",
    "}\n",
    "y=mydict.get('model')\n",
    "print(y)"
   ]
  },
  {
   "cell_type": "code",
   "execution_count": 15,
   "id": "43d4b1e8",
   "metadata": {},
   "outputs": [
    {
     "name": "stdout",
     "output_type": "stream",
     "text": [
      "dict_keys([' brand', 'model', 'year'])\n",
      "dict_values(['ford', 'mustang', 1964])\n",
      "dict_items([(' brand', 'ford'), ('model', 'mustang'), ('year', 1964)])\n"
     ]
    }
   ],
   "source": [
    "mydict={\n",
    "   ' brand':'ford',\n",
    "    'model':'mustang',\n",
    "    'year':1964,\n",
    "}\n",
    "\n",
    "x= mydict.keys()\n",
    "print(x)\n",
    "\n",
    "y= mydict.values()\n",
    "print(y)\n",
    "\n",
    "z= mydict.items()\n",
    "print(z)"
   ]
  },
  {
   "cell_type": "markdown",
   "id": "581b808a",
   "metadata": {},
   "source": [
    "#### change values"
   ]
  },
  {
   "cell_type": "code",
   "execution_count": 4,
   "id": "e929abf2",
   "metadata": {},
   "outputs": [
    {
     "name": "stdout",
     "output_type": "stream",
     "text": [
      "{'brand': 'toyota', 'model': 'etios liva', 'year': 2018}\n"
     ]
    }
   ],
   "source": [
    "mydict={\n",
    "    'brand':'ford',\n",
    "    'model':'mustang',\n",
    "    'year':1964\n",
    "}\n",
    "mydict['year']=2018\n",
    "mydict['model']=\"etios liva\"\n",
    "mydict['brand']='toyota'\n",
    "print(mydict)\n"
   ]
  },
  {
   "cell_type": "markdown",
   "id": "dad6df72",
   "metadata": {},
   "source": [
    "#### update values"
   ]
  },
  {
   "cell_type": "code",
   "execution_count": 5,
   "id": "92e0b1c7",
   "metadata": {},
   "outputs": [
    {
     "name": "stdout",
     "output_type": "stream",
     "text": [
      "{'brand': 'toyota', 'model': 'innova', 'year': 2010}\n"
     ]
    }
   ],
   "source": [
    "mydict={\n",
    "    'brand':'ford',\n",
    "    'model':'mustang',\n",
    "    'year':1964\n",
    "}\n",
    "mydict.update({'brand':\"toyota\"})\n",
    "mydict.update({'model':'innova'})\n",
    "mydict.update({'year':2010})\n",
    "print(mydict)"
   ]
  },
  {
   "cell_type": "markdown",
   "id": "7eb91f12",
   "metadata": {},
   "source": [
    "#### adding items"
   ]
  },
  {
   "cell_type": "code",
   "execution_count": 6,
   "id": "ddc62887",
   "metadata": {},
   "outputs": [
    {
     "name": "stdout",
     "output_type": "stream",
     "text": [
      "{'brand': 'ford', 'model': 'mustang', 'year': 1964, 'color': 'silver'}\n"
     ]
    }
   ],
   "source": [
    "mydict={\n",
    "    'brand':'ford',\n",
    "    'model':'mustang',\n",
    "    'year':1964\n",
    "}\n",
    "mydict['color']='silver'\n",
    "print(mydict)"
   ]
  },
  {
   "cell_type": "markdown",
   "id": "0a11eac4",
   "metadata": {},
   "source": [
    "#### removing items"
   ]
  },
  {
   "cell_type": "code",
   "execution_count": 9,
   "id": "50dd4c03",
   "metadata": {},
   "outputs": [
    {
     "name": "stdout",
     "output_type": "stream",
     "text": [
      "{'brand': 'ford', 'model': 'mustang', 'year': 1964}\n"
     ]
    }
   ],
   "source": [
    "mydict={\n",
    "    'brand':'ford',\n",
    "    'model':'mustang',\n",
    "    'year':1964,\n",
    "    'color':'silver'\n",
    "}\n",
    "\n",
    "mydict.pop('color')\n",
    "print(mydict)\n",
    "\n"
   ]
  },
  {
   "cell_type": "code",
   "execution_count": 18,
   "id": "2d6196ee",
   "metadata": {},
   "outputs": [
    {
     "ename": "SyntaxError",
     "evalue": "invalid syntax (2737138176.py, line 14)",
     "output_type": "error",
     "traceback": [
      "\u001b[1;36m  Cell \u001b[1;32mIn[18], line 14\u001b[1;36m\u001b[0m\n\u001b[1;33m    del.mydict()\u001b[0m\n\u001b[1;37m       ^\u001b[0m\n\u001b[1;31mSyntaxError\u001b[0m\u001b[1;31m:\u001b[0m invalid syntax\n"
     ]
    }
   ],
   "source": [
    "mydict={\n",
    "    'brand':'ford',\n",
    "    'model':'mustang',\n",
    "    'year':1964,\n",
    "    'color':'silver'\n",
    "}\n",
    "\n",
    "mydict.popitem()\n",
    "print(mydict)\n",
    "\n",
    "mydict.clear()\n",
    "print(mydict)\n",
    "\n",
    "\n"
   ]
  },
  {
   "cell_type": "code",
   "execution_count": 23,
   "id": "1acbcdbc",
   "metadata": {},
   "outputs": [
    {
     "name": "stdout",
     "output_type": "stream",
     "text": [
      "{'brand': 'ford', 'model': 'mustang', 'year': 1964, 'color': 'silver'}\n"
     ]
    },
    {
     "ename": "NameError",
     "evalue": "name 'delmydict' is not defined",
     "output_type": "error",
     "traceback": [
      "\u001b[1;31m---------------------------------------------------------------------------\u001b[0m",
      "\u001b[1;31mNameError\u001b[0m                                 Traceback (most recent call last)",
      "Cell \u001b[1;32mIn[23], line 8\u001b[0m\n\u001b[0;32m      1\u001b[0m mydict\u001b[38;5;241m=\u001b[39m{\n\u001b[0;32m      2\u001b[0m     \u001b[38;5;124m'\u001b[39m\u001b[38;5;124mbrand\u001b[39m\u001b[38;5;124m'\u001b[39m:\u001b[38;5;124m'\u001b[39m\u001b[38;5;124mford\u001b[39m\u001b[38;5;124m'\u001b[39m,\n\u001b[0;32m      3\u001b[0m     \u001b[38;5;124m'\u001b[39m\u001b[38;5;124mmodel\u001b[39m\u001b[38;5;124m'\u001b[39m:\u001b[38;5;124m'\u001b[39m\u001b[38;5;124mmustang\u001b[39m\u001b[38;5;124m'\u001b[39m,\n\u001b[0;32m      4\u001b[0m     \u001b[38;5;124m'\u001b[39m\u001b[38;5;124myear\u001b[39m\u001b[38;5;124m'\u001b[39m:\u001b[38;5;241m1964\u001b[39m,\n\u001b[0;32m      5\u001b[0m     \u001b[38;5;124m'\u001b[39m\u001b[38;5;124mcolor\u001b[39m\u001b[38;5;124m'\u001b[39m:\u001b[38;5;124m'\u001b[39m\u001b[38;5;124msilver\u001b[39m\u001b[38;5;124m'\u001b[39m\n\u001b[0;32m      6\u001b[0m }\n\u001b[0;32m      7\u001b[0m \u001b[38;5;28mprint\u001b[39m(mydict)\n\u001b[1;32m----> 8\u001b[0m delmydict\n",
      "\u001b[1;31mNameError\u001b[0m: name 'delmydict' is not defined"
     ]
    }
   ],
   "source": [
    "mydict={\n",
    "    'brand':'ford',\n",
    "    'model':'mustang',\n",
    "    'year':1964,\n",
    "    'color':'silver'\n",
    "}\n",
    "print(mydict)"
   ]
  },
  {
   "cell_type": "markdown",
   "id": "ea0bf3b7",
   "metadata": {},
   "source": [
    "### loops in dictionary"
   ]
  },
  {
   "cell_type": "code",
   "execution_count": 24,
   "id": "2203d6ac",
   "metadata": {},
   "outputs": [
    {
     "name": "stdout",
     "output_type": "stream",
     "text": [
      "brand\n",
      "model\n",
      "year\n",
      "color\n"
     ]
    }
   ],
   "source": [
    "xdict={\n",
    "    'brand':'ford',\n",
    "    'model':'mustang',\n",
    "    'year':1964,\n",
    "    'color':'silver'\n",
    "}\n",
    "for i in xdict:\n",
    "    print(i)"
   ]
  },
  {
   "cell_type": "code",
   "execution_count": 25,
   "id": "6fd32a59",
   "metadata": {},
   "outputs": [
    {
     "name": "stdout",
     "output_type": "stream",
     "text": [
      "ford\n",
      "mustang\n",
      "1964\n",
      "silver\n"
     ]
    }
   ],
   "source": [
    "xdict={\n",
    "    'brand':'ford',\n",
    "    'model':'mustang',\n",
    "    'year':1964,\n",
    "    'color':'silver'\n",
    "}\n",
    "for i in xdict:\n",
    "    print(xdict[i])"
   ]
  },
  {
   "cell_type": "code",
   "execution_count": 26,
   "id": "86747214",
   "metadata": {},
   "outputs": [
    {
     "name": "stdout",
     "output_type": "stream",
     "text": [
      "brand ford\n",
      "model mustang\n",
      "year 1964\n",
      "color silver\n"
     ]
    }
   ],
   "source": [
    "xdict={\n",
    "    'brand':'ford',\n",
    "    'model':'mustang',\n",
    "    'year':1964,\n",
    "    'color':'silver'\n",
    "}\n",
    "for i in xdict:\n",
    "    print(i,xdict[i])"
   ]
  },
  {
   "cell_type": "code",
   "execution_count": 28,
   "id": "f5047637",
   "metadata": {},
   "outputs": [
    {
     "name": "stdout",
     "output_type": "stream",
     "text": [
      "ford\n",
      "mustang\n",
      "1964\n",
      "silver\n"
     ]
    }
   ],
   "source": [
    "d={\n",
    "    'brand':'ford',\n",
    "    'model':'mustang',\n",
    "    'year':1964,\n",
    "    'color':'silver'\n",
    "}\n",
    "for x in d.values():\n",
    "    print(x)"
   ]
  },
  {
   "cell_type": "code",
   "execution_count": 29,
   "id": "e7aca979",
   "metadata": {},
   "outputs": [
    {
     "name": "stdout",
     "output_type": "stream",
     "text": [
      "brand\n",
      "model\n",
      "year\n",
      "color\n"
     ]
    }
   ],
   "source": [
    "d={\n",
    "    'brand':'ford',\n",
    "    'model':'mustang',\n",
    "    'year':1964,\n",
    "    'color':'silver'\n",
    "}\n",
    "for x in d.keys():\n",
    "    print(x)"
   ]
  },
  {
   "cell_type": "code",
   "execution_count": 30,
   "id": "25534363",
   "metadata": {},
   "outputs": [
    {
     "name": "stdout",
     "output_type": "stream",
     "text": [
      "banana -> 15\n",
      "bread -> 3.5\n",
      "butter -> 5\n"
     ]
    }
   ],
   "source": [
    "prices={'bread':3.5,'butter':5,'banana':15}\n",
    "for k in sorted(prices.keys()):\n",
    "    print(k,'->',prices[k])\n",
    "    "
   ]
  },
  {
   "cell_type": "markdown",
   "id": "c508c8bc",
   "metadata": {},
   "source": [
    "#### copy a dictionary"
   ]
  },
  {
   "cell_type": "code",
   "execution_count": 31,
   "id": "345f468a",
   "metadata": {},
   "outputs": [
    {
     "name": "stdout",
     "output_type": "stream",
     "text": [
      "{'brand': 'ford', 'model': 'mustang', 'year': 1964, 'color': 'silver'}\n"
     ]
    }
   ],
   "source": [
    "dct={\n",
    "    'brand':'ford',\n",
    "    'model':'mustang',\n",
    "    'year':1964,\n",
    "    'color':'silver'\n",
    "}\n",
    "mydict=dct.copy()\n",
    "print(mydict)"
   ]
  },
  {
   "cell_type": "markdown",
   "id": "4d6decb5",
   "metadata": {},
   "source": [
    "#### nested dictionaries"
   ]
  },
  {
   "cell_type": "code",
   "execution_count": 35,
   "id": "026a6bfa",
   "metadata": {},
   "outputs": [
    {
     "name": "stdout",
     "output_type": "stream",
     "text": [
      "{'kid1': {'name': 'rinshad', 'age': 28}, 'kid2': {'name': 'rinshifa', 'age': 20}, 'father': {'name': 'abdul latheef', 'age': 50}, 'mother': {'name': 'ummu habeeba', 'age': 48}}\n"
     ]
    }
   ],
   "source": [
    "myfamily={\n",
    "    'kid1':{\n",
    "        'name':'rinshad',\n",
    "        'age':28\n",
    "    },\n",
    "    'kid2':{\n",
    "        'name':'rinshifa',\n",
    "        'age':20\n",
    "    },\n",
    "    'father':{\n",
    "        'name':'abdul latheef',\n",
    "        'age':50\n",
    "    },\n",
    "    'mother':{\n",
    "        'name':'ummu habeeba',\n",
    "        'age':48\n",
    "    }\n",
    "}\n",
    "print(myfamily)"
   ]
  },
  {
   "cell_type": "code",
   "execution_count": null,
   "id": "af53c5e1",
   "metadata": {},
   "outputs": [],
   "source": []
  }
 ],
 "metadata": {
  "kernelspec": {
   "display_name": "Python 3 (ipykernel)",
   "language": "python",
   "name": "python3"
  },
  "language_info": {
   "codemirror_mode": {
    "name": "ipython",
    "version": 3
   },
   "file_extension": ".py",
   "mimetype": "text/x-python",
   "name": "python",
   "nbconvert_exporter": "python",
   "pygments_lexer": "ipython3",
   "version": "3.11.5"
  }
 },
 "nbformat": 4,
 "nbformat_minor": 5
}

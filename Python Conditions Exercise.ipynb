{
 "cells": [
  {
   "cell_type": "code",
   "execution_count": 4,
   "id": "4836d08e",
   "metadata": {},
   "outputs": [],
   "source": [
    "# 1.Write a program that takes an integer as input and prints whether it's positive, negative, or zero."
   ]
  },
  {
   "cell_type": "code",
   "execution_count": 6,
   "id": "a222d539",
   "metadata": {},
   "outputs": [
    {
     "name": "stdout",
     "output_type": "stream",
     "text": [
      "number:-8\n",
      "a is negative\n"
     ]
    }
   ],
   "source": [
    "a= int(input('number:'))\n",
    "if a > 0:\n",
    "    print(\"a is positive\")\n",
    "elif a < 0:\n",
    "    print('a is negative')\n",
    "else:\n",
    "    print(\"a is zero\")"
   ]
  },
  {
   "cell_type": "code",
   "execution_count": 4,
   "id": "eb8be956",
   "metadata": {},
   "outputs": [],
   "source": [
    "# 2.Create a program that takes a student's score as input and prints their corresponding grade based on the following scale:"
   ]
  },
  {
   "cell_type": "code",
   "execution_count": 6,
   "id": "e3577884",
   "metadata": {},
   "outputs": [],
   "source": [
    "# 3.90 or above: A"
   ]
  },
  {
   "cell_type": "code",
   "execution_count": 7,
   "id": "fb76877b",
   "metadata": {},
   "outputs": [],
   "source": [
    "# 4.80-89: B"
   ]
  },
  {
   "cell_type": "code",
   "execution_count": null,
   "id": "e2c93657",
   "metadata": {},
   "outputs": [],
   "source": [
    "# 5.70-79: C"
   ]
  },
  {
   "cell_type": "code",
   "execution_count": null,
   "id": "170021ec",
   "metadata": {},
   "outputs": [],
   "source": [
    "# 6.60-69: D"
   ]
  },
  {
   "cell_type": "code",
   "execution_count": null,
   "id": "04843cc8",
   "metadata": {},
   "outputs": [],
   "source": [
    "# 7.Below 60: F"
   ]
  },
  {
   "cell_type": "code",
   "execution_count": 11,
   "id": "a5814dc0",
   "metadata": {},
   "outputs": [
    {
     "name": "stdout",
     "output_type": "stream",
     "text": [
      "score:50\n",
      "Failed\n"
     ]
    }
   ],
   "source": [
    "a=int(input(\"score:\"))\n",
    "if a >= 90:\n",
    "    print(\"A grade\")\n",
    "elif 80<=a<90:\n",
    "    print(\"B grade\")\n",
    "elif 70<=a<80:\n",
    "    print(\"C grade\")\n",
    "elif 60<=a<70:\n",
    "    print(\"D grade\")\n",
    "else:\n",
    "    print('Failed')"
   ]
  },
  {
   "cell_type": "code",
   "execution_count": null,
   "id": "8571f546",
   "metadata": {},
   "outputs": [],
   "source": [
    "# 8.Create a program that takes a person's age as input and prints whether they are a child (0-12), teenager (13-19), adult \n",
    "#(20-59), or senior (60 and above)."
   ]
  },
  {
   "cell_type": "code",
   "execution_count": 12,
   "id": "c3b03576",
   "metadata": {},
   "outputs": [
    {
     "name": "stdout",
     "output_type": "stream",
     "text": [
      "age:60\n",
      "they are a senior\n"
     ]
    }
   ],
   "source": [
    "age=int(input('age:'))\n",
    "if age in range(0,13):\n",
    "    print(\"They are a child\")\n",
    "elif age in range(13,20):\n",
    "    print(\"They are a teenager\")\n",
    "elif age in range(20,60):\n",
    "    print(\"They are a adult\")\n",
    "else:\n",
    "    print(\"they are a senior\")"
   ]
  },
  {
   "cell_type": "code",
   "execution_count": null,
   "id": "737d51ac",
   "metadata": {},
   "outputs": [],
   "source": [
    "# 9.Write a program that takes three integers as input and prints the largest number among them."
   ]
  },
  {
   "cell_type": "code",
   "execution_count": 6,
   "id": "6b8c137c",
   "metadata": {},
   "outputs": [
    {
     "name": "stdout",
     "output_type": "stream",
     "text": [
      "enter a number:5\n",
      "enter a number:4\n",
      "enter a number:3\n",
      "a1 is the largest number\n"
     ]
    }
   ],
   "source": [
    "a1=int(input('enter a number:'))\n",
    "a2=int(input('enter a number:'))\n",
    "a3=int(input('enter a number:'))\n",
    "if a1>a2 and a1>a3:\n",
    "    print('a1 is the largest number')\n",
    "    \n",
    "if a2>a1 and a2>a3:\n",
    "       print('a2 is the largest number')\n",
    "\n",
    "if a3>a1 and a3>a2:\n",
    "    print('a3 is the largest number')\n",
    "    "
   ]
  },
  {
   "cell_type": "code",
   "execution_count": null,
   "id": "2ad258b5",
   "metadata": {},
   "outputs": [],
   "source": [
    "# 10.Create a program that takes three sides of a triangle as input and determines if it's a valid triangle (sum of any two \n",
    "# sides is greater than the third). Print \"Valid\" or \"Invalid\" accordingly."
   ]
  },
  {
   "cell_type": "code",
   "execution_count": 8,
   "id": "0c74979b",
   "metadata": {},
   "outputs": [
    {
     "name": "stdout",
     "output_type": "stream",
     "text": [
      "enter length of first side:2\n",
      "enter length of second side:3\n",
      "enter length of third side:5\n",
      "valid triangle\n"
     ]
    }
   ],
   "source": [
    "t1=int(input('enter length of first side:'))\n",
    "t2=int(input('enter length of second side:'))\n",
    "t3=int(input('enter length of third side:'))\n",
    "\n",
    "if t1 < t2+t3 :\n",
    "    print('valid triangle')\n",
    "elif t3 < t1+t2:\n",
    "    print('valid triangle')\n",
    "elif t2 < t1+t3:\n",
    "    print('valid triangle')\n",
    "else:\n",
    "    print('invalid triangle')"
   ]
  },
  {
   "cell_type": "code",
   "execution_count": null,
   "id": "59ce506b",
   "metadata": {},
   "outputs": [],
   "source": [
    "# 11.Write a program that takes the time in 24-hour format (e.g., 14:30) as input and converts it to 12-hour format \n",
    "# (e.g., 2:30 PM) and prints the result."
   ]
  },
  {
   "cell_type": "code",
   "execution_count": null,
   "id": "69f90315",
   "metadata": {},
   "outputs": [],
   "source": []
  },
  {
   "cell_type": "code",
   "execution_count": 1,
   "id": "ff05c9c0",
   "metadata": {},
   "outputs": [],
   "source": [
    "# 12.Write a program that takes a character as input and determines if it's a vowel, consonant, or neither.\n",
    "# Print the appropriate message."
   ]
  },
  {
   "cell_type": "code",
   "execution_count": 9,
   "id": "a988ac7b",
   "metadata": {},
   "outputs": [
    {
     "name": "stdout",
     "output_type": "stream",
     "text": [
      "enter an alphabet:c\n",
      "consonents\n"
     ]
    }
   ],
   "source": [
    "a=input('enter an alphabet:')\n",
    "if a in('a','e','i','o','u'):\n",
    "    print('vowels')\n",
    "elif a in ('b','c','d','f','g','h','j','k','l','m','n','p','q','r','s','t','v','w','x','y','z'):\n",
    "    print(\"consonents\")\n",
    "else:\n",
    "    print(\"neither\")\n"
   ]
  },
  {
   "cell_type": "code",
   "execution_count": null,
   "id": "da87d680",
   "metadata": {},
   "outputs": [],
   "source": [
    "# 13.Write a Python program to find all pairs of integers in a given array\n",
    "# whose sum is equal to a given number."
   ]
  },
  {
   "cell_type": "code",
   "execution_count": null,
   "id": "bbbbdcec",
   "metadata": {},
   "outputs": [],
   "source": []
  },
  {
   "cell_type": "code",
   "execution_count": null,
   "id": "514cebb5",
   "metadata": {},
   "outputs": [],
   "source": [
    "# 14.Write a Python program to find the largest product of any three\n",
    "# elements in a given array of integers"
   ]
  },
  {
   "cell_type": "code",
   "execution_count": null,
   "id": "6acee3cc",
   "metadata": {},
   "outputs": [],
   "source": []
  },
  {
   "cell_type": "code",
   "execution_count": null,
   "id": "6e067f13",
   "metadata": {},
   "outputs": [],
   "source": []
  },
  {
   "cell_type": "code",
   "execution_count": null,
   "id": "fce979a2",
   "metadata": {},
   "outputs": [],
   "source": []
  },
  {
   "cell_type": "code",
   "execution_count": null,
   "id": "aac50677",
   "metadata": {},
   "outputs": [],
   "source": []
  },
  {
   "cell_type": "code",
   "execution_count": null,
   "id": "d5597a81",
   "metadata": {},
   "outputs": [],
   "source": []
  }
 ],
 "metadata": {
  "kernelspec": {
   "display_name": "Python 3 (ipykernel)",
   "language": "python",
   "name": "python3"
  },
  "language_info": {
   "codemirror_mode": {
    "name": "ipython",
    "version": 3
   },
   "file_extension": ".py",
   "mimetype": "text/x-python",
   "name": "python",
   "nbconvert_exporter": "python",
   "pygments_lexer": "ipython3",
   "version": "3.11.5"
  }
 },
 "nbformat": 4,
 "nbformat_minor": 5
}

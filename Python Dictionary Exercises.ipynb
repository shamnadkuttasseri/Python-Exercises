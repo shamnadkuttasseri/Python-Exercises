{
 "cells": [
  {
   "cell_type": "code",
   "execution_count": null,
   "id": "e16f036d",
   "metadata": {},
   "outputs": [],
   "source": [
    "# 1.Write a Python script to sort (ascending and descending) a dictionary by value"
   ]
  },
  {
   "cell_type": "code",
   "execution_count": 9,
   "id": "263d9f96",
   "metadata": {},
   "outputs": [
    {
     "name": "stdout",
     "output_type": "stream",
     "text": [
      "original dictionary: {1: 2, 3: 4, 6: 5, 8: 9, 0: 0}\n",
      "ascending dictionary: [(0, 0), (1, 2), (3, 4), (6, 5), (8, 9)]\n",
      "descending dictionary: [(8, 9), (6, 5), (3, 4), (1, 2), (0, 0)]\n"
     ]
    }
   ],
   "source": [
    "import operator\n",
    "dct={\n",
    "    1:2,\n",
    "    3:4,\n",
    "    6:5,\n",
    "    8:9,\n",
    "    0:0\n",
    "}\n",
    "print(\"original dictionary:\",dct)\n",
    "\n",
    "sorted_dict = sorted(dct.items())\n",
    "print('ascending dictionary:',sorted_dict)\n",
    "\n",
    "sorted_dict1=sorted(dct.items(),reverse=True)\n",
    "print('descending dictionary:',sorted_dict1)\n",
    "\n"
   ]
  },
  {
   "cell_type": "code",
   "execution_count": null,
   "id": "bdf45244",
   "metadata": {},
   "outputs": [],
   "source": [
    "# 2.Write a Python script to check whether a given key already exists in a dictionary"
   ]
  },
  {
   "cell_type": "code",
   "execution_count": 12,
   "id": "26346bbc",
   "metadata": {},
   "outputs": [
    {
     "name": "stdout",
     "output_type": "stream",
     "text": [
      "The key is present\n",
      "key is not present\n"
     ]
    }
   ],
   "source": [
    "d={\n",
    "     'brand':'ford',\n",
    "    'model':'mustang',\n",
    "    'year':1964,\n",
    "    'color':'silver'\n",
    "}\n",
    "def key_exist(x):\n",
    "    \n",
    "    if x in d:\n",
    "        print('The key is present')\n",
    "    else:\n",
    "        print('key is not present')\n",
    "\n",
    "        \n",
    "key_exist('brand')\n",
    "key_exist('country')"
   ]
  },
  {
   "cell_type": "code",
   "execution_count": null,
   "id": "e8028164",
   "metadata": {},
   "outputs": [],
   "source": [
    "# 3.Write a Python script to generate and print a dictionary that contains a number (between 1 and n) in the form (x, x*x) \n",
    "# Sample Dictionary ( n = 5) :\n",
    "# Expected Output : {1: 1, 2: 4, 3: 9, 4: 16, 5: 25}\n"
   ]
  },
  {
   "cell_type": "code",
   "execution_count": 13,
   "id": "c823331f",
   "metadata": {},
   "outputs": [
    {
     "name": "stdout",
     "output_type": "stream",
     "text": [
      "enter a number:10\n",
      "{1: 1, 2: 4, 3: 9, 4: 16, 5: 25, 6: 36, 7: 49, 8: 64, 9: 81, 10: 100}\n"
     ]
    }
   ],
   "source": [
    "n=int(input('enter a number:'))\n",
    "\n",
    "d=dict()\n",
    "\n",
    "for x in range(1,n+1):\n",
    "    d[x]=x*x\n",
    "    \n",
    "print(d)"
   ]
  },
  {
   "cell_type": "code",
   "execution_count": null,
   "id": "856a799e",
   "metadata": {},
   "outputs": [],
   "source": [
    "# 4. Write a Python program to get the maximum and minimum values of a dictionary.\n"
   ]
  },
  {
   "cell_type": "code",
   "execution_count": 1,
   "id": "be6a3a95",
   "metadata": {},
   "outputs": [
    {
     "name": "stdout",
     "output_type": "stream",
     "text": [
      "Maximum Value:  5874\n",
      "Minimum Value:  500\n"
     ]
    }
   ],
   "source": [
    "\n",
    "# Create a dictionary 'my_dict' with key-value pairs.\n",
    "my_dict = {'x': 500, 'y': 5874, 'z': 560}\n",
    "\n",
    "\n",
    "key_max = max(my_dict.keys(), key=(lambda k: my_dict[k]))\n",
    "\n",
    "\n",
    "key_min = min(my_dict.keys(), key=(lambda k: my_dict[k]))\n",
    "\n",
    "print('Maximum Value: ', my_dict[key_max])\n",
    "\n",
    "print('Minimum Value: ', my_dict[key_min])\n"
   ]
  },
  {
   "cell_type": "code",
   "execution_count": null,
   "id": "360a4255",
   "metadata": {},
   "outputs": [],
   "source": [
    "# 5.Write a Python program to create a dictionary of names and their ages. \n",
    "# Ask the user to input the name and age of three people and store them in the dictionary.\n"
   ]
  },
  {
   "cell_type": "code",
   "execution_count": 6,
   "id": "8ee8b1a1",
   "metadata": {},
   "outputs": [
    {
     "name": "stdout",
     "output_type": "stream",
     "text": [
      "Enter a name: jane\n",
      "Enter an age: 23\n",
      "Enter more names? john\n"
     ]
    }
   ],
   "source": [
    " def collect_names():\n",
    "        info={}\n",
    "        total_age=0\n",
    "        answer='y'\n",
    "        while answer=='y':\n",
    "            \n",
    "            name = input('Enter a name: ')\n",
    "            info [name] = int (input('Enter an age: '))\n",
    "            answer = input ('Enter more names? ').lower ()\n",
    "            \n",
    "            for name in info:\n",
    "                total_age += info [name]\n",
    "        person_count = len (info)\n",
    "        avg_age = total_age / float (person_count)\n",
    "        return person_count, avg_age\n",
    "\n",
    "count, avg = collect_names()\n",
    "            "
   ]
  },
  {
   "cell_type": "code",
   "execution_count": 3,
   "id": "12439e0d",
   "metadata": {},
   "outputs": [],
   "source": [
    "#6.Write a Python program to group a list of words into a dictionary, where the key is the length of the word and the value is\n",
    "# a list of words of that length."
   ]
  },
  {
   "cell_type": "code",
   "execution_count": 1,
   "id": "cd69644e",
   "metadata": {},
   "outputs": [
    {
     "name": "stdout",
     "output_type": "stream",
     "text": [
      "{5: ['apple']}\n"
     ]
    }
   ],
   "source": [
    "def group_words_by_length(words):\n",
    "    word_groups = {}\n",
    "    for word in words:\n",
    "        length = len(word)\n",
    "        if length in word_groups:\n",
    "            word_groups[length].append(word)\n",
    "        else:\n",
    "            word_groups[length] = [word]\n",
    "\n",
    "        return word_groups\n",
    "\n",
    "# Example usage\n",
    "words = ['apple', 'banana', 'cherry', 'dragonfruit', 'elephant', 'falcon', 'grape', 'hippo', 'iguana', 'jellyfish']\n",
    "grouped_words = group_words_by_length(words)\n",
    "print(grouped_words)\n"
   ]
  },
  {
   "cell_type": "code",
   "execution_count": null,
   "id": "e491e454",
   "metadata": {},
   "outputs": [],
   "source": [
    "# 7.Write a Python program to create a dictionary where the key is a tuple of two numbers, and the value is the sum of \n",
    "# those numbers."
   ]
  },
  {
   "cell_type": "code",
   "execution_count": 4,
   "id": "2f9f83ca",
   "metadata": {},
   "outputs": [
    {
     "name": "stdout",
     "output_type": "stream",
     "text": [
      "{(54, 54): 108}\n"
     ]
    }
   ],
   "source": [
    "def create_a_dict(keys):\n",
    "    dct = {}\n",
    "    for k1 in keys:\n",
    "        for k2 in keys:\n",
    "            keys =(k1,k2)\n",
    "            values =k1+k2\n",
    "    dct[keys]=values\n",
    "            \n",
    "    return dct\n",
    "keys=(56,54)\n",
    "result=create_a_dict(keys)\n",
    "print(result)\n",
    "\n"
   ]
  },
  {
   "cell_type": "code",
   "execution_count": null,
   "id": "6e3bb367",
   "metadata": {},
   "outputs": [],
   "source": [
    "# 8.Write a Python program to find the intersection of two dictionaries."
   ]
  },
  {
   "cell_type": "code",
   "execution_count": 1,
   "id": "0f4d1819",
   "metadata": {},
   "outputs": [
    {
     "name": "stdout",
     "output_type": "stream",
     "text": [
      "first dictionary: {' brand': 'ford', 'model': 'mustang', 'year': 1964}\n",
      "second dictionary: {' brand': 'ford', 'model': 'figo', 'year': 1965}\n",
      "intersection of dict: {' brand': 'ford'}\n"
     ]
    }
   ],
   "source": [
    "dct1={' brand':'ford','model':'mustang','year':1964}\n",
    "dct2={' brand':'ford','model':'figo','year':1965}\n",
    "\n",
    "print('first dictionary:',dct1)\n",
    "print('second dictionary:',dct2)\n",
    "\n",
    "final_dct = dict(dct1.items() & dct2.items())\n",
    "\n",
    "print('intersection of dict:',final_dct)\n"
   ]
  },
  {
   "cell_type": "code",
   "execution_count": null,
   "id": "e449191b",
   "metadata": {},
   "outputs": [],
   "source": []
  }
 ],
 "metadata": {
  "kernelspec": {
   "display_name": "Python 3 (ipykernel)",
   "language": "python",
   "name": "python3"
  },
  "language_info": {
   "codemirror_mode": {
    "name": "ipython",
    "version": 3
   },
   "file_extension": ".py",
   "mimetype": "text/x-python",
   "name": "python",
   "nbconvert_exporter": "python",
   "pygments_lexer": "ipython3",
   "version": "3.11.5"
  }
 },
 "nbformat": 4,
 "nbformat_minor": 5
}

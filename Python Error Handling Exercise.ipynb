{
 "cells": [
  {
   "cell_type": "code",
   "execution_count": null,
   "id": "2eb96581",
   "metadata": {},
   "outputs": [],
   "source": [
    "# 1.Write a program that prompts the user to enter a number and displays its square root. If the user enters an invalid value,\n",
    "#  print an error message and prompt them to enter another value."
   ]
  },
  {
   "cell_type": "code",
   "execution_count": 2,
   "id": "efaf7e2a",
   "metadata": {},
   "outputs": [
    {
     "name": "stdout",
     "output_type": "stream",
     "text": [
      "Enter a number: 9\n"
     ]
    },
    {
     "ename": "NameError",
     "evalue": "name 'get_square_root' is not defined",
     "output_type": "error",
     "traceback": [
      "\u001b[1;31m---------------------------------------------------------------------------\u001b[0m",
      "\u001b[1;31mNameError\u001b[0m                                 Traceback (most recent call last)",
      "Cell \u001b[1;32mIn[2], line 27\u001b[0m\n\u001b[0;32m     24\u001b[0m                 \u001b[38;5;28mprint\u001b[39m(\u001b[38;5;124m\"\u001b[39m\u001b[38;5;124mError: Please enter a valid number.\u001b[39m\u001b[38;5;124m\"\u001b[39m)\n\u001b[0;32m     26\u001b[0m \u001b[38;5;28;01mif\u001b[39;00m \u001b[38;5;18m__name__\u001b[39m \u001b[38;5;241m==\u001b[39m \u001b[38;5;124m\"\u001b[39m\u001b[38;5;124m__main__\u001b[39m\u001b[38;5;124m\"\u001b[39m:\n\u001b[1;32m---> 27\u001b[0m     main()\n",
      "Cell \u001b[1;32mIn[2], line 16\u001b[0m, in \u001b[0;36mmain\u001b[1;34m()\u001b[0m\n\u001b[0;32m     12\u001b[0m \u001b[38;5;28;01mtry\u001b[39;00m:\n\u001b[0;32m     14\u001b[0m     number \u001b[38;5;241m=\u001b[39m \u001b[38;5;28mfloat\u001b[39m(\u001b[38;5;28minput\u001b[39m(\u001b[38;5;124m\"\u001b[39m\u001b[38;5;124mEnter a number: \u001b[39m\u001b[38;5;124m\"\u001b[39m))\n\u001b[1;32m---> 16\u001b[0m     square_root \u001b[38;5;241m=\u001b[39m get_square_root(number)\n\u001b[0;32m     18\u001b[0m     \u001b[38;5;28;01mif\u001b[39;00m square_root \u001b[38;5;129;01mis\u001b[39;00m \u001b[38;5;129;01mnot\u001b[39;00m \u001b[38;5;28;01mNone\u001b[39;00m:\n\u001b[0;32m     19\u001b[0m         \u001b[38;5;28mprint\u001b[39m(\u001b[38;5;124m\"\u001b[39m\u001b[38;5;124mSquare root: \u001b[39m\u001b[38;5;124m\"\u001b[39m, square_root)\n",
      "\u001b[1;31mNameError\u001b[0m: name 'get_square_root' is not defined"
     ]
    }
   ],
   "source": [
    "import cmath\n",
    "def get_sqr_root(numbers):\n",
    "    if number > 0:\n",
    "        return cmath.sqrt(numbers)\n",
    "    else:\n",
    "        print(\"error:please enter a non-negative number\")\n",
    "        return None\n",
    "def main():\n",
    "\n",
    "    while True:\n",
    "        \n",
    "            try:\n",
    "      \n",
    "                number = float(input(\"Enter a number: \"))\n",
    "\n",
    "                square_root = get_square_root(number)\n",
    "\n",
    "                if square_root is not None:\n",
    "                    print(\"Square root: \", square_root)\n",
    "                    break\n",
    "\n",
    "            except ValueError:\n",
    "                \n",
    "                print(\"Error: Please enter a valid number.\")\n",
    "\n",
    "if __name__ == \"__main__\":\n",
    "    main()"
   ]
  },
  {
   "cell_type": "code",
   "execution_count": null,
   "id": "953278ba",
   "metadata": {},
   "outputs": [],
   "source": [
    "2.Write a program that prompts the user to enter a list of numbers separated by commas, and calculates their sum. \n",
    " If the user enters an invalid value, print an error message and prompt them to enter another value."
   ]
  },
  {
   "cell_type": "code",
   "execution_count": 1,
   "id": "70e543a0",
   "metadata": {},
   "outputs": [
    {
     "name": "stdout",
     "output_type": "stream",
     "text": [
      "Enter a list of numbers separated by commas: 1,2,3,4,5\n",
      "Sum:  1.0\n"
     ]
    }
   ],
   "source": [
    "import cmath\n",
    "\n",
    "def get_sum(numbers_str):\n",
    " # Split the string of numbers by comma\n",
    "    numbers = numbers_str.split(\",\")\n",
    "\n",
    " # Convert strings to floating point numbers\n",
    "    numbers = [float(number) for number in numbers]\n",
    "\n",
    " # Calculate the sum\n",
    "    sum =0\n",
    "    for number in numbers:\n",
    "        sum += number\n",
    "        return sum\n",
    "\n",
    "def main():\n",
    "    \n",
    "    while True:\n",
    "        try:\n",
    "            \n",
    "            \n",
    " # Prompt the user to enter a list of numbers\n",
    "            numbers_str = input(\"Enter a list of numbers separated by commas: \")\n",
    "\n",
    " # Calculate the sum\n",
    "            sum = get_sum(numbers_str)\n",
    "\n",
    " # Print the sum\n",
    "            print(\"Sum: \", sum)\n",
    "            break\n",
    "\n",
    "        except ValueError:\n",
    "             print(\"Error: Please enter valid numbers.\")\n",
    "\n",
    "if __name__ == \"__main__\":\n",
    " main()"
   ]
  },
  {
   "cell_type": "code",
   "execution_count": null,
   "id": "70ae935d",
   "metadata": {},
   "outputs": [],
   "source": [
    "3.Write a program that prompts the user to enter a filename and displays its contents. If the file does not exist or cannot be\n",
    " opened, print an error message and prompt the user to enter another filename."
   ]
  },
  {
   "cell_type": "code",
   "execution_count": 3,
   "id": "7a2c5af1",
   "metadata": {},
   "outputs": [
    {
     "name": "stdout",
     "output_type": "stream",
     "text": [
      "Enter a filename: shamnad\n",
      "Error: File does not exist.\n"
     ]
    }
   ],
   "source": [
    "import os\n",
    "\n",
    "def read_file(filename):\n",
    "    \n",
    "    # Check if the file exists\n",
    "    if not os.path.isfile(filename):\n",
    "        print(\"Error: File does not exist.\")\n",
    "        return\n",
    "\n",
    " # Attempt to open the file\n",
    "    try:\n",
    "        file = open(filename, \"r\")\n",
    "        \n",
    " \n",
    "    except FileNotFoundError:\n",
    "        print(\"Error: File cannot be opened.\")\n",
    "        return\n",
    "\n",
    " # Read the file's contents\n",
    "    contents = file.read()\n",
    "    file.close()\n",
    "\n",
    " # Print the contents\n",
    "    print(\"Contents:\\+ contents\\+\")\n",
    "\n",
    "\n",
    "def main():\n",
    "    while True:\n",
    " # Prompt the user to enter a filename\n",
    "        filename = input(\"Enter a filename: \")\n",
    "\n",
    " # Attempt to read the file\n",
    "        contents = read_file(filename)\n",
    "\n",
    " # If contents are valid, print them\n",
    "        if contents:\n",
    "            print(\"Contents:\\+ contents\\+\")\n",
    "\n",
    "\n",
    "        break\n",
    "\n",
    "if __name__ == \"__main__\":\n",
    "    main()"
   ]
  },
  {
   "cell_type": "code",
   "execution_count": null,
   "id": "a0059eb3",
   "metadata": {},
   "outputs": [],
   "source": [
    "4.Write a program that prompts the user to enter a number and displays its factorial. If the user enters an invalid value, \n",
    " print an error message and prompt them to enter another value."
   ]
  },
  {
   "cell_type": "code",
   "execution_count": null,
   "id": "72cbcb79",
   "metadata": {},
   "outputs": [],
   "source": [
    "5.Write a program that prompts the user to enter a string and displays its length. If the user enters an empty string,\n",
    "print an error message and prompt them to enter another value.\n",
    "6.Flexible Word Game\n",
    "7.Implement a word game similar to the one you implement in the previous Word Game Exercise, but with the following difference:\n",
    "8.Flexible Word Game\n",
    "The player is asked to choose the word size. The word size can only be 4 to 8 (both inclusive). If the user entry is not an integer or not in the range 4..8, the program keeps asking for the word size.\n",
    "Given below is a sample session. Try to follow the exact output format in your implementation:\n",
    "\n",
    "========================================================\n",
    "Welcome to the FLEXIBLE WORD GAME\n",
    "Enter the word size (4 to 8): xyz\n",
    "That is not a number. Try again\n",
    "Enter the word size (4 to 8): 3\n",
    "Number not in correct range. Try again\n",
    "Enter the word size (4 to 8): 5\n",
    "Give all 5-letter words you know, one word at a time\n",
    "Enter the word 'end' to exit\n",
    "========================================================\n",
    "What's the next word?  frame\n",
    "What's the next word?  great\n",
    "What's the next word?  treat\n",
    "What's the next word?  fat\n",
    "Not a 5-letter word\n",
    "What's the next word?  creamy\n",
    "Not a 5-letter word\n",
    "What's the next word?  treat\n",
    "Repeated word! treat is number 3 in the accepted words list.\n",
    "treat is no longer an accepted word and is banned\n",
    "What's the next word?  crime\n",
    "What's the next word?  treat\n",
    "treat is banned!\n",
    "What's the next word?  end\n",
    "========================================================\n",
    "Your score: 3\n",
    "Accepted words (in order of entry): frame great crime\n",
    "Accepted words (in sorted order): crime frame great\n",
    "Banned words (in sorted order): treat\n",
    "Thank you for playing the FLEXIBLE WORD GAME"
   ]
  }
 ],
 "metadata": {
  "kernelspec": {
   "display_name": "Python 3 (ipykernel)",
   "language": "python",
   "name": "python3"
  },
  "language_info": {
   "codemirror_mode": {
    "name": "ipython",
    "version": 3
   },
   "file_extension": ".py",
   "mimetype": "text/x-python",
   "name": "python",
   "nbconvert_exporter": "python",
   "pygments_lexer": "ipython3",
   "version": "3.11.5"
  }
 },
 "nbformat": 4,
 "nbformat_minor": 5
}

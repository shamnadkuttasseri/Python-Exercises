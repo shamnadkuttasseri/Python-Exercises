{
 "cells": [
  {
   "cell_type": "code",
   "execution_count": null,
   "id": "2eb96581",
   "metadata": {},
   "outputs": [],
   "source": [
    "# 1.Write a program that prompts the user to enter a number and displays its square root. If the user enters an invalid value,\n",
    "#  print an error message and prompt them to enter another value."
   ]
  },
  {
   "cell_type": "code",
   "execution_count": 1,
   "id": "efaf7e2a",
   "metadata": {},
   "outputs": [
    {
     "ename": "IndentationError",
     "evalue": "expected an indented block after 'if' statement on line 26 (3420756590.py, line 27)",
     "output_type": "error",
     "traceback": [
      "\u001b[1;36m  Cell \u001b[1;32mIn[1], line 27\u001b[1;36m\u001b[0m\n\u001b[1;33m    main()\u001b[0m\n\u001b[1;37m    ^\u001b[0m\n\u001b[1;31mIndentationError\u001b[0m\u001b[1;31m:\u001b[0m expected an indented block after 'if' statement on line 26\n"
     ]
    }
   ],
   "source": [
    "import cmath\n",
    "def get_sqr_root(numbers):\n",
    "    if number > 0:\n",
    "        return cmath.sqrt(numbers)\n",
    "    else:\n",
    "        print(\"error:please enter a non-negative number\")\n",
    "        return None\n",
    "def main():\n",
    "\n",
    "    while True:\n",
    "        \n",
    "            try:\n",
    "      \n",
    "                number = float(input(\"Enter a number: \"))\n",
    "\n",
    "                square_root = get_square_root(number)\n",
    "\n",
    "                if square_root is not None:\n",
    "                    print(\"Square root: \", square_root)\n",
    "                    break\n",
    "\n",
    "            except ValueError:\n",
    "                \n",
    "                print(\"Error: Please enter a valid number.\")\n",
    "\n",
    "if __name__ == \"__main__\":\n",
    "main()"
   ]
  },
  {
   "cell_type": "code",
   "execution_count": null,
   "id": "953278ba",
   "metadata": {},
   "outputs": [],
   "source": [
    "2.Write a program that prompts the user to enter a list of numbers separated by commas, and calculates their sum. \n",
    " If the user enters an invalid value, print an error message and prompt them to enter another value."
   ]
  },
  {
   "cell_type": "code",
   "execution_count": 1,
   "id": "70e543a0",
   "metadata": {},
   "outputs": [
    {
     "name": "stdout",
     "output_type": "stream",
     "text": [
      "Enter a list of numbers separated by commas: 1,2,3,4,5\n",
      "Sum:  1.0\n"
     ]
    }
   ],
   "source": [
    "import cmath\n",
    "\n",
    "def get_sum(numbers_str):\n",
    "\n",
    "    numbers = numbers_str.split(\",\")\n",
    "\n",
    "    numbers = [float(number) for number in numbers]\n",
    "\n",
    "    sum =0\n",
    "    for number in numbers:\n",
    "        sum += number\n",
    "        return sum\n",
    "\n",
    "def main():\n",
    "    \n",
    "    while True:\n",
    "        try:\n",
    "            \n",
    "            \n",
    "            numbers_str = input(\"Enter a list of numbers separated by commas: \")\n",
    "\n",
    "            sum = get_sum(numbers_str)\n",
    "\n",
    "            print(\"Sum: \", sum)\n",
    "            break\n",
    "\n",
    "        except ValueError:\n",
    "             print(\"Error: Please enter valid numbers.\")\n",
    "\n",
    "if __name__ == \"__main__\":\n",
    " main()"
   ]
  },
  {
   "cell_type": "code",
   "execution_count": null,
   "id": "70ae935d",
   "metadata": {},
   "outputs": [],
   "source": [
    "3.Write a program that prompts the user to enter a filename and displays its contents. If the file does not exist or cannot be\n",
    " opened, print an error message and prompt the user to enter another filename."
   ]
  },
  {
   "cell_type": "code",
   "execution_count": 3,
   "id": "7a2c5af1",
   "metadata": {},
   "outputs": [
    {
     "name": "stdout",
     "output_type": "stream",
     "text": [
      "Enter a filename: shamnad\n",
      "Error: File does not exist.\n"
     ]
    }
   ],
   "source": [
    "import os\n",
    "\n",
    "def read_file(filename):\n",
    "    \n",
    "    if not os.path.isfile(filename):\n",
    "        print(\"Error: File does not exist.\")\n",
    "        return\n",
    "\n",
    "    try:\n",
    "        file = open(filename, \"r\")\n",
    "        \n",
    " \n",
    "    except FileNotFoundError:\n",
    "        print(\"Error: File cannot be opened.\")\n",
    "        return\n",
    "\n",
    "    contents = file.read()\n",
    "    file.close()\n",
    "\n",
    "    print(\"Contents:\\+ contents\\+\")\n",
    "\n",
    "\n",
    "def main():\n",
    "    while True:\n",
    "        filename = input(\"Enter a filename: \")\n",
    "        \n",
    "        contents = read_file(filename)\n",
    "\n",
    "        if contents:\n",
    "            print(\"Contents:\\+ contents\\+\")\n",
    "\n",
    "\n",
    "        break\n",
    "\n",
    "if __name__ == \"__main__\":\n",
    "    main()"
   ]
  },
  {
   "cell_type": "code",
   "execution_count": null,
   "id": "a0059eb3",
   "metadata": {},
   "outputs": [],
   "source": [
    "4.Write a program that prompts the user to enter a number and displays its factorial. If the user enters an invalid value, \n",
    " print an error message and prompt them to enter another value."
   ]
  },
  {
   "cell_type": "code",
   "execution_count": 2,
   "id": "5106b570",
   "metadata": {},
   "outputs": [
    {
     "name": "stdout",
     "output_type": "stream",
     "text": [
      "Enter a non-negative integer: -1\n",
      "Error: Please enter a non-negative integer.\n",
      "Enter a non-negative integer: 3\n",
      "The factorial of 3 is: 6\n"
     ]
    }
   ],
   "source": [
    "def factorial(n):\n",
    "    if n == 0:\n",
    "        return 1\n",
    "    else:\n",
    "        return n * factorial(n-1)\n",
    "\n",
    "def main():\n",
    "    while True:\n",
    "        try:\n",
    "            num = int(input(\"Enter a non-negative integer: \"))\n",
    "            if num < 0:\n",
    "                print(\"Error: Please enter a non-negative integer.\")\n",
    "            else:\n",
    "                result = factorial(num)\n",
    "                print(f\"The factorial of {num} is: {result}\")\n",
    "                break\n",
    "        except ValueError:\n",
    "            print(\"Error: Invalid input. Please enter an integer.\")\n",
    "\n",
    "if __name__ == \"__main__\":\n",
    "    main()"
   ]
  },
  {
   "cell_type": "code",
   "execution_count": null,
   "id": "72cbcb79",
   "metadata": {},
   "outputs": [],
   "source": [
    "5.Write a program that prompts the user to enter a string and displays its length. If the user enters an empty string,\n",
    "print an error message and prompt them to enter another value.\n"
   ]
  },
  {
   "cell_type": "code",
   "execution_count": 4,
   "id": "8a7ce29a",
   "metadata": {},
   "outputs": [
    {
     "name": "stdout",
     "output_type": "stream",
     "text": [
      "Enter a string: \n",
      "Error: The input string is empty. Please enter another value.\n",
      "Enter a string: \n",
      "Error: The input string is empty. Please enter another value.\n",
      "Enter a string: sjamnad\n",
      "The length of the string is: 7\n"
     ]
    }
   ],
   "source": [
    "def main():\n",
    "    while True:\n",
    "        user_input = input(\"Enter a string: \")\n",
    "        if user_input:  \n",
    "            print(f\"The length of the string is: {len(user_input)}\")\n",
    "            break\n",
    "        else:\n",
    "            print(\"Error: The input string is empty. Please enter another value.\")\n",
    "\n",
    "if __name__ == \"__main__\":\n",
    "    main()\n",
    "\n",
    "    "
   ]
  },
  {
   "cell_type": "code",
   "execution_count": null,
   "id": "6665bd2f",
   "metadata": {},
   "outputs": [],
   "source": [
    "7. Implement a word game similar to the one you implement in the previous Word Game Exercise, but with the following difference:\n",
    "8. Flexible Word Game : The player is asked to choose the word size. The word size can only be 4 to 8 (both inclusive). If the user entry is not an integer or not in the range 4..8, the program keeps asking for the word size.\n",
    "Given below is a sample session. Try to follow the exact output format in your implementation:\n",
    "===============================================================================\n",
    "Welcome to the FLEXIBLE WORD GAME\n",
    "Enter the word size (4 to 8): xyz\n",
    "That is not a number. Try again\n",
    "Enter the word size (4 to 8): 3\n",
    "Number not in correct range. Try again\n",
    "Enter the word size (4 to 8): 5\n",
    "Give all 5-letter words you know, one word at a time\n",
    "Enter the word 'end' to exit\n",
    "===============================================================================\n",
    "What's the next word? frame\n",
    "What's the next word? great\n",
    "What's the next word? treat\n",
    "What's the next word? fat\n",
    "Not a 5-letter word\n",
    "What's the next word? creamy\n",
    "Not a 5-letter word\n",
    "What's the next word? treat\n",
    "Repeated word! treat is number 3 in the accepted words list.\n",
    "treat is no longer an accepted word and is banned\n",
    "What's the next word? crime\n",
    "What's the next word? treat\n",
    "treat is banned!\n",
    "What's the next word? end\n",
    "===============================================================================\n",
    "Your score: 3\n",
    "Accepted words (in order of entry): frame great crime\n",
    "Accepted words (in sorted order): crime frame great\n",
    "Banned words (in sorted order): treat\n",
    "Thank you for playing the FLEXIBLE WORD GAME\n",
    "==============================================================================="
   ]
  },
  {
   "cell_type": "code",
   "execution_count": 1,
   "id": "2c9ead5d",
   "metadata": {},
   "outputs": [
    {
     "name": "stdout",
     "output_type": "stream",
     "text": [
      "Welcome to the FLEXIBLE WORD GAME\n",
      "Enter the word size (4 to 8): 3\n",
      "Number not in correct range. Try again\n",
      "Enter the word size (4 to 8): xyz\n",
      "That is not a number. Try again\n",
      "Enter the word size (4 to 8): 5\n",
      "Give all 5-letter words you know, one word at a time\n",
      "Enter the word 'end' to exit\n",
      "==========================================================================================\n",
      "What's the next word? frame\n",
      "frame accepted!\n",
      "What's the next word? great\n",
      "great accepted!\n",
      "What's the next word? treat\n",
      "treat accepted!\n",
      "What's the next word? fat\n",
      "Not a 5-letter word\n",
      "What's the next word? creamy\n",
      "Not a 5-letter word\n",
      "What's the next word? treat\n",
      "Repeated word! treat is number 3 in the accepted words list.\n",
      "treat is no longer an accepted word and is banned\n",
      "What's the next word? crime\n",
      "crime accepted!\n",
      "What's the next word? treat\n",
      "treat accepted!\n",
      "==========================================================================================\n",
      "Your score is: 4\n",
      "Accepted words (in order of entry): great frame crime treat\n",
      "Accepted words (in sorted order): crime frame great treat\n",
      "Banned words (in sorted order): treat\n",
      "Thank you for playing the FLEXIBLE WORD GAME\n"
     ]
    }
   ],
   "source": [
    "def flexible_word_game():\n",
    "    print(\"Welcome to the FLEXIBLE WORD GAME\")\n",
    "    while True:\n",
    "        try:\n",
    "            word_size = int(input(\"Enter the word size (4 to 8): \"))\n",
    "            if 4 <= word_size <= 8:\n",
    "                break\n",
    "            else:\n",
    "                print(\"Number not in correct range. Try again\")\n",
    "        except ValueError:\n",
    "            print(\"That is not a number. Try again\")\n",
    "\n",
    "    accepted_words = set()   #By using a set, we ensure that each word guessed by the player is stored only once, even if it is repeated.\n",
    "                # accepted_words = []  # Use a list to maintain the order for displaying accurate user entered order of the repeated word.\n",
    "    banned_words = set()\n",
    "    max_attempts = 6\n",
    "\n",
    "    print(f\"Give all {word_size}-letter words you know, one word at a time\")\n",
    "    print(\"Enter the word 'end' to exit\")\n",
    "    print(\"==========\"*9)\n",
    "    while max_attempts > 0:\n",
    "        word = input(\"What's the next word? \").lower()\n",
    "        if word == \"end\":\n",
    "            break\n",
    "        if len(word) != word_size:\n",
    "            print(f\"Not a {word_size}-letter word\")\n",
    "            continue\n",
    "        if word in accepted_words:\n",
    "            print(f\"Repeated word! {word} is number {len(accepted_words)} in the accepted words list.\")\n",
    "            # The use of len(accepted_words) does not accurately represent the position of a repeated word. \n",
    "                          # {accepted_words.index(word) + 1} is used for accurate user entered order instead of {len(accepted_words)}.\n",
    "            banned_words.add(word)\n",
    "            accepted_words.discard(word)\n",
    "            print(f\"{word} is no longer an accepted word and is banned\")\n",
    "        else:\n",
    "            accepted_words.add(word)\n",
    "            print(f\"{word} accepted!\")\n",
    "        max_attempts -= 1\n",
    "    print(\"==========\"*9)\n",
    "    print(\"Your score is:\", len(accepted_words))\n",
    "    print(\"Accepted words (in order of entry):\",\" \".join(accepted_words))\n",
    "    print(\"Accepted words (in sorted order):\", \" \".join(sorted(accepted_words)))\n",
    "    print(\"Banned words (in sorted order):\", \" \".join(sorted(banned_words)))\n",
    "    print(\"Thank you for playing the FLEXIBLE WORD GAME\")\n",
    "\n",
    "flexible_word_game()"
   ]
  },
  {
   "cell_type": "code",
   "execution_count": null,
   "id": "62a7cc6d",
   "metadata": {},
   "outputs": [],
   "source": []
  }
 ],
 "metadata": {
  "kernelspec": {
   "display_name": "Python 3 (ipykernel)",
   "language": "python",
   "name": "python3"
  },
  "language_info": {
   "codemirror_mode": {
    "name": "ipython",
    "version": 3
   },
   "file_extension": ".py",
   "mimetype": "text/x-python",
   "name": "python",
   "nbconvert_exporter": "python",
   "pygments_lexer": "ipython3",
   "version": "3.11.5"
  }
 },
 "nbformat": 4,
 "nbformat_minor": 5
}

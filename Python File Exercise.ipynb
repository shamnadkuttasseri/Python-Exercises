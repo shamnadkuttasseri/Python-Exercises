{
 "cells": [
  {
   "cell_type": "code",
   "execution_count": null,
   "id": "ca681763",
   "metadata": {},
   "outputs": [],
   "source": [
    "\n",
    "# 1.Write a program that reads a text file and counts the number of lines in the file.\n"
   ]
  },
  {
   "cell_type": "code",
   "execution_count": 1,
   "id": "dce7ea2a",
   "metadata": {},
   "outputs": [],
   "source": [
    "import os"
   ]
  },
  {
   "cell_type": "code",
   "execution_count": 8,
   "id": "88781c29",
   "metadata": {},
   "outputs": [
    {
     "name": "stdout",
     "output_type": "stream",
     "text": [
      "number of lines in the file: 1\n"
     ]
    }
   ],
   "source": [
    "def count_lines(file_name):\n",
    "    with open(file_name,'r') as file:\n",
    "        lines=file.readlines()\n",
    "        line_count=len(lines)\n",
    "        return line_count\n",
    "file_name=\"meet code.txt\"\n",
    "line_count=count_lines(file_name)\n",
    "print(\"number of lines in the file:\",line_count)"
   ]
  },
  {
   "cell_type": "code",
   "execution_count": null,
   "id": "85828127",
   "metadata": {},
   "outputs": [],
   "source": [
    "# 2.Write a program that reads a text file and prints the first n lines of the file, where n is a user-specified integer.\n"
   ]
  },
  {
   "cell_type": "code",
   "execution_count": 6,
   "id": "3db19adc",
   "metadata": {},
   "outputs": [
    {
     "name": "stdout",
     "output_type": "stream",
     "text": [
      "Enter the number of lines to print: 3\n",
      "yaw-dpyw-ydb"
     ]
    }
   ],
   "source": [
    "def print_first_n_lines(file_name, num_lines):\n",
    "     with open(file_name, 'r') as file:\n",
    "            for i, line in enumerate(file, start=1):\n",
    "                if i <= num_lines:\n",
    "                        print(line, end='')\n",
    "                else:\n",
    "                     break\n",
    "\n",
    "file_name = \"meet code.txt\"\n",
    "num_lines = int(input(\"Enter the number of lines to print: \"))\n",
    "print_first_n_lines(file_name, num_lines)"
   ]
  },
  {
   "cell_type": "code",
   "execution_count": null,
   "id": "cdb77bd7",
   "metadata": {},
   "outputs": [],
   "source": [
    "# 3.Write a program that reads a text file and prints the last n lines of the file, where n is a user-specified integer.\n"
   ]
  },
  {
   "cell_type": "code",
   "execution_count": 4,
   "id": "ca0ad717",
   "metadata": {},
   "outputs": [
    {
     "name": "stdout",
     "output_type": "stream",
     "text": [
      "Enter the number of lines to print: 2\n",
      "you\n",
      "are\n"
     ]
    }
   ],
   "source": [
    "def last_n_lines(file_name,n):\n",
    "    with open(file_name,'r')as file:\n",
    "        lines=file.read().split(' ') \n",
    "        for i in reversed(range(len(lines)-n,len(lines))):\n",
    "            print(lines[i])\n",
    "\n",
    "file_name = \"sample.txt\"\n",
    "n= int(input(\"Enter the number of lines to print: \"))\n",
    "last_n_lines(file_name, n)\n",
    "        \n",
    "    "
   ]
  },
  {
   "cell_type": "code",
   "execution_count": null,
   "id": "6e9b3450",
   "metadata": {},
   "outputs": [],
   "source": [
    "# 4.Write a program that reads a text file and removes all blank lines from the file."
   ]
  },
  {
   "cell_type": "code",
   "execution_count": 7,
   "id": "9ffd2ee3",
   "metadata": {},
   "outputs": [
    {
     "name": "stdout",
     "output_type": "stream",
     "text": [
      "Blank lines removed. Output written to sample.txt\n"
     ]
    }
   ],
   "source": [
    "def remove_blank_lines(input_file, output_file):\n",
    "    with open(input_file, 'r') as infile:\n",
    "        with open(output_file, 'w') as outfile:\n",
    "            for line in infile:\n",
    "                if line.strip():  \n",
    "                    outfile.write(line)\n",
    "\n",
    "input_file = \"me.txt\"\n",
    "output_file = \"sample.txt\"\n",
    "remove_blank_lines(input_file, output_file)\n",
    "print(\"Blank lines removed. Output written to\", output_file)"
   ]
  },
  {
   "cell_type": "code",
   "execution_count": null,
   "id": "ca00baab",
   "metadata": {},
   "outputs": [],
   "source": [
    "# 5.Write a program that reads a text file and removes all lines that contain a specified string.\n"
   ]
  },
  {
   "cell_type": "code",
   "execution_count": 8,
   "id": "678e8377",
   "metadata": {},
   "outputs": [
    {
     "name": "stdout",
     "output_type": "stream",
     "text": [
      "Lines containing 'i am' removed. Output written to sample.txt\n"
     ]
    }
   ],
   "source": [
    "def remove_lines_with_string(input_file, output_file, string_to_remove):\n",
    "    with open(input_file, 'r') as infile:\n",
    "        with open(output_file, 'w') as outfile:\n",
    "            for line in infile:\n",
    "                if string_to_remove not in line:\n",
    "                    outfile.write(line)\n",
    "\n",
    "input_file = \"me.txt\"\n",
    "output_file = \"sample.txt\"\n",
    "string_to_remove = \"i am\"\n",
    "remove_lines_with_string(input_file, output_file, string_to_remove)\n",
    "print(\"Lines containing '{}' removed. Output written to {}\".format(string_to_remove, output_file))"
   ]
  },
  {
   "cell_type": "code",
   "execution_count": null,
   "id": "d17a33da",
   "metadata": {},
   "outputs": [],
   "source": [
    "# 6.Write a program that reads a text file and removes all punctuation from the text.\n"
   ]
  },
  {
   "cell_type": "code",
   "execution_count": 9,
   "id": "0e9ac95c",
   "metadata": {},
   "outputs": [
    {
     "name": "stdout",
     "output_type": "stream",
     "text": [
      "Punctuation removed. Output written to sample.txt\n"
     ]
    }
   ],
   "source": [
    "import string\n",
    "\n",
    "def remove_punctuation(input_file, output_file):\n",
    "    with open(input_file, 'r') as infile:\n",
    "        with open(output_file, 'w') as outfile:\n",
    "            for line in infile:\n",
    "                for char in line:\n",
    "                    if char not in string.punctuation:\n",
    "                        outfile.write(char)\n",
    "\n",
    "input_file = \"me.txt\"\n",
    "output_file = \"sample.txt\"\n",
    "remove_punctuation(input_file, output_file)\n",
    "print(\"Punctuation removed. Output written to\", output_file)"
   ]
  },
  {
   "cell_type": "code",
   "execution_count": null,
   "id": "96297015",
   "metadata": {},
   "outputs": [],
   "source": [
    "# 7.Write a program that reads a text file and capitalizes the first letter of each word.\n"
   ]
  },
  {
   "cell_type": "code",
   "execution_count": 10,
   "id": "23d09c23",
   "metadata": {},
   "outputs": [
    {
     "name": "stdout",
     "output_type": "stream",
     "text": [
      "First letter capitalized. Output written to sample.txt\n"
     ]
    }
   ],
   "source": [
    "def capitalize_first_letter(input_file, output_file):\n",
    "    with open(input_file, 'r') as infile:\n",
    "        with open(output_file, 'w') as outfile:\n",
    "            for line in infile:\n",
    "                words = line.split()\n",
    "                capitalized_words = [word.capitalize() for word in words]\n",
    "                capitalized_line = ' '.join(capitalized_words)\n",
    "                outfile.write(capitalized_line + '\\n')\n",
    "\n",
    "input_file = \"me.txt\"\n",
    "output_file = \"sample.txt\"\n",
    "capitalize_first_letter(input_file, output_file)\n",
    "print(\"First letter capitalized. Output written to\", output_file)"
   ]
  },
  {
   "cell_type": "code",
   "execution_count": null,
   "id": "4229e806",
   "metadata": {},
   "outputs": [],
   "source": [
    "# 8.Write a program that reads a text file and converts all the text to uppercase.\n"
   ]
  },
  {
   "cell_type": "code",
   "execution_count": 11,
   "id": "0e984ccf",
   "metadata": {},
   "outputs": [
    {
     "name": "stdout",
     "output_type": "stream",
     "text": [
      "converted to uppercase,output written to sample.txt\n"
     ]
    }
   ],
   "source": [
    "def convert_to_uppercase(input_file,output_file):\n",
    "    with open(input_file,'r')as infile:\n",
    "        with open(output_file,'w')as outfile:\n",
    "            for line in infile:\n",
    "                upper_line=line.upper()\n",
    "                outfile.write(upper_line)\n",
    "                \n",
    "input_file=\"me.txt\"\n",
    "output_file=\"sample.txt\"\n",
    "print(\"converted to uppercase,output written to\",output_file)"
   ]
  },
  {
   "cell_type": "code",
   "execution_count": null,
   "id": "b4e005fd",
   "metadata": {},
   "outputs": [],
   "source": [
    "# 9.Write a program that reads a text file and converts all the text to lowercase.\n"
   ]
  },
  {
   "cell_type": "code",
   "execution_count": 12,
   "id": "251ea869",
   "metadata": {},
   "outputs": [
    {
     "name": "stdout",
     "output_type": "stream",
     "text": [
      "converted to lowercase,output written to sample.txt\n"
     ]
    }
   ],
   "source": [
    "def convert_to_lowercase(input_file,output_file):\n",
    "    with open(input_file,'r')as infile:\n",
    "        with open(output_file,'w')as outfile:\n",
    "            for line in infile:\n",
    "                lower_line=line.lower()\n",
    "                outfile.write(lower_line)\n",
    "                \n",
    "input_file=\"me.txt\"\n",
    "output_file=\"sample.txt\"\n",
    "print(\"converted to lowercase,output written to\",output_file)"
   ]
  },
  {
   "cell_type": "code",
   "execution_count": null,
   "id": "67dc9699",
   "metadata": {},
   "outputs": [],
   "source": [
    "# 10.Write a program that reads a text file and replaces all occurrences of one word with another word.\n"
   ]
  },
  {
   "cell_type": "code",
   "execution_count": 13,
   "id": "fdb9c819",
   "metadata": {},
   "outputs": [
    {
     "name": "stdout",
     "output_type": "stream",
     "text": [
      "Occurrences of 'shamnad' replaced with 'rinshad'.\n",
      "Output written to sample.txt\n"
     ]
    }
   ],
   "source": [
    "def replace_word(input_file, output_file, target_word, replacement_word):\n",
    "    with open(input_file, 'r') as infile:\n",
    "        with open(output_file, 'w') as outfile:\n",
    "            for line in infile:\n",
    "                modified_line = line.replace(target_word, replacement_word)\n",
    "                outfile.write(modified_line)\n",
    "\n",
    "input_file = \"me.txt\"\n",
    "output_file = \"sample.txt\"\n",
    "target_word = \"shamnad\"\n",
    "replacement_word = \"rinshad\"\n",
    "replace_word(input_file, output_file, target_word, replacement_word)\n",
    "print(\"Occurrences of '{}' replaced with '{}'.\".format(target_word, replacement_word))\n",
    "print(\"Output written to\", output_file)"
   ]
  },
  {
   "cell_type": "code",
   "execution_count": null,
   "id": "365135f9",
   "metadata": {},
   "outputs": [],
   "source": [
    "# 11.Write a program that reads a text file, removes all the vowels (a, e, i, o, u) from the text, and writes the result to \n",
    "# # a new file.\n"
   ]
  },
  {
   "cell_type": "code",
   "execution_count": 14,
   "id": "6833b5c0",
   "metadata": {},
   "outputs": [
    {
     "name": "stdout",
     "output_type": "stream",
     "text": [
      "Vowels removed. Output written to sample.txt\n"
     ]
    }
   ],
   "source": [
    "def remove_vowels(input_file, output_file):\n",
    "    vowels = 'aeiouAEIOU'\n",
    "    with open(input_file, 'r') as infile:\n",
    "        with open(output_file, 'w') as outfile:\n",
    "            for line in infile:\n",
    "                for char in line:\n",
    "                    if char not in vowels:\n",
    "                        outfile.write(char)\n",
    "\n",
    "input_file = \"me.txt\"\n",
    "output_file = \"sample.txt\"\n",
    "remove_vowels(input_file, output_file)\n",
    "print(\"Vowels removed. Output written to\", output_file)"
   ]
  },
  {
   "cell_type": "code",
   "execution_count": 15,
   "id": "92d0f8a7",
   "metadata": {},
   "outputs": [],
   "source": [
    "# 12.Write a program that reads a text file and counts the number of times each word appears in the text. The program should then\n",
    "#write the results to a new file, sorted by the number of times each word appears in descending order.\n"
   ]
  },
  {
   "cell_type": "code",
   "execution_count": 16,
   "id": "932a81dd",
   "metadata": {},
   "outputs": [
    {
     "name": "stdout",
     "output_type": "stream",
     "text": [
      "Word counts sorted and written to sample.txt\n"
     ]
    }
   ],
   "source": [
    "from collections import Counter\n",
    "\n",
    "def count_and_sort_words(input_file, output_file):\n",
    "    with open(input_file, 'r') as infile:\n",
    "        words = infile.read().split()\n",
    "\n",
    "    word_counts = Counter(words)\n",
    "\n",
    "    sorted_words = sorted(word_counts.items(), key=lambda x: x[1], reverse=True)\n",
    "    \n",
    "    with open(output_file, 'w') as outfile:\n",
    "        for word, count in sorted_words:\n",
    "            outfile.write(f\"{word}: {count}\\n\")\n",
    "\n",
    "input_file = \"me.txt\"\n",
    "output_file = \"sample.txt\"\n",
    "count_and_sort_words(input_file, output_file)\n",
    "print(\"Word counts sorted and written to\", output_file)"
   ]
  },
  {
   "cell_type": "code",
   "execution_count": null,
   "id": "6229d798",
   "metadata": {},
   "outputs": [],
   "source": [
    "# 13.Write a program that reads a binary file and prints out the hexadecimal representation of the file's contents.\n"
   ]
  },
  {
   "cell_type": "code",
   "execution_count": 19,
   "id": "2abfb58b",
   "metadata": {},
   "outputs": [
    {
     "name": "stdout",
     "output_type": "stream",
     "text": [
      "20 69 20 61 6d 20 73 68 61 6d 6e 61 64 0d 0a 0d 0a 69 20 68 61 76 65 20 61 20 62 72 6f 74 68 65 72 20 73 69 73 74 65 72 20 61 6e 64 20 70 61 72 65 6e 74 73 0d 0a 6e 6f 77 20 69 20 68 61 76 65 20 61 6c 73 6f 20 68 61 76 65 20 61 20 6e 69 65 63 65 0d 0a "
     ]
    }
   ],
   "source": [
    "def binary_to_hex(input_file):\n",
    "    with open(input_file, 'rb') as file:\n",
    "        byte = file.read(1)\n",
    "        while byte:\n",
    "            hex_representation = format(ord(byte), '02x')\n",
    "            print(hex_representation, end=' ')\n",
    "            byte = file.read(1)\n",
    "\n",
    "input_file = \"me.txt\"\n",
    "binary_to_hex(input_file)"
   ]
  },
  {
   "cell_type": "code",
   "execution_count": null,
   "id": "61551fe8",
   "metadata": {},
   "outputs": [],
   "source": [
    "# 14.Write a program that reads a CSV file (comma-separated values) and converts it into an HTML table.\n"
   ]
  },
  {
   "cell_type": "code",
   "execution_count": 21,
   "id": "41db0c0d",
   "metadata": {},
   "outputs": [
    {
     "name": "stdout",
     "output_type": "stream",
     "text": [
      "CSV file converted to HTML table. Output written to sample.html\n"
     ]
    }
   ],
   "source": [
    "import csv\n",
    "def csv_to_html(input_file, output_file):\n",
    "    with open(input_file, 'r') as csvfile:\n",
    "        csvreader = csv.reader(csvfile)\n",
    "        \n",
    "        header = next(csvreader)\n",
    "\n",
    "        with open(output_file, 'w') as htmlfile:\n",
    "            htmlfile.write('<table>\\n')\n",
    "            htmlfile.write('<tr>\\n')\n",
    "            for column in header:\n",
    "                htmlfile.write('<th>{}</th>\\n'.format(column))\n",
    "                htmlfile.write('</tr>\\n')\n",
    "            \n",
    "            for row in csvreader:\n",
    "                htmlfile.write('<tr>\\n')\n",
    "                for column in row:\n",
    "                    htmlfile.write('<td>{}</td>\\n'.format(column))\n",
    "                htmlfile.write('</tr>\\n')\n",
    "            \n",
    "            htmlfile.write('</table>\\n')\n",
    "\n",
    "\n",
    "input_file = \"titanic.csv\"\n",
    "output_file = \"sample.html\"\n",
    "csv_to_html(input_file, output_file)\n",
    "print(\"CSV file converted to HTML table. Output written to\", output_file)"
   ]
  },
  {
   "cell_type": "code",
   "execution_count": null,
   "id": "575bef5c",
   "metadata": {},
   "outputs": [],
   "source": [
    "# 15.Write a program that reads a JSON file and displays the data in a formatted way, sorted by a given field.\n"
   ]
  },
  {
   "cell_type": "code",
   "execution_count": 7,
   "id": "dfcb2f65",
   "metadata": {},
   "outputs": [
    {
     "name": "stdout",
     "output_type": "stream",
     "text": [
      "Enter the JSON file path: D:\\softronics\\python\n",
      "Enter the field to sort by: fruits\n",
      "Sort in ascending order? (Y/N): Y\n",
      "File not found.\n"
     ]
    }
   ],
   "source": [
    "import json\n",
    "\n",
    "def read_json_file(filename, field, ascending=True):\n",
    "    with open(filename, 'r') as file:\n",
    "        data = json.load(file)\n",
    "    sorted_data = sorted(data, key=lambda k: k.get(field))\n",
    "    if not ascending:\n",
    "        sorted_data.reverse()\n",
    "    return sorted_data\n",
    "\n",
    "def display_sorted_data(sorted_data):\n",
    "    print(\"Sorted data:\")\n",
    "    for item in sorted_data:\n",
    "        print(json.dumps(item, indent=4))\n",
    "\n",
    "def main():\n",
    "    filename = input(\"Enter the JSON file path: \")\n",
    "    field = input(\"Enter the field to sort by: \")\n",
    "    ascending = input(\"Sort in ascending order? (Y/N): \").upper() == \"Y\"\n",
    "    \n",
    "    try:\n",
    "        sorted_data = read_json_file(filename, field, ascending)\n",
    "        display_sorted_data(sorted_data)\n",
    "    except FileNotFoundError:\n",
    "        print(\"File not found.\")\n",
    "    except json.JSONDecodeError:\n",
    "        print(\"Invalid JSON format.\")\n",
    "\n",
    "if __name__ == \"__main__\":\n",
    "    main()"
   ]
  }
 ],
 "metadata": {
  "kernelspec": {
   "display_name": "Python 3 (ipykernel)",
   "language": "python",
   "name": "python3"
  },
  "language_info": {
   "codemirror_mode": {
    "name": "ipython",
    "version": 3
   },
   "file_extension": ".py",
   "mimetype": "text/x-python",
   "name": "python",
   "nbconvert_exporter": "python",
   "pygments_lexer": "ipython3",
   "version": "3.11.5"
  }
 },
 "nbformat": 4,
 "nbformat_minor": 5
}

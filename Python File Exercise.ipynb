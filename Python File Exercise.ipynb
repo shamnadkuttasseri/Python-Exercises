{
 "cells": [
  {
   "cell_type": "code",
   "execution_count": null,
   "id": "ca681763",
   "metadata": {},
   "outputs": [],
   "source": [
    "\n",
    "# 1.Write a program that reads a text file and counts the number of lines in the file.\n",
    "# 2.Write a program that reads a text file and prints the first n lines of the file, where n is a user-specified integer.\n",
    "# 3.Write a program that reads a text file and prints the last n lines of the file, where n is a user-specified integer.\n",
    "# 4.Write a program that reads a text file and removes all blank lines from the file.\n",
    "# 5.Write a program that reads a text file and removes all lines that contain a specified string.\n",
    "# 6.Write a program that reads a text file and removes all punctuation from the text.\n",
    "# 7.Write a program that reads a text file and capitalizes the first letter of each word.\n",
    "# 8.Write a program that reads a text file and converts all the text to uppercase.\n",
    "# 9.Write a program that reads a text file and converts all the text to lowercase.\n",
    "# 10.Write a program that reads a text file and replaces all occurrences of one word with another word.\n",
    "# 11.Write a program that reads a text file, removes all the vowels (a, e, i, o, u) from the text, and writes the result to \n",
    "# # a new file.\n",
    "# 12.Write a program that reads a text file and counts the number of times each word appears in the text. The program should then\n",
    "# #write the results to a new file, sorted by the number of times each word appears in descending order.\n",
    "# 13.Write a program that reads a binary file and prints out the hexadecimal representation of the file's contents.\n",
    "# 14.Write a program that reads a CSV file (comma-separated values) and converts it into an HTML table.\n",
    "# 15.Write a program that reads a JSON file and displays the data in a formatted way, sorted by a given field.\n",
    "# 16.Write a program that reads a directory of image files (such as .jpg or .png) and resizes them to a given width and height.\n",
    "# #The program should then save the resized images to a new directory.\n",
    "# 17.Write a program that reads a text file and replaces all occurrences of a given word with another word. The program should \n",
    "#then write the modified text to a new file."
   ]
  },
  {
   "cell_type": "code",
   "execution_count": 1,
   "id": "dce7ea2a",
   "metadata": {},
   "outputs": [],
   "source": [
    "import os"
   ]
  },
  {
   "cell_type": "code",
   "execution_count": 8,
   "id": "88781c29",
   "metadata": {},
   "outputs": [
    {
     "name": "stdout",
     "output_type": "stream",
     "text": [
      "number of lines in the file: 1\n"
     ]
    }
   ],
   "source": [
    "def count_lines(file_name):\n",
    "    with open(file_name,'r') as file:\n",
    "        lines=file.readlines()\n",
    "        line_count=len(lines)\n",
    "        return line_count\n",
    "file_name=\"meet code.txt\"\n",
    "line_count=count_lines(file_name)\n",
    "print(\"number of lines in the file:\",line_count)"
   ]
  },
  {
   "cell_type": "code",
   "execution_count": 6,
   "id": "3db19adc",
   "metadata": {},
   "outputs": [
    {
     "name": "stdout",
     "output_type": "stream",
     "text": [
      "Enter the number of lines to print: 3\n",
      "yaw-dpyw-ydb"
     ]
    }
   ],
   "source": [
    "def print_first_n_lines(file_name, num_lines):\n",
    "     with open(file_name, 'r') as file:\n",
    "            for i, line in enumerate(file, start=1):\n",
    "                if i <= num_lines:\n",
    "                        print(line, end='')\n",
    "                else:\n",
    "                     break\n",
    "\n",
    "file_name = \"meet code.txt\"\n",
    "num_lines = int(input(\"Enter the number of lines to print: \"))\n",
    "print_first_n_lines(file_name, num_lines)"
   ]
  },
  {
   "cell_type": "code",
   "execution_count": 4,
   "id": "ca0ad717",
   "metadata": {},
   "outputs": [
    {
     "name": "stdout",
     "output_type": "stream",
     "text": [
      "Enter the number of lines to print: 2\n",
      "you\n",
      "are\n"
     ]
    }
   ],
   "source": [
    "def last_n_lines(file_name,n):\n",
    "    with open(file_name,'r')as file:\n",
    "        lines=file.read().split(' ') \n",
    "        for i in reversed(range(len(lines)-n,len(lines))):\n",
    "            print(lines[i])\n",
    "\n",
    "file_name = \"sample.txt\"\n",
    "n= int(input(\"Enter the number of lines to print: \"))\n",
    "last_n_lines(file_name, n)\n",
    "        \n",
    "    "
   ]
  },
  {
   "cell_type": "code",
   "execution_count": 1,
   "id": "f135c341",
   "metadata": {},
   "outputs": [],
   "source": [
    "def remove_blank_lines(file_name):\n",
    "    with open(file_name,'r')as file:\n",
    "        lines=file.readlines()\n",
    "        \n",
    "    with open(file_name,'w')as file:\n",
    "        for line in lines:\n",
    "            if line.strip():\n",
    "                file.write(line)\n",
    "file_name='sample.txt'\n",
    "remove_blank_lines(file_name)"
   ]
  },
  {
   "cell_type": "code",
   "execution_count": 8,
   "id": "44caef0c",
   "metadata": {},
   "outputs": [],
   "source": [
    "with open('sample.txt','r+') as file:\n",
    "    for line in file:\n",
    "        if not line.isspace():\n",
    "            file.write(line)"
   ]
  },
  {
   "cell_type": "code",
   "execution_count": 2,
   "id": "6113f4df",
   "metadata": {},
   "outputs": [],
   "source": [
    "def remove_specific_string(file_name,string_to_remove):\n",
    "    with open(file_name,'r')as file:\n",
    "        lines=file.readlines()\n",
    "        \n",
    "    with open (file_name,'w')as file:\n",
    "        for line in lines:\n",
    "            if string_to_remove not in line:\n",
    "                file.write(line)\n",
    "file_name='sample.txt'\n",
    "string_to_remove='hello'"
   ]
  },
  {
   "cell_type": "code",
   "execution_count": 2,
   "id": "e582f303",
   "metadata": {},
   "outputs": [
    {
     "ename": "AttributeError",
     "evalue": "'builtin_function_or_method' object has no attribute 'translate'",
     "output_type": "error",
     "traceback": [
      "\u001b[1;31m---------------------------------------------------------------------------\u001b[0m",
      "\u001b[1;31mAttributeError\u001b[0m                            Traceback (most recent call last)",
      "Cell \u001b[1;32mIn[2], line 10\u001b[0m\n\u001b[0;32m      8\u001b[0m         file\u001b[38;5;241m.\u001b[39mwrite(text)\n\u001b[0;32m      9\u001b[0m file_name\u001b[38;5;241m=\u001b[39m\u001b[38;5;124m'\u001b[39m\u001b[38;5;124msample.txt\u001b[39m\u001b[38;5;124m'\u001b[39m\n\u001b[1;32m---> 10\u001b[0m remove_all_punctuations(file_name)\n",
      "Cell \u001b[1;32mIn[2], line 6\u001b[0m, in \u001b[0;36mremove_all_punctuations\u001b[1;34m(file_name)\u001b[0m\n\u001b[0;32m      3\u001b[0m \u001b[38;5;28;01mwith\u001b[39;00m \u001b[38;5;28mopen\u001b[39m(file_name,\u001b[38;5;124m'\u001b[39m\u001b[38;5;124mr\u001b[39m\u001b[38;5;124m'\u001b[39m)\u001b[38;5;28;01mas\u001b[39;00m file:\n\u001b[0;32m      4\u001b[0m     text \u001b[38;5;241m=\u001b[39m file\u001b[38;5;241m.\u001b[39mread\n\u001b[1;32m----> 6\u001b[0m     text \u001b[38;5;241m=\u001b[39m text\u001b[38;5;241m.\u001b[39mtranslate(\u001b[38;5;28mstr\u001b[39m\u001b[38;5;241m.\u001b[39mmaketrans(\u001b[38;5;124m'\u001b[39m\u001b[38;5;124m'\u001b[39m, \u001b[38;5;124m'\u001b[39m\u001b[38;5;124m'\u001b[39m, string\u001b[38;5;241m.\u001b[39mpunctuation))\n\u001b[0;32m      7\u001b[0m \u001b[38;5;28;01mwith\u001b[39;00m \u001b[38;5;28mopen\u001b[39m (file_name,\u001b[38;5;124m'\u001b[39m\u001b[38;5;124mw\u001b[39m\u001b[38;5;124m'\u001b[39m)\u001b[38;5;28;01mas\u001b[39;00m file:\n\u001b[0;32m      8\u001b[0m     file\u001b[38;5;241m.\u001b[39mwrite(text)\n",
      "\u001b[1;31mAttributeError\u001b[0m: 'builtin_function_or_method' object has no attribute 'translate'"
     ]
    }
   ],
   "source": [
    "import string\n",
    "def remove_all_punctuations(file_name):\n",
    "    with open(file_name,'r')as file:\n",
    "        text = file.read\n",
    "        \n",
    "        text = text.translate(str.maketrans('', '', string.punctuation))\n",
    "    with open (file_name,'w')as file:\n",
    "        file.write(text)\n",
    "file_name='sample.txt'\n",
    "remove_all_punctuations(file_name)"
   ]
  },
  {
   "cell_type": "code",
   "execution_count": 6,
   "id": "e10b2278",
   "metadata": {},
   "outputs": [],
   "source": [
    "def capitalize_words(file_name):\n",
    "    \n",
    "    with open(file_name, 'r') as file:\n",
    "            text = file.read()\n",
    "            words = text.split()\n",
    "    capitalized_words = [word.capitalize() for word in words]\n",
    "    text = ' '.join(capitalized_words)\n",
    "\n",
    "    with open(file_name, 'w') as file:\n",
    "             file.write(text)\n",
    "\n",
    "file_name = \"sample.txt\"\n",
    "capitalize_words(file_name)"
   ]
  },
  {
   "cell_type": "code",
   "execution_count": 6,
   "id": "acb3c8ed",
   "metadata": {},
   "outputs": [],
   "source": [
    "def convert_uppercase(file_name):\n",
    "    with open(file_name,'r')as file:\n",
    "        text=file.read()\n",
    "        \n",
    "        text=text.upper()\n",
    "    with open(file_name,'w')as file:\n",
    "         file.write(text)\n",
    "file_name='sample.txt'\n",
    "convert_uppercase(file_name)"
   ]
  },
  {
   "cell_type": "code",
   "execution_count": 5,
   "id": "3f1944a9",
   "metadata": {},
   "outputs": [],
   "source": [
    "def convert_lowercase(file_name):\n",
    "    with open(file_name,'r')as file:\n",
    "        text=file.read()\n",
    "        \n",
    "        text=text.lower()\n",
    "    with open(file_name,'w')as file:\n",
    "         file.write(text)\n",
    "file_name='sample.txt'\n",
    "convert_lowercase(file_name)\n"
   ]
  },
  {
   "cell_type": "code",
   "execution_count": null,
   "id": "789b4424",
   "metadata": {},
   "outputs": [],
   "source": [
    "def change_word(file_name,new_world,old_world):\n",
    "    with open(file_name,'r')as file:\n",
    "        text=file.read()\n",
    "    with open(file_name,'w')as file:\n",
    "        "
   ]
  }
 ],
 "metadata": {
  "kernelspec": {
   "display_name": "Python 3 (ipykernel)",
   "language": "python",
   "name": "python3"
  },
  "language_info": {
   "codemirror_mode": {
    "name": "ipython",
    "version": 3
   },
   "file_extension": ".py",
   "mimetype": "text/x-python",
   "name": "python",
   "nbconvert_exporter": "python",
   "pygments_lexer": "ipython3",
   "version": "3.11.5"
  }
 },
 "nbformat": 4,
 "nbformat_minor": 5
}

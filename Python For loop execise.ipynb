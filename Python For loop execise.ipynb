{
 "cells": [
  {
   "cell_type": "code",
   "execution_count": null,
   "id": "6d59216a",
   "metadata": {},
   "outputs": [],
   "source": [
    "# 1.Write a Python program to find all pairs of integers in a given array whose sum is equal to a given number."
   ]
  },
  {
   "cell_type": "code",
   "execution_count": 4,
   "id": "38ffede1",
   "metadata": {},
   "outputs": [
    {
     "name": "stdout",
     "output_type": "stream",
     "text": [
      "[(7, 5), (9, 3)]\n"
     ]
    }
   ],
   "source": [
    "lst = [1, 5, 3, 7, 9]\n",
    "K = 12\n",
    "result = []\n",
    "seen = set()\n",
    " \n",
    "for num in lst:\n",
    "    complement = K - num\n",
    "    if complement in seen:\n",
    "        result.append((num, complement))\n",
    "    seen.add(num)\n",
    " \n",
    "print(result)"
   ]
  },
  {
   "cell_type": "code",
   "execution_count": null,
   "id": "b62fbf6b",
   "metadata": {},
   "outputs": [],
   "source": [
    "# 2.Write a Python program to find the median of a given unsorted list of integers. "
   ]
  },
  {
   "cell_type": "code",
   "execution_count": 5,
   "id": "d204111a",
   "metadata": {},
   "outputs": [],
   "source": [
    "lst=[1,6,5,4,2,3,9,8,7]\n",
    "lst.sort()\n",
    "x=len(lst)\n",
    "if x/2==0:\n",
    "    median=(lst[x//2+1]+lst[x//2])/2\n",
    "else:\n",
    "    median=lst[x//2]"
   ]
  },
  {
   "cell_type": "code",
   "execution_count": 3,
   "id": "40942ad4",
   "metadata": {},
   "outputs": [],
   "source": [
    "#3.Write a Python program to find the longest increasing subsequence in a given array of integers."
   ]
  },
  {
   "cell_type": "code",
   "execution_count": 1,
   "id": "58b906be",
   "metadata": {},
   "outputs": [],
   "source": [
    "def lis(ary):\n",
    "    l=len(ary)\n",
    "    \n",
    "    lis=[1]*n"
   ]
  },
  {
   "cell_type": "code",
   "execution_count": 4,
   "id": "aee72f13",
   "metadata": {},
   "outputs": [],
   "source": [
    "#4.Write a Python program to find the kth smallest element in a given unsorted array."
   ]
  },
  {
   "cell_type": "code",
   "execution_count": 3,
   "id": "ffbd8f0a",
   "metadata": {},
   "outputs": [
    {
     "ename": "NameError",
     "evalue": "name 'k' is not defined",
     "output_type": "error",
     "traceback": [
      "\u001b[1;31m---------------------------------------------------------------------------\u001b[0m",
      "\u001b[1;31mNameError\u001b[0m                                 Traceback (most recent call last)",
      "Cell \u001b[1;32mIn[3], line 12\u001b[0m\n\u001b[0;32m     10\u001b[0m     \u001b[38;5;28;01mreturn\u001b[39;00m numbers[k\u001b[38;5;241m-\u001b[39m\u001b[38;5;241m1\u001b[39m]\n\u001b[0;32m     11\u001b[0m numbers\u001b[38;5;241m=\u001b[39m[\u001b[38;5;241m3\u001b[39m,\u001b[38;5;241m45\u001b[39m,\u001b[38;5;241m67\u001b[39m,\u001b[38;5;241m1\u001b[39m,\u001b[38;5;241m-\u001b[39m\u001b[38;5;241m3\u001b[39m,\u001b[38;5;241m56\u001b[39m]\n\u001b[1;32m---> 12\u001b[0m \u001b[38;5;28mprint\u001b[39m(kth_smallest(numbers,k))\n",
      "\u001b[1;31mNameError\u001b[0m: name 'k' is not defined"
     ]
    }
   ],
   "source": [
    "def kth_smallest(numbers, k):\n",
    "    for i in range(len(numbers)):\n",
    "        if len(numbers) == k:    \n",
    "            return numbers[k-1]\n",
    "            min_index = i\n",
    "            for j in range(i+1, len(numbers)):\n",
    "                if numbers[j] < numbers[min_index]:\n",
    "                    min_index = j\n",
    "                    numbers[i], numbers[min_index] = numbers[min_index], numbers[i]\n",
    "    return numbers[k-1]\n",
    "numbers=[3,45,67,1,-3,56]\n",
    "print(kth_smallest(numbers,k))\n"
   ]
  },
  {
   "cell_type": "code",
   "execution_count": null,
   "id": "2f64a958",
   "metadata": {},
   "outputs": [],
   "source": [
    "#5.Write a Python program to sort a given list of integers using the bubble sort algorithm."
   ]
  },
  {
   "cell_type": "code",
   "execution_count": 37,
   "id": "072ce639",
   "metadata": {},
   "outputs": [
    {
     "name": "stdout",
     "output_type": "stream",
     "text": [
      "sorted list: [12, 32, 35, 54, 56, 68, 78, 85, 98]\n"
     ]
    }
   ],
   "source": [
    "def bubble_sort(numbers):\n",
    "    n=len(numbers)\n",
    "    swapped=False\n",
    "    for i in range(n-1):\n",
    "        for j in range(0,n-i-1):\n",
    "            if numbers[j]>numbers[j+1]:\n",
    "                swapped=True\n",
    "                numbers[j],numbers[j+1]=numbers[j+1],numbers[j]\n",
    "            \n",
    "        if not swapped:\n",
    "            return\n",
    "\n",
    "numbers=[12,54,32,56,35,68,98,78,85]\n",
    "bubble_sort(numbers)\n",
    "print('sorted list:',numbers)\n",
    "\n",
    "    "
   ]
  },
  {
   "cell_type": "code",
   "execution_count": null,
   "id": "23a42b6e",
   "metadata": {},
   "outputs": [],
   "source": [
    "#6.Write a Python program to implement a binary search algorithm to search for a given element in a sorted array."
   ]
  },
  {
   "cell_type": "code",
   "execution_count": 6,
   "id": "79a538b2",
   "metadata": {},
   "outputs": [
    {
     "name": "stdout",
     "output_type": "stream",
     "text": [
      "Element is present at index 3\n"
     ]
    }
   ],
   "source": [
    "def binary_search(arr,low,high,x):\n",
    "    if high >= low:\n",
    "        mid=(low+high)//2\n",
    "        if arr[mid] == x:\n",
    "        \n",
    "            return mid\n",
    " \n",
    "       \n",
    "        elif arr[mid] > x:\n",
    "            return binary_search(arr, low, mid - 1, x)\n",
    " \n",
    "        # Else the element can only be present in right subarray\n",
    "        else:\n",
    "            return binary_search(arr, mid + 1, high, x)\n",
    " \n",
    "    else:\n",
    "        return -1\n",
    " \n",
    "\n",
    "arr = [ 2, 3, 4, 10, 40 ]\n",
    "x = 10\n",
    "result = binary_search(arr, 0, len(arr)-1, x)\n",
    " \n",
    "if result != -1:\n",
    "    print(\"Element is present at index\", str(result))\n",
    "else:\n",
    "    print(\"Element is not present in array\")\n",
    "        \n",
    "    \n",
    "\n",
    "    \n"
   ]
  },
  {
   "cell_type": "code",
   "execution_count": null,
   "id": "34bc42f6",
   "metadata": {},
   "outputs": [],
   "source": [
    "#7.Write a Python program to find the largest product of any three elements in a given array of integers."
   ]
  },
  {
   "cell_type": "code",
   "execution_count": 8,
   "id": "752ac574",
   "metadata": {},
   "outputs": [
    {
     "name": "stdout",
     "output_type": "stream",
     "text": [
      "4000\n",
      "8\n",
      "120\n"
     ]
    }
   ],
   "source": [
    "def largest_product_of_three(n):\n",
    "    max_val=n[1]\n",
    "    for i in range(len(n)):\n",
    "        for j in range(i+1,len(n)):\n",
    "            for k in range(j+1,len(n)):\n",
    "                \n",
    "                max_val=max(n[i]*n[j]*n[k],max_val)\n",
    "    return max_val\n",
    "print(largest_product_of_three([-10, -20, 20, 1]))\n",
    "print(largest_product_of_three([-1, -1, 4, 2, 1]))\n",
    "print(largest_product_of_three([1, 2, 3, 4, 5, 6]))"
   ]
  },
  {
   "cell_type": "code",
   "execution_count": null,
   "id": "b4378b88",
   "metadata": {},
   "outputs": [],
   "source": [
    "#8.Write a Python program to find the largest sum of any contiguous subarray in a given array of integers."
   ]
  },
  {
   "cell_type": "code",
   "execution_count": 17,
   "id": "f2437f42",
   "metadata": {},
   "outputs": [
    {
     "name": "stdout",
     "output_type": "stream",
     "text": [
      "max subarray sum: 99\n"
     ]
    }
   ],
   "source": [
    "def maxSubArraySum(a,size):\n",
    "    max_so_far = a[0]\n",
    "    max_ending_here = 0\n",
    "     \n",
    "    for i in range(0, size):\n",
    "        max_ending_here = max_ending_here + a[i]\n",
    "        if max_ending_here < 0:\n",
    "            max_ending_here = 0\n",
    "         \n",
    "        elif (max_so_far < max_ending_here):\n",
    "            max_so_far = max_ending_here\n",
    "             \n",
    "    return max_so_far\n",
    "a=[1,2,3,4,5,67,8,9]\n",
    "print('max subarray sum:',maxSubArraySum(a,len(a)))"
   ]
  },
  {
   "cell_type": "code",
   "execution_count": null,
   "id": "ce61b888",
   "metadata": {},
   "outputs": [],
   "source": [
    "#9.Write a Python program to find the common elements between two given arrays of integers."
   ]
  },
  {
   "cell_type": "code",
   "execution_count": null,
   "id": "35903024",
   "metadata": {},
   "outputs": [],
   "source": [
    "\n",
    "\n",
    "def common_member(a, b):\n",
    "  # create an empty dictionary to store the count of each element\n",
    "    common_dict = {}\n",
    "    for elem in a:\n",
    "      # if the element is already in the dictionary\n",
    "        if elem in common_dict:\n",
    "           # increment the count\n",
    "            common_dict[elem] += 1\n",
    "        # if the element is not in the dictionary\n",
    "        else:\n",
    "            common_dict[elem] = 1  # add it to the dictionary with a count of 1\n",
    "    for elem in b:  # loop through each element in the second set\n",
    "        if elem in common_dict:  # if the element is already in the dictionary\n",
    "            common_dict[elem] += 1  # increment the count\n",
    "        else:  # if the element is not in the dictionary\n",
    "            common_dict[elem] = 1  # add it to the dictionary with a count of 1\n",
    "    # create a list of elements that have a count of 2 in the dictionary\n",
    "    common = [elem for elem in common_dict if common_dict[elem] == 2]\n",
    "    if len(common) > 0:  # if there are common elements\n",
    "        return common  # return the list of common elements\n",
    "    else:  # if there are no common elements\n",
    "        return \"no common elements\"  # return a message saying so\n",
    " \n",
    " \n",
    "a = [1, 2, 3, 4, 5]\n",
    "b = [5, 6, 7, 8, 9]\n",
    "print(common_member(a, b))\n",
    " \n",
    "a = [1, 2, 3, 4, 5]\n",
    "b = [6, 7, 8, 9]\n",
    "print(common_member(a, b))"
   ]
  },
  {
   "cell_type": "code",
   "execution_count": null,
   "id": "968dfcbe",
   "metadata": {},
   "outputs": [],
   "source": [
    "#10.Write a Python program to find the longest palindrome substring in a given string."
   ]
  },
  {
   "cell_type": "code",
   "execution_count": null,
   "id": "e6f7addb",
   "metadata": {},
   "outputs": [],
   "source": []
  }
 ],
 "metadata": {
  "kernelspec": {
   "display_name": "Python 3 (ipykernel)",
   "language": "python",
   "name": "python3"
  },
  "language_info": {
   "codemirror_mode": {
    "name": "ipython",
    "version": 3
   },
   "file_extension": ".py",
   "mimetype": "text/x-python",
   "name": "python",
   "nbconvert_exporter": "python",
   "pygments_lexer": "ipython3",
   "version": "3.11.5"
  }
 },
 "nbformat": 4,
 "nbformat_minor": 5
}

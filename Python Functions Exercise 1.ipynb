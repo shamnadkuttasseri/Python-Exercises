{
 "cells": [
  {
   "cell_type": "code",
   "execution_count": null,
   "id": "4cf4d5a5",
   "metadata": {},
   "outputs": [],
   "source": [
    "# 1.Define the missing functions in the code below so that it produces the given output:\n",
    "# for i in range(3):\n",
    "#   say_hip()\n",
    "#   say_hip()\n",
    "#   say_horray()\n",
    "#   print() # print empty line\n",
    "\n",
    "#  Output:\t\n",
    "# Hip\n",
    "# Hip\n",
    "# Hooray!\n",
    "\n",
    "# Hip\n",
    "# Hip\n",
    "# Hooray!\n",
    "\n",
    "# Hip\n",
    "# Hip\n",
    "# Hooray!"
   ]
  },
  {
   "cell_type": "code",
   "execution_count": 2,
   "id": "e7bd28d6",
   "metadata": {},
   "outputs": [
    {
     "name": "stdout",
     "output_type": "stream",
     "text": [
      "Hip Hip Hooray! \n",
      "Hip Hip Hooray! \n",
      "Hip Hip Hooray! \n"
     ]
    }
   ],
   "source": [
    "def say_hip():\n",
    " return 'Hip'\n",
    "\n",
    "def say_horray():\n",
    " return 'Hooray!'\n",
    "\n",
    "for i in range(3):\n",
    " print(say_hip(), end=' ')\n",
    " print(say_hip(), end=' ')\n",
    " print(say_horray(), end=' ')\n",
    " print() # print empty line"
   ]
  },
  {
   "cell_type": "code",
   "execution_count": null,
   "id": "393e8c12",
   "metadata": {},
   "outputs": [],
   "source": [
    "#2. Write a program to read project score and exam score from the keyboard and print a bar chart of the scores and a grade.\n",
    "#Follow the example below:\n",
    "Enter project score\n",
    "30\n",
    "Enter exam score\n",
    "40\n",
    "Total: 70\n",
    "Project : ======    \n",
    "Exam    : ========    \n",
    "Total   : ==============    \n",
    "Grade   : A\n",
    "    \n",
    "Note how the colons (:) are aligned.\n",
    "Note the extra blank lines in the expected output.\n",
    "The bar chart has one = for each 5 marks  24 marks should be shown as ====.\n",
    "Assume all inputs are positive integers.\n",
    "\n",
    "Grading rules:\n",
    "A: at least 25 marks for each component and at least 60 in total    \n",
    "B: at least one component has 25 or more marks and at least 50 in total    \n",
    "C: at least 40 in total    \n",
    "D: otherwise\n",
    "\n"
   ]
  },
  {
   "cell_type": "code",
   "execution_count": 2,
   "id": "c4ff0a99",
   "metadata": {},
   "outputs": [
    {
     "name": "stdout",
     "output_type": "stream",
     "text": [
      "Enter project score:30\n",
      "Enter exam score:40\n",
      "total: 70\n",
      "project : ======\n",
      "exam : ========\n",
      "Total : ==============\n",
      "Grade : A\n"
     ]
    }
   ],
   "source": [
    "project_score=int(input('Enter project score:'))\n",
    "exam_score=int(input('Enter exam score:'))\n",
    "total= project_score+exam_score\n",
    "\n",
    "project_bar_chart='='*(project_score//5)\n",
    "exam_bar_chart='='*(exam_score//5)\n",
    "total_bar_chart='='*(total//5)\n",
    "\n",
    "print('total:',total)\n",
    "print('project :',project_bar_chart)\n",
    "print('exam    :',exam_bar_chart)\n",
    "print('Total   :',total_bar_chart)\n",
    "print('',end=\"\")\n",
    "\n",
    "if project_score >=25 and exam_score >=25 and total >=60:\n",
    "    grade = 'A'\n",
    "elif total  >=50:\n",
    "    grade = 'B'\n",
    "elif total >=40:\n",
    "    grade = 'C'\n",
    "else:\n",
    "    grade = 'D'\n",
    "\n",
    "print('Grade :', grade)"
   ]
  },
  {
   "cell_type": "code",
   "execution_count": null,
   "id": "56376205",
   "metadata": {},
   "outputs": [],
   "source": [
    "#3.Modify the Above program in such a way that add a print_score function to the code and replace the following three lines,\n",
    "\n",
    "print('Project :', '=' * (project_score//5))\n",
    "print('Exam    :', '=' * (exam_score//5))\n",
    "print('Total   :', '=' * (total_score//5))\n",
    "with these three lines,\n",
    "\n",
    "print_score('Project :', project_score)\n",
    "print_score('Exam    :', exam_score)\n",
    "print_score('Total   :', total_score)\n",
    "without changing the external behavior of the program."
   ]
  },
  {
   "cell_type": "code",
   "execution_count": 6,
   "id": "f8dd1fd4",
   "metadata": {},
   "outputs": [
    {
     "name": "stdout",
     "output_type": "stream",
     "text": [
      "Enter project score:30\n",
      "Enter exam score:40\n",
      "Project : ======\n",
      "Exam    : ========\n",
      "Total   : ==============\n",
      "Grade : A\n"
     ]
    }
   ],
   "source": [
    "def print_score(label,score):\n",
    "    bar_chart= '='*(score//5)\n",
    "    print(label,bar_chart)\n",
    "    \n",
    "project_score=int(input('Enter project score:'))\n",
    "exam_score=int(input('Enter exam score:'))\n",
    "total_score= project_score+exam_score\n",
    "    \n",
    "print_score('Project :', project_score)\n",
    "print_score('Exam    :', exam_score)\n",
    "print_score('Total   :', total_score)\n",
    "    \n",
    "print('',end=\"\")\n",
    "    \n",
    "if project_score >=25 and exam_score >=25 and total_score >=60:\n",
    "        grade = 'A'\n",
    "elif total_score  >=50:\n",
    "        grade = 'B'\n",
    "elif total_score >=40:\n",
    "        grade = 'C'\n",
    "else:\n",
    "        grade = 'D'\n",
    "\n",
    "print('Grade :', grade)"
   ]
  },
  {
   "cell_type": "code",
   "execution_count": null,
   "id": "9ceb7006",
   "metadata": {},
   "outputs": [],
   "source": [
    "#4.Add a calculate_grade function to the code and replace the following lines,\n",
    "\n",
    "if total >= 60 and project_score >= 25 and exam_score >= 25:\n",
    "    grade = 'A'\n",
    "elif (total >= 50) and (project_score >= 25 or exam_score >= 25):\n",
    "    grade = 'B'\n",
    "elif total >= 40:\n",
    "    grade = 'C'\n",
    "else:\n",
    "    grade = 'D'\n",
    "with the line,\n",
    "\n",
    "grade = calculate_grade(project_score, exam_score)\n",
    "without changing the external behavior of the program."
   ]
  },
  {
   "cell_type": "code",
   "execution_count": 8,
   "id": "9062d3a0",
   "metadata": {},
   "outputs": [
    {
     "name": "stdout",
     "output_type": "stream",
     "text": [
      "Enter project score:30\n",
      "Enter exam score:40\n",
      "Project : ======\n",
      "Exam    : ========\n",
      "Total   : ==============\n",
      "Grade   : A\n"
     ]
    }
   ],
   "source": [
    "def calculate_grade(project_score, exam_score):\n",
    "    \n",
    "    if total >= 60 and project_score >= 25 and exam_score >= 25:\n",
    "        grade = 'A'\n",
    "    elif (total >= 50) and (project_score >= 25 or exam_score >= 25):\n",
    "        grade = 'B'\n",
    "    elif total >= 40:\n",
    "        grade = 'C'\n",
    "    else:\n",
    "        grade = 'D'\n",
    "        \n",
    "project_score=int(input('Enter project score:'))\n",
    "exam_score=int(input('Enter exam score:'))\n",
    "total_score= project_score+exam_score\n",
    "\n",
    "print_score('Project :', project_score)\n",
    "print_score('Exam    :', exam_score)\n",
    "print_score('Total   :', total_score)\n",
    "    \n",
    "print('',end=\"\")\n",
    "\n",
    "print('Grade   :',grade)\n"
   ]
  },
  {
   "cell_type": "code",
   "execution_count": null,
   "id": "c60b7122",
   "metadata": {},
   "outputs": [],
   "source": [
    "#5.Move all the statements that are not inside a function (i.e., the last 10 statements in the code above) into a new function \n",
    "#called main. Given below is the expected structure of the code. The external behavior of the code should remain as before.\n",
    "\n",
    "\n",
    "def print_score(name, value):\n",
    "  # ...\n",
    "\n",
    "def calculate_grade(project, exam):\n",
    "  # ...\n",
    "\n",
    "def main():\n",
    "  # MOVE CODE HERE\n",
    "\n",
    "main()"
   ]
  },
  {
   "cell_type": "code",
   "execution_count": 4,
   "id": "3933a63f",
   "metadata": {},
   "outputs": [
    {
     "name": "stdout",
     "output_type": "stream",
     "text": [
      "Enter project score: 30\n",
      "Enter exam score: 40\n",
      "Project : ======\n",
      "Exam : ========\n",
      "Total : ==============\n",
      "Grade : None\n"
     ]
    }
   ],
   "source": [
    "def print_score(label, score):\n",
    "    bar_chart = '=' * (score //5)\n",
    "    print(label, bar_chart)\n",
    "\n",
    "def calculate_grade(project_score, exam_score):\n",
    "    total_score = project_score + exam_score\n",
    "\n",
    "    if total_score >=60 and project_score >=25 and exam_score >=25:\n",
    "        grade = 'A'\n",
    "    elif (total_score >=50) and (project_score >=25 or exam_score >=25):\n",
    "        grade = 'B'\n",
    "    elif total_score >=40:\n",
    "        grade = 'C'\n",
    "    else:\n",
    "        grade = 'D'\n",
    "\n",
    "        return grade\n",
    "\n",
    "def main():\n",
    "    project_score = int(input('Enter project score: '))\n",
    "    exam_score = int(input('Enter exam score: '))\n",
    "\n",
    "    print_score('Project :', project_score)\n",
    "    print_score('Exam :', exam_score)\n",
    "    print_score('Total :', project_score + exam_score)\n",
    "\n",
    "    print('', end='')\n",
    "\n",
    "    grade = calculate_grade(project_score, exam_score)\n",
    "    print('Grade :', grade)\n",
    "main()"
   ]
  },
  {
   "cell_type": "code",
   "execution_count": null,
   "id": "c6b94c8b",
   "metadata": {},
   "outputs": [],
   "source": [
    "#6.Take the a grader you wrote in the previous exercise. Restructure the main function so that its code looks as follows:\n",
    "\n",
    "def print_score(name, value):\n",
    "  # ...\n",
    "\n",
    "def calculate_grade(project, exam):\n",
    "  # ...\n",
    "\n",
    "# ADD MISSING FUNCTIONS\n",
    "\n",
    "def main():\n",
    "  project_score = read_number('Enter project score:')\n",
    "  exam_score = read_number('Enter exam score:')\n",
    "  grade = calculate_grade(project_score, exam_score)\n",
    "  print_report(project_score, exam_score, grade)\n",
    "\n",
    "main()\n",
    "The external behavior of the code should remain as before."
   ]
  }
 ],
 "metadata": {
  "kernelspec": {
   "display_name": "Python 3 (ipykernel)",
   "language": "python",
   "name": "python3"
  },
  "language_info": {
   "codemirror_mode": {
    "name": "ipython",
    "version": 3
   },
   "file_extension": ".py",
   "mimetype": "text/x-python",
   "name": "python",
   "nbconvert_exporter": "python",
   "pygments_lexer": "ipython3",
   "version": "3.11.5"
  }
 },
 "nbformat": 4,
 "nbformat_minor": 5
}

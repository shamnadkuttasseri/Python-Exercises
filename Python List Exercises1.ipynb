{
 "cells": [
  {
   "cell_type": "code",
   "execution_count": 1,
   "id": "3a28ff0c",
   "metadata": {},
   "outputs": [],
   "source": [
    "#1.Find the sum of elements in a list."
   ]
  },
  {
   "cell_type": "code",
   "execution_count": 3,
   "id": "54a4d8fc",
   "metadata": {},
   "outputs": [
    {
     "name": "stdout",
     "output_type": "stream",
     "text": [
      "126\n"
     ]
    }
   ],
   "source": [
    "numbers=[1,2,3,4,5,6,7,89,9]\n",
    "print(sum(numbers))"
   ]
  },
  {
   "cell_type": "code",
   "execution_count": 4,
   "id": "2853ece1",
   "metadata": {},
   "outputs": [],
   "source": [
    "#2.Create a list of characters. Write a program to reverse the order of the elements in the list without using built-in \n",
    "# functions. Use indexing method. "
   ]
  },
  {
   "cell_type": "code",
   "execution_count": 5,
   "id": "9c46ccec",
   "metadata": {},
   "outputs": [
    {
     "name": "stdout",
     "output_type": "stream",
     "text": [
      "['cherry', 'orange', 'pineapple', 'apple']\n"
     ]
    }
   ],
   "source": [
    "fruits=['apple',\"pineapple\",\"orange\",'cherry']\n",
    "fruits[0]='cherry'\n",
    "fruits[1]='orange'\n",
    "fruits[2]='pineapple'\n",
    "fruits[3]='apple'\n",
    "print(fruits)"
   ]
  },
  {
   "cell_type": "code",
   "execution_count": 3,
   "id": "ce8d5d32",
   "metadata": {},
   "outputs": [
    {
     "name": "stdout",
     "output_type": "stream",
     "text": [
      "['Mike', 'Emma', 'Kelly', 'Brad']\n"
     ]
    }
   ],
   "source": [
    "#3.Remove empty strings from the list of strings without using any loops\n",
    "list1=['Mike','', 'Emma', 'Kelly', '', 'Brad']\n",
    "list2=('mylist:',list1)\n",
    "list3=list(filter(None,list1))\n",
    "print(list3)"
   ]
  },
  {
   "cell_type": "code",
   "execution_count": 4,
   "id": "e0fcbca7",
   "metadata": {},
   "outputs": [],
   "source": [
    "# 4.Write a program to add item 7000 after 6000 in the following Python List\n",
    "# list1 = [10, 20, [300, 400, [5000, 6000], 500], 30, 40]\n"
   ]
  },
  {
   "cell_type": "code",
   "execution_count": 20,
   "id": "3424c43b",
   "metadata": {},
   "outputs": [
    {
     "name": "stdout",
     "output_type": "stream",
     "text": [
      "[10, 20, [300, 400, [5000, 6000], 500], 30, 40, '7000,6000']\n"
     ]
    }
   ],
   "source": [
    "list1 = [10, 20, [300, 400, [5000, 6000], 500], 30, 40]\n",
    "list1.append(\"7000,6000\")\n",
    "print(list1)"
   ]
  },
  {
   "cell_type": "code",
   "execution_count": null,
   "id": "e87b031f",
   "metadata": {},
   "outputs": [],
   "source": [
    "# 5.You have given a Python list. Write a program to find value 20 in the list, and if it is present, replace it with 200.\n",
    "# Only update the first occurrence of an item.\n",
    "# list1 = [5, 10, 15, 20, 25, 50, 20]"
   ]
  },
  {
   "cell_type": "code",
   "execution_count": 1,
   "id": "47430aee",
   "metadata": {},
   "outputs": [
    {
     "name": "stdout",
     "output_type": "stream",
     "text": [
      "Please replace number 20 with 200:200\n",
      "[5, 10, 15, 200, 25, 50, 20]\n"
     ]
    }
   ],
   "source": [
    "list1 = [5, 10, 15, 20, 25, 50, 20]\n",
    "index = list1.index(20)\n",
    "replacement = int(input(\"Please replace number 20 with 200:\"))\n",
    "list1[index] = replacement\n",
    "print(list1)\n"
   ]
  },
  {
   "cell_type": "code",
   "execution_count": null,
   "id": "74f006ad",
   "metadata": {},
   "outputs": [],
   "source": [
    "#6.Create a list of numbers. Write a program to find the range (difference between the largest and smallest element) of the list."
   ]
  },
  {
   "cell_type": "code",
   "execution_count": 8,
   "id": "ac2f0fea",
   "metadata": {},
   "outputs": [
    {
     "name": "stdout",
     "output_type": "stream",
     "text": [
      "difference between the largest and smallest element: 75\n"
     ]
    }
   ],
   "source": [
    "list=[12,34,5,1,2,3,4,56,76]\n",
    "list.sort(reverse=True)\n",
    "a=list[0]\n",
    "b=list[-1]\n",
    "print(\"difference between the largest and smallest element:\",a-b)"
   ]
  },
  {
   "cell_type": "code",
   "execution_count": null,
   "id": "5f28cc0f",
   "metadata": {},
   "outputs": [],
   "source": [
    "#Create a list of random numbers. Write a program to count how many times each element appears in the list"
   ]
  },
  {
   "cell_type": "code",
   "execution_count": 6,
   "id": "39029390",
   "metadata": {},
   "outputs": [
    {
     "name": "stdout",
     "output_type": "stream",
     "text": [
      "20 has occurred 2 times\n"
     ]
    }
   ],
   "source": [
    "list1 = [5, 10, 15, 20, 25, 50, 20]\n",
    "x=20\n",
    "\n",
    "y=list1.count(x)\n",
    "\n",
    "print('{} has occurred {} times'.format(x,y))"
   ]
  },
  {
   "cell_type": "code",
   "execution_count": null,
   "id": "a48dffa7",
   "metadata": {},
   "outputs": [],
   "source": [
    "#8.Create a list of numbers. Write a program to insert a new element at a specific position in the list.\n"
   ]
  },
  {
   "cell_type": "code",
   "execution_count": 10,
   "id": "99e46b46",
   "metadata": {},
   "outputs": [
    {
     "name": "stdout",
     "output_type": "stream",
     "text": [
      "[1, 2, 3, 4, 5, 20, 6, 6, 7, 8]\n"
     ]
    }
   ],
   "source": [
    "list=[1,2,3,4,5,6,6,7,8]\n",
    "list.insert(5, 20)\n",
    "print(list)"
   ]
  },
  {
   "cell_type": "code",
   "execution_count": null,
   "id": "26aa6007",
   "metadata": {},
   "outputs": [],
   "source": []
  },
  {
   "cell_type": "code",
   "execution_count": null,
   "id": "e55449b8",
   "metadata": {},
   "outputs": [],
   "source": []
  },
  {
   "cell_type": "code",
   "execution_count": null,
   "id": "ec3e4e00",
   "metadata": {},
   "outputs": [],
   "source": []
  }
 ],
 "metadata": {
  "kernelspec": {
   "display_name": "Python 3 (ipykernel)",
   "language": "python",
   "name": "python3"
  },
  "language_info": {
   "codemirror_mode": {
    "name": "ipython",
    "version": 3
   },
   "file_extension": ".py",
   "mimetype": "text/x-python",
   "name": "python",
   "nbconvert_exporter": "python",
   "pygments_lexer": "ipython3",
   "version": "3.11.5"
  }
 },
 "nbformat": 4,
 "nbformat_minor": 5
}

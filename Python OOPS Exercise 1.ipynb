{
 "cells": [
  {
   "cell_type": "markdown",
   "id": "4132a6c0",
   "metadata": {},
   "source": [
    "\n",
    "### PART 1\n"
   ]
  },
  {
   "cell_type": "code",
   "execution_count": null,
   "id": "6433bdb4",
   "metadata": {},
   "outputs": [],
   "source": [
    "# 1.Create a class called Rectangle with attributes width and height. The class should prevent the width and height attributes\n",
    "# from being set to negative values. Add methods to calculate the area and perimeter of the rectangle."
   ]
  },
  {
   "cell_type": "code",
   "execution_count": 5,
   "id": "1e1cc01f",
   "metadata": {},
   "outputs": [
    {
     "name": "stdout",
     "output_type": "stream",
     "text": [
      "Area: 20\n",
      "Perimeter: 18\n"
     ]
    }
   ],
   "source": [
    "class Rectangle:\n",
    "    def __init__(self, width, height):\n",
    "        self._width = self._validate_dimension(width)\n",
    "        self._height = self._validate_dimension(height)\n",
    "\n",
    "   \n",
    "    def width(self):\n",
    "        return self._width\n",
    "\n",
    "    \n",
    "    def width(self, value):\n",
    "        self._width = self._validate_dimension(value)\n",
    "\n",
    "    \n",
    "    def height(self):\n",
    "        return self._height\n",
    "\n",
    "    \n",
    "    def height(self, value):\n",
    "        self._height = self._validate_dimension(value)\n",
    "\n",
    "    def _validate_dimension(self, value):\n",
    "        if value < 0:\n",
    "            raise ValueError(\"Dimensions cannot be negative\")\n",
    "        return value\n",
    "\n",
    "    def area(self):\n",
    "        return self._width * self._height\n",
    "\n",
    "    def perimeter(self):\n",
    "        return 2 * (self._width + self._height)\n",
    "\n",
    "\n",
    "\n",
    "try:\n",
    "   \n",
    "    rectangle = Rectangle(5, 4)\n",
    "    print(\"Area:\", rectangle.area())\n",
    "    print(\"Perimeter:\", rectangle.perimeter())\n",
    "\n",
    "   \n",
    "    rectangle.width = -3 \n",
    "except ValueError as e:\n",
    "    print(\"Error:\", e)"
   ]
  },
  {
   "cell_type": "code",
   "execution_count": null,
   "id": "ee4d6ed1",
   "metadata": {},
   "outputs": [],
   "source": [
    "# 2.Create a class called Employee with attributes name, age, position, and salary. Add methods to give the employee a raise,\n",
    "#  and to print out their information in a formatted way."
   ]
  },
  {
   "cell_type": "code",
   "execution_count": 26,
   "id": "f441387e",
   "metadata": {},
   "outputs": [
    {
     "name": "stdout",
     "output_type": "stream",
     "text": [
      "Name: Rinshifa, Age: 21, Position: Software Engineer, Salary: $60000.00\n",
      "After giving a raise:\n",
      "Name: Rinshifa, Age: 21, Position: Software Engineer, Salary: $65000.00\n",
      "\n",
      "Error: Raise amount must be non-negative\n"
     ]
    }
   ],
   "source": [
    "class Employee:\n",
    "    def __init__(self, name, age, position, salary):\n",
    "        self.name = name\n",
    "        self.age = age\n",
    "        self.position = position\n",
    "        self.salary = salary\n",
    "\n",
    "    def give_raise(self, amount):\n",
    "        if amount < 0:\n",
    "            raise ValueError(\"Raise amount must be non-negative\")\n",
    "        self.salary += amount\n",
    "\n",
    "    def __str__(self):\n",
    "        return f\"Name: {self.name}, Age: {self.age}, Position: {self.position}, Salary: ${self.salary:.2f}\"\n",
    "\n",
    "try:\n",
    "    \n",
    "    emp = Employee(\"Rinshifa\", 21, \"Software Engineer\", 60000)\n",
    "    print(emp)\n",
    "    emp.give_raise(5000)\n",
    "    print(\"After giving a raise:\")\n",
    "    print(emp)\n",
    "\n",
    "    print()\n",
    "    emp.give_raise(-2000) \n",
    "except ValueError as e:\n",
    "    print(\"Error:\", e)"
   ]
  },
  {
   "cell_type": "code",
   "execution_count": null,
   "id": "3cbc1b46",
   "metadata": {},
   "outputs": [],
   "source": [
    "# 3.Create a class called Fraction with attributes numerator and denominator. Add methods to add, subtract, multiply, and divide\n",
    "#two fractions. Also, add a method to simplify the fraction to its lowest terms."
   ]
  },
  {
   "cell_type": "code",
   "execution_count": 6,
   "id": "4e3465ed",
   "metadata": {},
   "outputs": [
    {
     "name": "stdout",
     "output_type": "stream",
     "text": [
      "Fraction 1: 3/5\n",
      "Fraction 2: 1/2\n",
      "\n",
      "Addition: 11/10\n",
      "Subtraction: 1/10\n",
      "Multiplication: 3/10\n",
      "Division: 6/5\n"
     ]
    }
   ],
   "source": [
    "class Fraction:\n",
    "    def __init__(self, numerator, denominator):\n",
    "        if denominator == 0:\n",
    "            raise ValueError(\"Denominator cannot be zero\")\n",
    "        self.numerator = numerator\n",
    "        self.denominator = denominator\n",
    "        \n",
    "    def add(self,other):\n",
    "        new_numerator=self.numerator*other.denominator+self.denominator*other.numerator\n",
    "        new_denominator=self.denominator*other.denominator\n",
    "        return Fraction(new_numerator,new_denominator).simplify()\n",
    "    \n",
    "    def subtract(self,other):\n",
    "        new_numerator=self.numerator*other.denominator-self.denominator*other.numerator\n",
    "        new_denominator=self.denominator*other.denominator\n",
    "        return Fraction(new_numerator,new_denominator).simplify()\n",
    "    \n",
    "    def multiply(self,other):\n",
    "        new_numerator=self.numerator*other.numerator\n",
    "        new_denominator=self.denominator*other.denominator\n",
    "        return Fraction(new_numerator,new_denominator).simplify()\n",
    "    \n",
    "    def divide(self,other):\n",
    "        new_numerator=self.numerator*other.denominator\n",
    "        new_denominator=self.denominator*other.numerator\n",
    "        return Fraction(new_numerator,new_denominator).simplify()\n",
    "     \n",
    "    def simplify(self):\n",
    "        gcd_val = self.gcd(self.numerator, self.denominator)\n",
    "        return Fraction(self.numerator // gcd_val, self.denominator // gcd_val)\n",
    "\n",
    "    def gcd(self, a, b):\n",
    "        while b != 0:\n",
    "            a, b = b, a % b\n",
    "        return a\n",
    "\n",
    "    def __str__(self):\n",
    "        return f\"{self.numerator}/{self.denominator}\"\n",
    "\n",
    "\n",
    "\n",
    "frac1 = Fraction(3, 5)\n",
    "frac2 = Fraction(1, 2)\n",
    "\n",
    "print(\"Fraction 1:\", frac1)\n",
    "print(\"Fraction 2:\", frac2)\n",
    "print()\n",
    "print(\"Addition:\", frac1.add(frac2))\n",
    "print(\"Subtraction:\", frac1.subtract(frac2))\n",
    "print(\"Multiplication:\", frac1.multiply(frac2))\n",
    "print(\"Division:\", frac1.divide(frac2))\n",
    "    "
   ]
  },
  {
   "cell_type": "code",
   "execution_count": null,
   "id": "c85edeb9",
   "metadata": {},
   "outputs": [],
   "source": [
    "# 4.Create a class called Person with attributes name and age. Add a method to calculate the age difference between two people."
   ]
  },
  {
   "cell_type": "code",
   "execution_count": 13,
   "id": "8720ad01",
   "metadata": {},
   "outputs": [
    {
     "name": "stdout",
     "output_type": "stream",
     "text": [
      "Age difference between jumana and shahma is 2 years.\n"
     ]
    }
   ],
   "source": [
    "class Person:\n",
    "    def __init__(self,name,age):\n",
    "        self.name=name\n",
    "        self.age=age\n",
    "    def calculate_age_difference(self,other_person):\n",
    "        age_difference= self.age-other_person.age\n",
    "        return age_difference\n",
    "person1=Person('jumana',17)\n",
    "person2=Person('shahma',15)\n",
    "\n",
    "print(f\"Age difference between {person1.name} and {person2.name} is {person1.calculate_age_difference(person2)} years.\")\n",
    "\n",
    "        \n",
    "    "
   ]
  },
  {
   "cell_type": "code",
   "execution_count": null,
   "id": "1d9a5aac",
   "metadata": {},
   "outputs": [],
   "source": [
    "# 5.Create a class called Playlist with a list of songs as an attribute. Add methods to add and remove songs from the playlist,\n",
    "# and to shuffle the playlist."
   ]
  },
  {
   "cell_type": "code",
   "execution_count": 21,
   "id": "d3ea07b0",
   "metadata": {},
   "outputs": [
    {
     "name": "stdout",
     "output_type": "stream",
     "text": [
      "Added 'Song 1' to the playlist.\n",
      "Added 'Song 2' to the playlist.\n",
      "Added 'Song 3' to the playlist.\n",
      "Current Playlist:\n",
      "1. Song 1\n",
      "2. Song 2\n",
      "3. Song 3\n",
      "Removed 'Song 2' from the playlist.\n",
      "Current Playlist:\n",
      "1. Song 3\n",
      "2. Song 1\n"
     ]
    }
   ],
   "source": [
    "\n",
    "class Playlist:\n",
    "    def __init__(self):\n",
    "        self.songs=[]\n",
    "        \n",
    "    def add_song(self,song):\n",
    "        self.songs.append(song)\n",
    "        print(f\"Added '{song}' to the playlist.\")\n",
    "\n",
    "    def remove_song(self, song):\n",
    "        if song in self.songs:\n",
    "            self.songs.remove(song)\n",
    "            print(f\"Removed '{song}' from the playlist.\")\n",
    "        else:\n",
    "            print(f\"'{song}' is not in the playlist.\")\n",
    "\n",
    "    def shuffle_playlist(self):\n",
    "        if len(self.songs) >1:\n",
    "            from random import shuffle\n",
    "            shuffle(self.songs)\n",
    "\n",
    "    def display_playlist(self):\n",
    "        print(\"Current Playlist:\")\n",
    "        for i, song in enumerate(self.songs, start=1):\n",
    "            print(f\"{i}. {song}\")\n",
    "\n",
    "# Example usage:\n",
    "playlist = Playlist()\n",
    "playlist.add_song(\"Song 1\")\n",
    "playlist.add_song(\"Song 2\")\n",
    "playlist.add_song(\"Song 3\")\n",
    "\n",
    "playlist.display_playlist()\n",
    "\n",
    "playlist.remove_song(\"Song 2\")\n",
    "\n",
    "playlist.shuffle_playlist()\n",
    "\n",
    "playlist.display_playlist()\n",
    "\n",
    "            "
   ]
  },
  {
   "cell_type": "code",
   "execution_count": 22,
   "id": "4ec71d0d",
   "metadata": {},
   "outputs": [],
   "source": [
    "#6.Create a class called BankAccount with attributes balance and account_number. Add methods to transfer money between accounts\n",
    "# and to print out the transaction history of the account."
   ]
  },
  {
   "cell_type": "code",
   "execution_count": 23,
   "id": "877d2a18",
   "metadata": {},
   "outputs": [
    {
     "name": "stdout",
     "output_type": "stream",
     "text": [
      "Transaction History for Account 123456:\n",
      "Date: 2024-02-23 12:32:10.485500, Type: Deposit, Amount: 500\n",
      "Date: 2024-02-23 12:32:10.485500, Type: Withdrawal, Amount: 200\n",
      "Date: 2024-02-23 12:32:10.485500, Type: Transfer to 654321, Amount: 300\n",
      "Transaction History for Account 654321:\n",
      "Date: 2024-02-23 12:32:10.485500, Type: Transfer from 123456, Amount: 300\n"
     ]
    }
   ],
   "source": [
    "import datetime\n",
    "\n",
    "class BankAccount:\n",
    "    def __init__(self, account_number, initial_balance=0):\n",
    "        self.account_number = account_number\n",
    "        self.balance = initial_balance\n",
    "        self.transaction_history = []\n",
    "\n",
    "    def deposit(self, amount):\n",
    "        self.balance += amount\n",
    "        self.transaction_history.append((datetime.datetime.now(), 'Deposit', amount))\n",
    "\n",
    "    def withdraw(self, amount):\n",
    "        if self.balance >= amount:\n",
    "            self.balance -= amount\n",
    "            self.transaction_history.append((datetime.datetime.now(), 'Withdrawal', amount))\n",
    "        else:\n",
    "            print(\"Insufficient funds.\")\n",
    "\n",
    "    def transfer(self, amount, recipient_account):\n",
    "        if self.balance >= amount:\n",
    "            self.balance -= amount\n",
    "            recipient_account.balance += amount\n",
    "            self.transaction_history.append((datetime.datetime.now(), f'Transfer to {recipient_account.account_number}', amount))\n",
    "            recipient_account.transaction_history.append((datetime.datetime.now(), f'Transfer from {self.account_number}', amount))\n",
    "        else:\n",
    "            print(\"Insufficient funds for transfer.\")\n",
    "\n",
    "    def print_transaction_history(self):\n",
    "        print(f\"Transaction History for Account {self.account_number}:\")\n",
    "        for transaction in self.transaction_history:\n",
    "            print(f\"Date: {transaction[0]}, Type: {transaction[1]}, Amount: {transaction[2]}\")\n",
    "\n",
    "\n",
    "account1 = BankAccount(\"123456\", 1000)\n",
    "account2 = BankAccount(\"654321\", 500)\n",
    "\n",
    "account1.deposit(500)\n",
    "account1.withdraw(200)\n",
    "account1.transfer(300, account2)\n",
    "\n",
    "account1.print_transaction_history()\n",
    "account2.print_transaction_history()\n"
   ]
  },
  {
   "cell_type": "code",
   "execution_count": null,
   "id": "43c47a0c",
   "metadata": {},
   "outputs": [],
   "source": [
    "#7.Create a class called Deck with a list of cards as an attribute. Add methods to shuffle the deck, draw a card from the \n",
    "# deck, and add a card to the deck."
   ]
  },
  {
   "cell_type": "code",
   "execution_count": 25,
   "id": "0cabb776",
   "metadata": {},
   "outputs": [
    {
     "name": "stdout",
     "output_type": "stream",
     "text": [
      "Added 'Ace of Hearts' to the deck.\n",
      "Added 'King of Diamonds' to the deck.\n",
      "Added 'Queen of Spades' to the deck.\n",
      "Added 'Jack of Clubs' to the deck.\n",
      "Current Deck:\n",
      "1. Ace of Hearts\n",
      "2. King of Diamonds\n",
      "3. Queen of Spades\n",
      "4. Jack of Clubs\n",
      "Deck shuffled.\n",
      "Drawing a card from the deck: Ace of Hearts\n",
      "Current Deck:\n",
      "1. Queen of Spades\n",
      "2. Jack of Clubs\n",
      "3. King of Diamonds\n"
     ]
    }
   ],
   "source": [
    "class Deck:\n",
    "    def __init__(self):\n",
    "         self.cards = []\n",
    "\n",
    "    def shuffle_deck(self):\n",
    "        from random import shuffle\n",
    "        shuffle(self.cards)\n",
    "        print(\"Deck shuffled.\")\n",
    "    \n",
    "    def draw_card(self):\n",
    "        if self.cards:\n",
    "            return self.cards.pop(0)\n",
    "        else:\n",
    "            print(\"Deck is empty.\")\n",
    "            return None\n",
    "\n",
    "    def add_card(self, card):\n",
    "        self.cards.append(card)\n",
    "        print(f\"Added '{card}' to the deck.\")\n",
    "\n",
    "    def display_deck(self):\n",
    "        print(\"Current Deck:\")\n",
    "        for i, card in enumerate(self.cards, start=1):\n",
    "            print(f\"{i}. {card}\")\n",
    "\n",
    "# Example usage:\n",
    "class Card:\n",
    "    def __init__(self, suit, value):\n",
    "        self.suit = suit\n",
    "        self.value = value\n",
    "\n",
    "    def __str__(self):\n",
    "        return f\"{self.value} of {self.suit}\"\n",
    "\n",
    "deck = Deck()\n",
    "deck.add_card(Card(\"Hearts\", \"Ace\"))\n",
    "deck.add_card(Card(\"Diamonds\", \"King\"))\n",
    "deck.add_card(Card(\"Spades\", \"Queen\"))\n",
    "deck.add_card(Card(\"Clubs\", \"Jack\"))\n",
    "\n",
    "deck.display_deck()\n",
    "\n",
    "deck.shuffle_deck()\n",
    "\n",
    "print(\"Drawing a card from the deck:\", deck.draw_card())\n",
    "\n",
    "deck.display_deck()\n",
    "        "
   ]
  },
  {
   "cell_type": "markdown",
   "id": "827ce41f",
   "metadata": {},
   "source": [
    "### PART 2"
   ]
  },
  {
   "cell_type": "code",
   "execution_count": null,
   "id": "e56d20c1",
   "metadata": {},
   "outputs": [],
   "source": [
    "# 1.Create a class called Animal with the properties name, species, and sound. Create a method called make_sound that prints\n",
    "# the sound of the animal.\n"
   ]
  },
  {
   "cell_type": "code",
   "execution_count": 31,
   "id": "1d0fb408",
   "metadata": {},
   "outputs": [
    {
     "name": "stdout",
     "output_type": "stream",
     "text": [
      "tiger of the panthera tigris makes the sound:Grrrr\n"
     ]
    }
   ],
   "source": [
    "class Animal:\n",
    "    def __init__(self,name,species,sound):\n",
    "        self.name=name\n",
    "        self.species=species\n",
    "        self.sound=sound\n",
    "    \n",
    "    def make_sound(self):\n",
    "        print(f\"{self.name} of the {self.species} makes the sound:{self.sound}\")\n",
    "    \n",
    "animal=Animal('tiger','panthera tigris','Grrrr')\n",
    "animal.make_sound()\n",
    "        "
   ]
  },
  {
   "cell_type": "code",
   "execution_count": null,
   "id": "3b84d074",
   "metadata": {},
   "outputs": [],
   "source": [
    "# 2.Create a subclass of Animal called Dog. The Dog class should have an additional property called breed. Override the \n",
    "# make_sound method to print \"Woof!\".\n"
   ]
  },
  {
   "cell_type": "code",
   "execution_count": 11,
   "id": "8adc9ec5",
   "metadata": {},
   "outputs": [
    {
     "name": "stdout",
     "output_type": "stream",
     "text": [
      "species: Dog\n",
      "breed: bulldog\n",
      "woof!\n"
     ]
    }
   ],
   "source": [
    "class Animal:\n",
    "    def __init__(self,species):\n",
    "        self.species=species\n",
    "        \n",
    "    def make_sound(self):\n",
    "        pass\n",
    "    \n",
    "class Dog(Animal):\n",
    "    def __init__(self,species,breed):\n",
    "        super().__init__(species)\n",
    "        self.breed=breed\n",
    "    \n",
    "    def make_sound(self):\n",
    "        print('woof!')\n",
    "        \n",
    "dog=Dog('Dog','bulldog')\n",
    "print(\"species:\",dog.species)\n",
    "print(\"breed:\",dog.breed)\n",
    "dog.make_sound()\n"
   ]
  },
  {
   "cell_type": "code",
   "execution_count": null,
   "id": "2bee7a34",
   "metadata": {},
   "outputs": [],
   "source": [
    "# 3.Create another subclass of Animal called Cat. The Cat class should have an additional property called color.\n",
    "# Override the make_sound method to print \"Meow!\".\n"
   ]
  },
  {
   "cell_type": "code",
   "execution_count": 13,
   "id": "c8b7d719",
   "metadata": {},
   "outputs": [
    {
     "name": "stdout",
     "output_type": "stream",
     "text": [
      "species: cat\n",
      "color: black\n",
      "Meow!\n"
     ]
    }
   ],
   "source": [
    "class Animal:\n",
    "    def __init__(self,species):\n",
    "        self.species=species\n",
    "        \n",
    "    def make_sound(self):\n",
    "        pass\n",
    "    \n",
    "class Cat(Animal):\n",
    "    def __init__(self,species,color):\n",
    "        super().__init__(species)\n",
    "        self.color=color\n",
    "    \n",
    "    def make_sound(self):\n",
    "        print('Meow!')\n",
    "        \n",
    "cat=Cat('cat','black')\n",
    "print(\"species:\",cat.species)\n",
    "print(\"color:\",cat.color)\n",
    "cat.make_sound()\n"
   ]
  },
  {
   "cell_type": "code",
   "execution_count": null,
   "id": "2490e13b",
   "metadata": {},
   "outputs": [],
   "source": [
    "# 4.Create a class called Zoo with a property animals that is a list of Animal objects. Create a method called add_animal\n",
    "# that adds an animal to the list. Create a method called list_animals that prints the name and species of each animal in the \n",
    "# list.\n"
   ]
  },
  {
   "cell_type": "code",
   "execution_count": 19,
   "id": "8735bb62",
   "metadata": {},
   "outputs": [
    {
     "name": "stdout",
     "output_type": "stream",
     "text": [
      "Animals in the zoo:\n",
      "Name: kuttapi, Species: Dog\n",
      "Name: mani, Species: Cat\n",
      "Name: Simba, Species: Lion\n"
     ]
    }
   ],
   "source": [
    "class Animal:\n",
    "    def __init__(self, name, species):\n",
    "        self.name = name\n",
    "        self.species = species\n",
    "    \n",
    "    def make_sound(self):\n",
    "        pass\n",
    "\n",
    "class Zoo:\n",
    "    def __init__(self):\n",
    "        self.animals = []\n",
    "    \n",
    "    def add_animal(self, animal):\n",
    "        if isinstance(animal, Animal):\n",
    "            self.animals.append(animal)\n",
    "        else:\n",
    "            print(\"Error: Only instances of Animal class can be added to the zoo.\")\n",
    "\n",
    "    def list_animals(self):\n",
    "        print(\"Animals in the zoo:\")\n",
    "        for animal in self.animals:\n",
    "            print(f\"Name: {animal.name}, Species: {animal.species}\")\n",
    "\n",
    "\n",
    "zoo = Zoo()\n",
    "\n",
    "\n",
    "dog = Animal(\"kuttapi\", \"Dog\")\n",
    "cat = Animal(\"mani\", \"Cat\")\n",
    "lion = Animal(\"Simba\", \"Lion\")\n",
    "\n",
    "zoo.add_animal(dog)\n",
    "zoo.add_animal(cat)\n",
    "zoo.add_animal(lion)\n",
    "\n",
    "\n",
    "zoo.list_animals()\n"
   ]
  },
  {
   "cell_type": "code",
   "execution_count": null,
   "id": "b1e7c56a",
   "metadata": {},
   "outputs": [],
   "source": [
    "# 5.Create an instance of Zoo. Add an instance of Dog and an instance of Cat to the Zoo. Call the list_animals method to\n",
    "# print the information of all the animals in the zoo.\n"
   ]
  },
  {
   "cell_type": "code",
   "execution_count": 20,
   "id": "0059a464",
   "metadata": {},
   "outputs": [
    {
     "name": "stdout",
     "output_type": "stream",
     "text": [
      "Animals in the zoo:\n",
      "Name: Buddy, Species: Dog\n",
      "Name: Whiskers, Species: Cat\n"
     ]
    }
   ],
   "source": [
    "class Animal:\n",
    "    def __init__(self, name, species):\n",
    "        self.name = name\n",
    "        self.species = species\n",
    "    \n",
    "    def make_sound(self):\n",
    "        pass\n",
    "\n",
    "class Dog(Animal):\n",
    "    def __init__(self, name, breed):\n",
    "        super().__init__(name, \"Dog\")\n",
    "        self.breed = breed\n",
    "    \n",
    "    def make_sound(self):\n",
    "        print(\"Woof!\")\n",
    "\n",
    "class Cat(Animal):\n",
    "    def __init__(self, name, breed):\n",
    "        super().__init__(name, \"Cat\")\n",
    "        self.breed = breed\n",
    "    \n",
    "    def make_sound(self):\n",
    "        print(\"Meow!\")\n",
    "\n",
    "class Zoo:\n",
    "    def __init__(self):\n",
    "        self.animals = []\n",
    "    \n",
    "    def add_animal(self, animal):\n",
    "        if isinstance(animal, Animal):\n",
    "            self.animals.append(animal)\n",
    "        else:\n",
    "            print(\"Error: Only instances of Animal class can be added to the zoo.\")\n",
    "\n",
    "    def list_animals(self):\n",
    "        print(\"Animals in the zoo:\")\n",
    "        for animal in self.animals:\n",
    "            print(f\"Name: {animal.name}, Species: {animal.species}\")\n",
    "\n",
    "            \n",
    "zoo = Zoo()\n",
    "\n",
    "\n",
    "dog = Dog(\"Buddy\", \"Labrador\")\n",
    "cat = Cat(\"Whiskers\", \"Siamese\")\n",
    "\n",
    "zoo.add_animal(dog)\n",
    "zoo.add_animal(cat)\n",
    "\n",
    "\n",
    "zoo.list_animals()"
   ]
  },
  {
   "cell_type": "code",
   "execution_count": null,
   "id": "ea52082c",
   "metadata": {},
   "outputs": [],
   "source": [
    "# 6.Create a subclass of Dog called GuideDog. The GuideDog class should have an additional property called trained_for.\n",
    "# Override the make_sound method to print \"Bark!\".\n"
   ]
  },
  {
   "cell_type": "code",
   "execution_count": 21,
   "id": "b75a8172",
   "metadata": {},
   "outputs": [
    {
     "name": "stdout",
     "output_type": "stream",
     "text": [
      "Species: Dog\n",
      "Breed: Golden Retriever\n",
      "Trained for: guide work\n",
      "Bark!\n"
     ]
    }
   ],
   "source": [
    "class Animal:\n",
    "    def __init__(self, species):\n",
    "        self.species = species\n",
    "    \n",
    "    def make_sound(self):\n",
    "        pass\n",
    "\n",
    "class Dog(Animal):\n",
    "    def __init__(self, species, breed):\n",
    "        super().__init__(species)\n",
    "        self.breed = breed\n",
    "    \n",
    "    def make_sound(self):\n",
    "        print(\"Woof!\")\n",
    "\n",
    "class GuideDog(Dog):\n",
    "    def __init__(self, species, breed, trained_for):\n",
    "        super().__init__(species, breed)\n",
    "        self.trained_for = trained_for\n",
    "    \n",
    "    def make_sound(self):\n",
    "        print(\"Bark!\")\n",
    "\n",
    "\n",
    "guide_dog = GuideDog(\"Dog\", \"Golden Retriever\", \"guide work\")\n",
    "print(\"Species:\", guide_dog.species)\n",
    "print(\"Breed:\", guide_dog.breed)\n",
    "print(\"Trained for:\", guide_dog.trained_for)\n",
    "guide_dog.make_sound()"
   ]
  },
  {
   "cell_type": "code",
   "execution_count": null,
   "id": "de56f032",
   "metadata": {},
   "outputs": [],
   "source": [
    "# 7.Create a class called Shape with the properties color and filled. Create a method called get_area that returns the area\n",
    "# of the shape (this method should be overridden in subclasses).\n"
   ]
  },
  {
   "cell_type": "code",
   "execution_count": 22,
   "id": "26df732f",
   "metadata": {},
   "outputs": [
    {
     "name": "stdout",
     "output_type": "stream",
     "text": [
      "Color: red\n",
      "Filled: True\n"
     ]
    }
   ],
   "source": [
    "class Shape:\n",
    "    def __init__(self, color, filled):\n",
    "        self.color = color\n",
    "        self.filled = filled\n",
    "    \n",
    "    def get_area(self):\n",
    "        pass\n",
    "\n",
    "\n",
    "shape = Shape(\"red\", True)\n",
    "print(\"Color:\", shape.color)\n",
    "print(\"Filled:\", shape.filled)"
   ]
  },
  {
   "cell_type": "code",
   "execution_count": null,
   "id": "8df9a0d8",
   "metadata": {},
   "outputs": [],
   "source": [
    "# 8.Create a subclass of Shape called Rectangle. The Rectangle class should have additional properties called width and height.\n",
    "# Override the get_area method to return the area of the rectangle.\n"
   ]
  },
  {
   "cell_type": "code",
   "execution_count": null,
   "id": "d370610e",
   "metadata": {},
   "outputs": [],
   "source": [
    "class Shape:\n",
    "    def __init__(self, color, filled):\n",
    "        self.color = color\n",
    "        self.filled = filled\n",
    "    \n",
    "    def get_area(self):\n",
    "        pass\n",
    "\n",
    "class Rectangle(Shape):\n",
    "    def __init__(self, color, filled, width, height):\n",
    "        super().__init__(color, filled)\n",
    "        self.width = width\n",
    "        self.height = height\n",
    "    \n",
    "    def get_area(self):\n",
    "        return self.width * self.height\n",
    "\n",
    "rectangle = Rectangle(\"blue\", True, 5, 10)\n",
    "print(\"Color:\", rectangle.color)\n",
    "print(\"Filled:\", rectangle.filled)\n",
    "print(\"Width:\", rectangle.width)\n",
    "print(\"Height:\", rectangle.height)\n",
    "print(\"Area:\", rectangle.get_area())"
   ]
  },
  {
   "cell_type": "code",
   "execution_count": null,
   "id": "e535df7a",
   "metadata": {},
   "outputs": [],
   "source": [
    "# 9.Create another subclass of Shape called Circle. The Circle class should have an additional property called radius.\n",
    "# Override the get_area method to return the area of the circle.\n"
   ]
  },
  {
   "cell_type": "code",
   "execution_count": 24,
   "id": "2cbb33bb",
   "metadata": {},
   "outputs": [
    {
     "name": "stdout",
     "output_type": "stream",
     "text": [
      "Color: green\n",
      "Filled: False\n",
      "Radius: 3\n",
      "Area: 28.274333882308138\n"
     ]
    }
   ],
   "source": [
    "import math\n",
    "class Shape:\n",
    "    def __init__(self, color, filled):\n",
    "        self.color = color\n",
    "        self.filled = filled\n",
    "    \n",
    "    def get_area(self):\n",
    "        pass\n",
    "\n",
    "class Rectangle(Shape):\n",
    "    def __init__(self, color, filled, width, height):\n",
    "        super().__init__(color, filled)\n",
    "        self.width = width\n",
    "        self.height = height\n",
    "    \n",
    "    def get_area(self):\n",
    "        return self.width * self.height\n",
    "\n",
    "class Circle(Shape):\n",
    "    def __init__(self, color, filled, radius):\n",
    "        super().__init__(color, filled)\n",
    "        self.radius = radius\n",
    "    \n",
    "    def get_area(self):\n",
    "        return math.pi * self.radius ** 2\n",
    "\n",
    "circle = Circle(\"green\", False, 3)\n",
    "print(\"Color:\", circle.color)\n",
    "print(\"Filled:\", circle.filled)\n",
    "print(\"Radius:\", circle.radius)\n",
    "print(\"Area:\", circle.get_area())"
   ]
  },
  {
   "cell_type": "code",
   "execution_count": null,
   "id": "887acf36",
   "metadata": {},
   "outputs": [],
   "source": [
    "# 10.Create a class called ShapeList with a property shapes that is a list of Shape objects. Create a method called \n",
    "# add_shape that adds a shape to the list. Create a method called total_area that returns the total area of all the \n",
    "# shapes in the list.\n"
   ]
  },
  {
   "cell_type": "code",
   "execution_count": null,
   "id": "2358388b",
   "metadata": {},
   "outputs": [],
   "source": [
    "class ShapeList:\n",
    "    def __init__(self):\n",
    "        self.shapes = []\n",
    "    \n",
    "    def add_shape(self, shape):\n",
    "        self.shapes.append(shape)\n",
    "    \n",
    "    def total_area(self):\n",
    "        total_area = 0\n",
    "        for shape in self.shapes:\n",
    "            total_area += shape.get_area()\n",
    "        return total_area\n",
    "\n",
    "shape_list = ShapeList()\n",
    "\n",
    "rectangle = Rectangle(\"blue\", True, 5, 10)\n",
    "circle = Circle(\"green\", False, 3)\n",
    "\n",
    "shape_list.add_shape(rectangle)\n",
    "shape_list.add_shape(circle)\n",
    "\n",
    "total_area = shape_list.total_area()\n",
    "print(\"Total area of all shapes:\", total_area)"
   ]
  },
  {
   "cell_type": "code",
   "execution_count": null,
   "id": "180b52fd",
   "metadata": {},
   "outputs": [],
   "source": [
    "# 11.Create an instance of ShapeList. Add an instance of Rectangle and an instance of Circle to the ShapeList. \n",
    "# Call the total_area method to print the total area of all the shapes in the list.\n"
   ]
  },
  {
   "cell_type": "code",
   "execution_count": 1,
   "id": "32f3ad32",
   "metadata": {},
   "outputs": [
    {
     "name": "stdout",
     "output_type": "stream",
     "text": [
      "Total area of all shapes: 48.27433388230814\n"
     ]
    }
   ],
   "source": [
    "class Shape:\n",
    "    def area(self):\n",
    "        pass\n",
    "\n",
    "class Rectangle(Shape):\n",
    "    def __init__(self, width, height):\n",
    "        self.width = width\n",
    "        self.height = height\n",
    "    \n",
    "    def area(self):\n",
    "        return self.width * self.height\n",
    "\n",
    "class Circle(Shape):\n",
    "    def __init__(self, radius):\n",
    "        self.radius = radius\n",
    "    \n",
    "    def area(self):\n",
    "        import math\n",
    "        return math.pi * (self.radius ** 2)\n",
    "\n",
    "class ShapeList:\n",
    "    def __init__(self):\n",
    "        self.shapes = []\n",
    "    \n",
    "    def add_shape(self, shape):\n",
    "        self.shapes.append(shape)\n",
    "    \n",
    "    def total_area(self):\n",
    "        total = 0\n",
    "        for shape in self.shapes:\n",
    "            total += shape.area()\n",
    "        return total\n",
    "\n",
    "shape_list = ShapeList()\n",
    "\n",
    "rectangle = Rectangle(4, 5)\n",
    "shape_list.add_shape(rectangle)\n",
    "\n",
    "circle = Circle(3)\n",
    "shape_list.add_shape(circle)\n",
    "\n",
    "print(\"Total area of all shapes:\", shape_list.total_area())\n"
   ]
  },
  {
   "cell_type": "code",
   "execution_count": null,
   "id": "e756816a",
   "metadata": {},
   "outputs": [],
   "source": [
    "# 12.Create a subclass of Rectangle called Square. The Square class should override the get_area method to return the\n",
    "# area of the square (which is just width * width)"
   ]
  },
  {
   "cell_type": "code",
   "execution_count": 2,
   "id": "bcd14078",
   "metadata": {},
   "outputs": [
    {
     "name": "stdout",
     "output_type": "stream",
     "text": [
      "Area of rectangle: 20\n",
      "Area of square: 16\n"
     ]
    }
   ],
   "source": [
    "class Rectangle:\n",
    "    def __init__(self, width, height):\n",
    "        self.width = width\n",
    "        self.height = height\n",
    "    \n",
    "    def get_area(self):\n",
    "        return self.width * self.height\n",
    "\n",
    "class Square(Rectangle):\n",
    "    def __init__(self, width):\n",
    "        super().__init__(width, width) \n",
    "    \n",
    "    def get_area(self):\n",
    "        return self.width * self.width \n",
    "\n",
    "rectangle = Rectangle(4, 5)\n",
    "print(\"Area of rectangle:\", rectangle.get_area())\n",
    "\n",
    "square = Square(4)\n",
    "print(\"Area of square:\", square.get_area())"
   ]
  }
 ],
 "metadata": {
  "kernelspec": {
   "display_name": "Python 3 (ipykernel)",
   "language": "python",
   "name": "python3"
  },
  "language_info": {
   "codemirror_mode": {
    "name": "ipython",
    "version": 3
   },
   "file_extension": ".py",
   "mimetype": "text/x-python",
   "name": "python",
   "nbconvert_exporter": "python",
   "pygments_lexer": "ipython3",
   "version": "3.11.5"
  }
 },
 "nbformat": 4,
 "nbformat_minor": 5
}

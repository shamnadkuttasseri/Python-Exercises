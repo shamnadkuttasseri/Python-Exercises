{
 "cells": [
  {
   "cell_type": "markdown",
   "id": "d08db8f7",
   "metadata": {},
   "source": [
    "### PART 1\n",
    "\n"
   ]
  },
  {
   "cell_type": "code",
   "execution_count": null,
   "id": "39033abd",
   "metadata": {},
   "outputs": [],
   "source": [
    "#1.Write a regular expression that matches any email address (e.g. \"example@gmail.com\").\n"
   ]
  },
  {
   "cell_type": "code",
   "execution_count": 2,
   "id": "0e3cfba3",
   "metadata": {},
   "outputs": [
    {
     "name": "stdout",
     "output_type": "stream",
     "text": [
      "enter your email:shamnadkuttasseri@gmail.com\n",
      "match\n"
     ]
    }
   ],
   "source": [
    "import re\n",
    "x=input('enter your email:')\n",
    "pattern='[\\w\\.-]+@[\\w\\.-]+.[\\w\\.-]'\n",
    "if re.match(pattern,x):\n",
    "    print('match')\n",
    "else:\n",
    "    print('no match')\n",
    "\n"
   ]
  },
  {
   "cell_type": "code",
   "execution_count": null,
   "id": "f70df48b",
   "metadata": {},
   "outputs": [],
   "source": [
    "#2.Write a regular expression that matches any date in the format \"YYYY-MM-DD\" (e.g. \"2023-04-13\").\n",
    "\n"
   ]
  },
  {
   "cell_type": "code",
   "execution_count": 3,
   "id": "41775549",
   "metadata": {},
   "outputs": [
    {
     "name": "stdout",
     "output_type": "stream",
     "text": [
      "enter a date:1995-04-04\n",
      "match\n"
     ]
    }
   ],
   "source": [
    "x= input('enter a date:')\n",
    "pattern='\\d{4}-\\d{2}-\\d{2}'\n",
    "if re.match(pattern,x):\n",
    "    print('match')\n",
    "else:\n",
    "    print('no match')"
   ]
  },
  {
   "cell_type": "code",
   "execution_count": null,
   "id": "eb5bb620",
   "metadata": {},
   "outputs": [],
   "source": [
    "#3.Write a regular expression that matches any sequence of digits that contains at least one odd digit (e.g. \"12345\").\n"
   ]
  },
  {
   "cell_type": "code",
   "execution_count": 5,
   "id": "d7466fa1",
   "metadata": {},
   "outputs": [
    {
     "name": "stdout",
     "output_type": "stream",
     "text": [
      "match\n"
     ]
    }
   ],
   "source": [
    "def sequence_of_digits(digits):\n",
    "    pattern=r'\\d*[13579]\\d*'\n",
    "    if re.match(pattern,digits):\n",
    "        print('match')\n",
    "    else:\n",
    "        print('notmatch')\n",
    "    \n",
    "digits='12345'\n",
    "sequence_of_digits(digits)\n",
    "    "
   ]
  },
  {
   "cell_type": "code",
   "execution_count": null,
   "id": "8d609172",
   "metadata": {},
   "outputs": [],
   "source": [
    "#4.Write a regular expression that matches any string that contains only letters and spaces (e.g. \"Hello world\").\n"
   ]
  },
  {
   "cell_type": "code",
   "execution_count": 10,
   "id": "88a31b1d",
   "metadata": {},
   "outputs": [
    {
     "name": "stdout",
     "output_type": "stream",
     "text": [
      "enter a sentence:Hello world\n",
      "match\n"
     ]
    }
   ],
   "source": [
    "x=input('enter a sentence:')\n",
    "pattern=r'^[a-zA-Z\\s]+$'\n",
    "if re.match(pattern,x):\n",
    "        print('match')\n",
    "else:\n",
    "        print('notmatch')\n",
    "    \n"
   ]
  },
  {
   "cell_type": "code",
   "execution_count": null,
   "id": "9377d568",
   "metadata": {},
   "outputs": [],
   "source": [
    "#5.Write a regular expression that matches any string that starts with a vowel and ends with a consonant\n",
    "(e.g. \"apple\", \"banana\", \"cherry\").\n"
   ]
  },
  {
   "cell_type": "code",
   "execution_count": 11,
   "id": "52939164",
   "metadata": {},
   "outputs": [
    {
     "name": "stdout",
     "output_type": "stream",
     "text": [
      "match\n"
     ]
    }
   ],
   "source": [
    "x='apple'\n",
    "pattern=r'^[aeiouAEIOU]\\w+[bcdefghjklmnpqrstvwxyzBCDEFGHJKLMNPQRSTVWXYZ]$'\n",
    "if re.match(pattern,x):\n",
    "    print('match')\n",
    "else:\n",
    "    print('notmatch')"
   ]
  },
  {
   "cell_type": "code",
   "execution_count": null,
   "id": "1382299f",
   "metadata": {},
   "outputs": [],
   "source": [
    "#6.Write a regular expression that matches any string that contains the word \"python\" (case-insensitive) surrounded by \n",
    "exactly two word characters on each side (e.g. \"This is a python string\").\n"
   ]
  },
  {
   "cell_type": "code",
   "execution_count": 12,
   "id": "ef365729",
   "metadata": {},
   "outputs": [
    {
     "name": "stdout",
     "output_type": "stream",
     "text": [
      "Not a match!\n"
     ]
    }
   ],
   "source": [
    "import re\n",
    "x='this is python a string'\n",
    "pattern=r'\\w{2}python\\w{2}'\n",
    "if re.search(pattern,x,re.IGNORECASE):\n",
    "    print(\"Match!\")\n",
    "else: \n",
    "    print(\"Not a match!\")\n",
    " "
   ]
  },
  {
   "cell_type": "code",
   "execution_count": null,
   "id": "8026044d",
   "metadata": {},
   "outputs": [],
   "source": [
    "#7.Write a regular expression that matches any string that contains a sequence of three or more consecutive lowercase \n",
    "letters (e.g. \"hello\", \"goodbye\").\n"
   ]
  },
  {
   "cell_type": "code",
   "execution_count": 18,
   "id": "47b5ff09",
   "metadata": {},
   "outputs": [
    {
     "name": "stdout",
     "output_type": "stream",
     "text": [
      "match\n"
     ]
    }
   ],
   "source": [
    "x='goodbye'\n",
    "pattern = r'\\b[a-z]{3,}\\b'\n",
    "if re.match(pattern,x):\n",
    "    print('match')\n",
    "else:\n",
    "    print('notmatch')"
   ]
  },
  {
   "cell_type": "code",
   "execution_count": null,
   "id": "97e1ba3e",
   "metadata": {},
   "outputs": [],
   "source": [
    "#8.Write a regular expression that matches any string that contains a valid IPv4 address (e.g. \"192.168.0.1\")."
   ]
  },
  {
   "cell_type": "code",
   "execution_count": 23,
   "id": "e7f4b1d3",
   "metadata": {},
   "outputs": [
    {
     "name": "stdout",
     "output_type": "stream",
     "text": [
      "match\n"
     ]
    }
   ],
   "source": [
    "x='192.234.0.1'\n",
    "pattern = r\"^(?:(?:25[0-5]|2[0-4]\\d|[01]?\\d\\d?)\\.){3}(?:25[0-5]|2[0-4]\\d|[01]?\\d\\d?)$\"\n",
    "if re.match(pattern,x):\n",
    "    print('match')\n",
    "else:\n",
    "    print('notmatch')"
   ]
  },
  {
   "cell_type": "markdown",
   "id": "fd5e904b",
   "metadata": {},
   "source": [
    "### Part 2\n"
   ]
  },
  {
   "cell_type": "code",
   "execution_count": null,
   "id": "480fe217",
   "metadata": {},
   "outputs": [],
   "source": [
    "# 1.Write a regular expression to match a valid IPv4 address in dotted decimal notation (e.g. \"192.168.1.1\"). \n",
    "# Use re.match() to test your regular expression on the string \"192.168.1.1\". Print the matched string and its starting position."
   ]
  },
  {
   "cell_type": "code",
   "execution_count": 3,
   "id": "43f77f6a",
   "metadata": {},
   "outputs": [
    {
     "name": "stdout",
     "output_type": "stream",
     "text": [
      "Matched string: 192.168.1.1\n",
      "Starting position: 0\n"
     ]
    }
   ],
   "source": [
    "import re\n",
    "def match_ipv4_addressI(string):\n",
    "    pattern=r'^[1-9][1-9]\\d.([01]?\\d{1,2})\\.(([01]?\\d{1,2}))\\.(([01]?\\d{1,2}))$'\n",
    "    match=re.match(pattern,string)\n",
    "    if match:\n",
    "        print(\"Matched string:\", match.group())\n",
    "        print(\"Starting position:\", match.start())\n",
    "    else:\n",
    "        print(\"No match\")\n",
    "match_ipv4_addressI(\"192.168.1.1\")"
   ]
  },
  {
   "cell_type": "code",
   "execution_count": null,
   "id": "0e2f5078",
   "metadata": {},
   "outputs": [],
   "source": [
    "# 2.Write a regular expression to match a valid date in the format \"YYYY-MM-DD\" (e.g. \"2022-04-13\").\n",
    "# Use re.findall() to test your regular expression on the string \"Today's date is 2022-04-13\". Print the list of matched strings."
   ]
  },
  {
   "cell_type": "code",
   "execution_count": 8,
   "id": "1291e6ab",
   "metadata": {},
   "outputs": [
    {
     "name": "stdout",
     "output_type": "stream",
     "text": [
      "Matched string: ['2022-04-13']\n"
     ]
    }
   ],
   "source": [
    "def match_valid_date(string):\n",
    "    pattern='\\d{4}-\\d{2}-\\d{2}'\n",
    "    match=re.findall(pattern,string)\n",
    "    if match:\n",
    "        print(\"Matched string:\",match)\n",
    "    else:\n",
    "        print('not found')\n",
    "string=\"Today's date is 2022-04-13\"\n",
    "match_valid_date(string)"
   ]
  },
  {
   "cell_type": "code",
   "execution_count": null,
   "id": "5971f00b",
   "metadata": {},
   "outputs": [],
   "source": [
    "# 3.Write a regular expression to match a valid email address (e.g. \"john_doe@example.com\"). Use re.findall() to test\n",
    "# your regular expression on the string \"My email address is john_doe@example.com, and I can be reached there anytime.\".\n",
    "# Print the list of matched strings."
   ]
  },
  {
   "cell_type": "code",
   "execution_count": 6,
   "id": "8c451604",
   "metadata": {},
   "outputs": [
    {
     "name": "stdout",
     "output_type": "stream",
     "text": [
      "Matched string: ['john_doe@example.com']\n"
     ]
    }
   ],
   "source": [
    "def match_valid_email(string):\n",
    "    pattern=r'\\b[A-Za-z0-9._%+-]+@[A-Za-z0-9.-]+\\.[A-Z|a-z]{2,}\\b'\n",
    "    match=re.findall(pattern,string)\n",
    "    if match:\n",
    "        print(\"Matched string:\",match)\n",
    "    else:\n",
    "        print('not found')\n",
    "string=\"My email address is john_doe@example.com, and I can be reached there anytime.\"\n",
    "match_valid_email(string)"
   ]
  },
  {
   "cell_type": "code",
   "execution_count": null,
   "id": "a9848629",
   "metadata": {},
   "outputs": [],
   "source": [
    "# 4.Write a regular expression to match a valid URL in the format \"http://www.example.com\" or \"https://www.example.com\" (with or \n",
    "# without the \"s\" in \"https\"). Use re.sub() to replace all occurrences of URLs in the string \"Visit http://www.example.com for\n",
    "#more information, or visit https://www.example.com for secure access.\" with the string \"[URL REDACTED]\". Print the modified string."
   ]
  },
  {
   "cell_type": "code",
   "execution_count": 7,
   "id": "44ddd71b",
   "metadata": {},
   "outputs": [
    {
     "name": "stdout",
     "output_type": "stream",
     "text": [
      "Visit [URL REDACTED] for more information, or visit [URL REDACTED] for secure access.\n"
     ]
    }
   ],
   "source": [
    "\n",
    "text = \"Visit http://www.example.com for more information, or visit https://www.example.com for secure access.\"\n",
    "\n",
    "pattern = r'https?://(?:www\\.)?\\w+\\.\\w+'\n",
    "redacted_text = re.sub(pattern, \"[URL REDACTED]\", text)\n",
    "\n",
    "print(redacted_text)\n"
   ]
  },
  {
   "cell_type": "code",
   "execution_count": null,
   "id": "722be5cb",
   "metadata": {},
   "outputs": [],
   "source": [
    "# 5.Write a regular expression to match a sequence of one or more digits, optionally followed by a decimal point and one or more\n",
    "# digits (e.g. \"123\", \"3.14\"). Use re.finditer() to iterate over all numbers in the string \"The value of pi is approximately 3.14,\n",
    "# and e is approximately 2.71828.\". Print the matched string and its starting and ending positions for each number."
   ]
  },
  {
   "cell_type": "code",
   "execution_count": 8,
   "id": "eb5dc816",
   "metadata": {},
   "outputs": [
    {
     "name": "stdout",
     "output_type": "stream",
     "text": [
      "Match: 3.14\n",
      "Start position: 33\n",
      "End position: 37\n",
      "Match: 2.71828\n",
      "Start position: 62\n",
      "End position: 69\n"
     ]
    }
   ],
   "source": [
    "text = \"The value of pi is approximately 3.14, and e is approximately 2.71828.\"\n",
    "pattern = r'\\d+\\.\\d+|\\d+'\n",
    "\n",
    "for match in re.finditer(pattern, text):\n",
    "    print(\"Match:\", match.group())\n",
    "    print(\"Start position:\", match.start())\n",
    "    print(\"End position:\", match.end())"
   ]
  },
  {
   "cell_type": "code",
   "execution_count": null,
   "id": "7011d109",
   "metadata": {},
   "outputs": [],
   "source": [
    "# 6.Write a regular expression to match a valid credit card number in the format \"XXXX-XXXX-XXXX-XXXX\", where X is a digit.\n",
    "# Use re.findall() to test your regular expression on the string \"My credit card number is 1234-5678-9012-3456.\".\n",
    "# Print the list of matched strings."
   ]
  },
  {
   "cell_type": "code",
   "execution_count": 9,
   "id": "2122c9c1",
   "metadata": {},
   "outputs": [
    {
     "name": "stdout",
     "output_type": "stream",
     "text": [
      "['1234-5678-9012-3456']\n"
     ]
    }
   ],
   "source": [
    "text = \"My credit card number is 1234-5678-9012-3456.\"\n",
    "pattern = r'\\b\\d{4}-\\d{4}-\\d{4}-\\d{4}\\b'\n",
    "\n",
    "matched_credit_cards = re.findall(pattern, text)\n",
    "print(matched_credit_cards)"
   ]
  },
  {
   "cell_type": "code",
   "execution_count": null,
   "id": "c72b02a0",
   "metadata": {},
   "outputs": [],
   "source": [
    "# 7.Write a regular expression to match a valid phone number in the format \"(XXX) XXX-XXXX\", where X is a digit. \n",
    "# Use re.sub() to replace all occurrences of phone numbers in the string \"Please call (555) 123-4567 for assistance.\" \n",
    "# with the string \"[PHONE REDACTED]\". Print the modified string"
   ]
  },
  {
   "cell_type": "code",
   "execution_count": 10,
   "id": "945546c1",
   "metadata": {},
   "outputs": [
    {
     "name": "stdout",
     "output_type": "stream",
     "text": [
      "Please call [PHONE REDACTED] for assistance.\n"
     ]
    }
   ],
   "source": [
    "\n",
    "text = \"Please call (555) 123-4567 for assistance.\"\n",
    "pattern = r'\\(\\d{3}\\) \\d{3}-\\d{4}'\n",
    "redacted_text = re.sub(pattern, \"[PHONE REDACTED]\", text)\n",
    "\n",
    "print(redacted_text)"
   ]
  },
  {
   "cell_type": "code",
   "execution_count": 12,
   "id": "7bb79bcc",
   "metadata": {},
   "outputs": [],
   "source": [
    "# 8.Write a regular expression to match a valid time in the format \"HH:MM:SS\", where HH is the hour (00-23), MM is the minute\n",
    "# (00-59), and SS is the second (00-59). Use re.match() to test your regular expression on the string \"The current time is 16:35:\n",
    "# 42.\". Print the matched string and its starting position."
   ]
  },
  {
   "cell_type": "code",
   "execution_count": 19,
   "id": "28f343c0",
   "metadata": {},
   "outputs": [
    {
     "name": "stdout",
     "output_type": "stream",
     "text": [
      "No match found.\n"
     ]
    }
   ],
   "source": [
    "def match_time():\n",
    "    time_pattern = r'^([0-9]|2[0-3]):[0-5][0-9]:[0-5][0-9]$'\n",
    "    test_string = \"The current time is16:35:42.\"\n",
    "\n",
    "    match = re.match(time_pattern, test_string)\n",
    "    if match:\n",
    "        print(\"Matched string:\", match.group())\n",
    "        print(\"Starting position:\", match.start())\n",
    "    else:\n",
    "        print(\"No match found.\")\n",
    "\n",
    "match_time()\n"
   ]
  },
  {
   "cell_type": "code",
   "execution_count": 14,
   "id": "03f39781",
   "metadata": {},
   "outputs": [],
   "source": [
    "# 9.Write a regular expression to match a valid email address, but exclude addresses from a certain domain (e.g. exclude all \n",
    "# addresses ending in \"@example.com\"). Use re.findall() to test your regular expression on the string \n",
    "# \"My email is john_doe@example.com, but my colleague's email is jane_smith@mycompany.com.\". Print the list of matched strings."
   ]
  },
  {
   "cell_type": "code",
   "execution_count": 20,
   "id": "38c81de0",
   "metadata": {},
   "outputs": [
    {
     "name": "stdout",
     "output_type": "stream",
     "text": [
      "['jane_smith@mycompany.com']\n"
     ]
    }
   ],
   "source": [
    "text = \"My email is john_doe@example.com, but my colleague's email is jane_smith@mycompany.com.\"\n",
    "pattern = r'\\b[A-Za-z0-9._%+-]+@(?!example\\.com)\\w+\\.\\w+\\b'\n",
    "\n",
    "matched_emails = re.findall(pattern, text)\n",
    "print(matched_emails)\n"
   ]
  },
  {
   "cell_type": "code",
   "execution_count": null,
   "id": "5dc296e3",
   "metadata": {},
   "outputs": [],
   "source": [
    "# 10.Write a regular expression to match a valid URL, but exclude URLs from a certain domain (e.g. exclude all URLs containing \n",
    "# \"example.com\"). Use re.sub() to replace all occurrences of URLs in the string \"Visit http://www.example.com for more information\n",
    "# , or visit http://www.mycompany.com for secure access.\" with the string \"[URL REDACTED]\". Print the modified string."
   ]
  },
  {
   "cell_type": "code",
   "execution_count": 21,
   "id": "df102370",
   "metadata": {},
   "outputs": [
    {
     "name": "stdout",
     "output_type": "stream",
     "text": [
      "Visit http://www.example.com for more information, or visit [URL REDACTED] for secure access.\n"
     ]
    }
   ],
   "source": [
    "text = \"Visit http://www.example.com for more information, or visit http://www.mycompany.com for secure access.\"\n",
    "pattern = r'\\b(?!.*example\\.com)\\bhttps?://\\S+'\n",
    "\n",
    "redacted_text = re.sub(pattern, \"[URL REDACTED]\", text)\n",
    "print(redacted_text)"
   ]
  }
 ],
 "metadata": {
  "kernelspec": {
   "display_name": "Python 3 (ipykernel)",
   "language": "python",
   "name": "python3"
  },
  "language_info": {
   "codemirror_mode": {
    "name": "ipython",
    "version": 3
   },
   "file_extension": ".py",
   "mimetype": "text/x-python",
   "name": "python",
   "nbconvert_exporter": "python",
   "pygments_lexer": "ipython3",
   "version": "3.11.5"
  }
 },
 "nbformat": 4,
 "nbformat_minor": 5
}

{
 "cells": [
  {
   "cell_type": "markdown",
   "id": "d08db8f7",
   "metadata": {},
   "source": [
    "### PART 1\n",
    "\n"
   ]
  },
  {
   "cell_type": "code",
   "execution_count": null,
   "id": "39033abd",
   "metadata": {},
   "outputs": [],
   "source": [
    "1.Write a regular expression that matches any email address (e.g. \"example@gmail.com\").\n"
   ]
  },
  {
   "cell_type": "code",
   "execution_count": null,
   "id": "0e3cfba3",
   "metadata": {},
   "outputs": [],
   "source": [
    "import re\n",
    "email=input('enter your email')\n"
   ]
  },
  {
   "cell_type": "code",
   "execution_count": null,
   "id": "f70df48b",
   "metadata": {},
   "outputs": [],
   "source": [
    "2.Write a regular expression that matches any date in the format \"YYYY-MM-DD\" (e.g. \"2023-04-13\").\n",
    "\n"
   ]
  },
  {
   "cell_type": "code",
   "execution_count": null,
   "id": "eb5bb620",
   "metadata": {},
   "outputs": [],
   "source": [
    "3.Write a regular expression that matches any sequence of digits that contains at least one odd digit (e.g. \"12345\").\n"
   ]
  },
  {
   "cell_type": "code",
   "execution_count": null,
   "id": "8d609172",
   "metadata": {},
   "outputs": [],
   "source": [
    "4.Write a regular expression that matches any string that contains only letters and spaces (e.g. \"Hello world\").\n"
   ]
  },
  {
   "cell_type": "code",
   "execution_count": null,
   "id": "9377d568",
   "metadata": {},
   "outputs": [],
   "source": [
    "5.Write a regular expression that matches any string that starts with a vowel and ends with a consonant\n",
    "(e.g. \"apple\", \"banana\", \"cherry\").\n"
   ]
  },
  {
   "cell_type": "code",
   "execution_count": null,
   "id": "1382299f",
   "metadata": {},
   "outputs": [],
   "source": [
    "6.Write a regular expression that matches any string that contains the word \"python\" (case-insensitive) surrounded by \n",
    "exactly two word characters on each side (e.g. \"This is a python string\").\n"
   ]
  },
  {
   "cell_type": "code",
   "execution_count": null,
   "id": "8026044d",
   "metadata": {},
   "outputs": [],
   "source": [
    "7.Write a regular expression that matches any string that contains a sequence of three or more consecutive lowercase \n",
    "letters (e.g. \"hello\", \"goodbye\").\n"
   ]
  },
  {
   "cell_type": "code",
   "execution_count": null,
   "id": "97e1ba3e",
   "metadata": {},
   "outputs": [],
   "source": [
    "8.Write a regular expression that matches any string that contains a valid IPv4 address (e.g. \"192.168.0.1\")."
   ]
  }
 ],
 "metadata": {
  "kernelspec": {
   "display_name": "Python 3 (ipykernel)",
   "language": "python",
   "name": "python3"
  },
  "language_info": {
   "codemirror_mode": {
    "name": "ipython",
    "version": 3
   },
   "file_extension": ".py",
   "mimetype": "text/x-python",
   "name": "python",
   "nbconvert_exporter": "python",
   "pygments_lexer": "ipython3",
   "version": "3.11.5"
  }
 },
 "nbformat": 4,
 "nbformat_minor": 5
}

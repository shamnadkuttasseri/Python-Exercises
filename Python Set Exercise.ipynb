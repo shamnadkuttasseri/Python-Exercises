{
 "cells": [
  {
   "cell_type": "code",
   "execution_count": 1,
   "id": "25357293",
   "metadata": {},
   "outputs": [],
   "source": [
    "# 1.Write a Python program to check if two sets have any common elements."
   ]
  },
  {
   "cell_type": "code",
   "execution_count": 2,
   "id": "9503654f",
   "metadata": {},
   "outputs": [
    {
     "name": "stdout",
     "output_type": "stream",
     "text": [
      "{0, 1, 2}\n"
     ]
    }
   ],
   "source": [
    "set1={1,2,3,4,5,6,7,8,9,0}\n",
    "set2={0,12,23,34,45,65,57,2,1}\n",
    "intersection_set=set1.intersection(set2)\n",
    "print(intersection_set)"
   ]
  },
  {
   "cell_type": "code",
   "execution_count": 3,
   "id": "4bc2a74d",
   "metadata": {},
   "outputs": [],
   "source": [
    "# 2.Write a Python program to find the difference between two sets.\n"
   ]
  },
  {
   "cell_type": "code",
   "execution_count": 6,
   "id": "be2525bf",
   "metadata": {},
   "outputs": [
    {
     "name": "stdout",
     "output_type": "stream",
     "text": [
      "{0, 2, 4, 6, 8, 9}\n"
     ]
    }
   ],
   "source": [
    "set1={1,2,3,4,5,6,7,8,9,0}\n",
    "set2={1,3,5,7,}\n",
    "difference_set=set1.difference(set2)\n",
    "print(difference_set)"
   ]
  },
  {
   "cell_type": "code",
   "execution_count": null,
   "id": "ff749447",
   "metadata": {},
   "outputs": [],
   "source": [
    "# 3.Write a Python program to find the symmetric difference between two sets."
   ]
  },
  {
   "cell_type": "code",
   "execution_count": 9,
   "id": "e56f7d65",
   "metadata": {},
   "outputs": [
    {
     "name": "stdout",
     "output_type": "stream",
     "text": [
      "{0, 2, 4, 6, 8, 9}\n"
     ]
    }
   ],
   "source": [
    "set1={1,2,3,4,5,6,7,8,9,0}\n",
    "set2={1,3,5,7,}\n",
    "symmetric_difference_set=set1.symmetric_difference(set2)\n",
    "print(symmetric_difference_set)"
   ]
  },
  {
   "cell_type": "code",
   "execution_count": null,
   "id": "5423799b",
   "metadata": {},
   "outputs": [],
   "source": [
    "# 4.Write a Python program to create a set from a given list and remove the duplicates."
   ]
  },
  {
   "cell_type": "code",
   "execution_count": 2,
   "id": "c3bdae87",
   "metadata": {},
   "outputs": [
    {
     "name": "stdout",
     "output_type": "stream",
     "text": [
      "{0, 1, 2, 3, 4, 5, 6, 9, 78}\n"
     ]
    }
   ],
   "source": [
    "list=[1,2,3,4,4,5,6,78,9,0]\n",
    "set =set(list)\n",
    "print(set)"
   ]
  },
  {
   "cell_type": "code",
   "execution_count": 3,
   "id": "394bd3b0",
   "metadata": {},
   "outputs": [],
   "source": [
    "# 5.Write a Python program to create a new set with all the elements from two sets, but exclude the common ones."
   ]
  },
  {
   "cell_type": "code",
   "execution_count": 4,
   "id": "bbbcd19e",
   "metadata": {},
   "outputs": [
    {
     "name": "stdout",
     "output_type": "stream",
     "text": [
      "{0, 1, 2, 3, 4, 5, 6, 7, 8, 9, 65, 12, 23, 34, 45, 57}\n"
     ]
    }
   ],
   "source": [
    "set1={1,2,3,4,5,6,7,8,9,0}\n",
    "set2={0,12,23,34,45,65,57,2,1}\n",
    "union_set=set1.union(set2)\n",
    "print(union_set)"
   ]
  },
  {
   "cell_type": "code",
   "execution_count": null,
   "id": "42152414",
   "metadata": {},
   "outputs": [],
   "source": [
    "# 6.Write a Python program to check if a set is a subset of another set."
   ]
  },
  {
   "cell_type": "code",
   "execution_count": 32,
   "id": "1a8f2c46",
   "metadata": {},
   "outputs": [
    {
     "name": "stdout",
     "output_type": "stream",
     "text": [
      "True\n"
     ]
    }
   ],
   "source": [
    "set1={1,2,3,4,5}\n",
    "set2={2,3,4}\n",
    "print(set2.issubset(set1))\n"
   ]
  },
  {
   "cell_type": "code",
   "execution_count": null,
   "id": "1be6f6e8",
   "metadata": {},
   "outputs": [],
   "source": [
    "# 7.Write a Python program to find the maximum and minimum values in a set."
   ]
  },
  {
   "cell_type": "code",
   "execution_count": 2,
   "id": "e3e0e341",
   "metadata": {},
   "outputs": [
    {
     "name": "stdout",
     "output_type": "stream",
     "text": [
      "maximum value: 98\n",
      "minimum value: 1\n"
     ]
    }
   ],
   "source": [
    "s={1,11,22,32,43,45,56,78,98,7}\n",
    "mylist=list(s)\n",
    "maximum=max(mylist)\n",
    "minimum=min(mylist)\n",
    "print(\"maximum value:\",maximum)\n",
    "print(\"minimum value:\",minimum)\n"
   ]
  },
  {
   "cell_type": "code",
   "execution_count": 7,
   "id": "aac449be",
   "metadata": {},
   "outputs": [],
   "source": [
    "# 8.Write a Python program to remove all the elements from a set."
   ]
  },
  {
   "cell_type": "code",
   "execution_count": 6,
   "id": "efb2646b",
   "metadata": {},
   "outputs": [
    {
     "name": "stdout",
     "output_type": "stream",
     "text": [
      "set()\n"
     ]
    }
   ],
   "source": [
    "set1={1,2,3,4,5}\n",
    "set1.clear()\n",
    "print(set1)"
   ]
  },
  {
   "cell_type": "code",
   "execution_count": 4,
   "id": "55fc4040",
   "metadata": {},
   "outputs": [],
   "source": [
    "# 9.Write a Python program to update a set with the union of itself and another set."
   ]
  },
  {
   "cell_type": "code",
   "execution_count": 8,
   "id": "7a89d053",
   "metadata": {},
   "outputs": [
    {
     "name": "stdout",
     "output_type": "stream",
     "text": [
      "{0, 1, 2, 3, 4, 5, 6, 7, 8, 9}\n"
     ]
    }
   ],
   "source": [
    "set1={1,2,3,4,5}\n",
    "set2={5,6,7,8,9,0}\n",
    "set1.update(set2)\n",
    "print(set1)"
   ]
  },
  {
   "cell_type": "code",
   "execution_count": null,
   "id": "7401929c",
   "metadata": {},
   "outputs": [],
   "source": [
    "# 10.Write a Python program to find the sum of all the elements in a set."
   ]
  },
  {
   "cell_type": "code",
   "execution_count": 9,
   "id": "489c180e",
   "metadata": {},
   "outputs": [
    {
     "name": "stdout",
     "output_type": "stream",
     "text": [
      "239\n"
     ]
    }
   ],
   "source": [
    "set1={0,12,23,34,45,65,57,2,1}\n",
    "my_list=list(set1)\n",
    "print(sum(my_list))"
   ]
  },
  {
   "cell_type": "code",
   "execution_count": null,
   "id": "10e00a93",
   "metadata": {},
   "outputs": [],
   "source": []
  }
 ],
 "metadata": {
  "kernelspec": {
   "display_name": "Python 3 (ipykernel)",
   "language": "python",
   "name": "python3"
  },
  "language_info": {
   "codemirror_mode": {
    "name": "ipython",
    "version": 3
   },
   "file_extension": ".py",
   "mimetype": "text/x-python",
   "name": "python",
   "nbconvert_exporter": "python",
   "pygments_lexer": "ipython3",
   "version": "3.11.5"
  }
 },
 "nbformat": 4,
 "nbformat_minor": 5
}

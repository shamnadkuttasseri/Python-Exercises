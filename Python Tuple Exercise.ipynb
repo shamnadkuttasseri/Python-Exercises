{
 "cells": [
  {
   "cell_type": "code",
   "execution_count": 1,
   "id": "37a4d06f",
   "metadata": {},
   "outputs": [],
   "source": [
    "#1.Write a Python program to concatenate two tuples element-wise."
   ]
  },
  {
   "cell_type": "code",
   "execution_count": 3,
   "id": "2f650378",
   "metadata": {},
   "outputs": [
    {
     "name": "stdout",
     "output_type": "stream",
     "text": [
      "('apple', 'banana', 'cherry', 'orange', 'pineapple', 'kiwi')\n"
     ]
    }
   ],
   "source": [
    "mytuple=('apple', 'banana', 'cherry', 'orange')\n",
    "mytuple2=('pineapple','kiwi')\n",
    "mytuple += mytuple2\n",
    "print(mytuple)"
   ]
  },
  {
   "cell_type": "code",
   "execution_count": 4,
   "id": "ff278286",
   "metadata": {},
   "outputs": [],
   "source": [
    "#2.Write a Python program to count the number of occurrences of an element in a tuple."
   ]
  },
  {
   "cell_type": "code",
   "execution_count": 2,
   "id": "19fe2de1",
   "metadata": {},
   "outputs": [
    {
     "name": "stdout",
     "output_type": "stream",
     "text": [
      "element 1 is 3 times\n"
     ]
    }
   ],
   "source": [
    "tuple=(1,23,45,1,5,67,8,10,1)\n",
    "x = [i for i in tuple if i == 1]\n",
    "print('element 1 is',len(x),'times')"
   ]
  },
  {
   "cell_type": "code",
   "execution_count": 3,
   "id": "87fa2aa8",
   "metadata": {},
   "outputs": [],
   "source": [
    "#3.Write a Python program to convert a list of tuples into a dictionary."
   ]
  },
  {
   "cell_type": "code",
   "execution_count": 2,
   "id": "b214cda2",
   "metadata": {},
   "outputs": [
    {
     "ename": "NameError",
     "evalue": "name 'Convert' is not defined",
     "output_type": "error",
     "traceback": [
      "\u001b[1;31m---------------------------------------------------------------------------\u001b[0m",
      "\u001b[1;31mNameError\u001b[0m                                 Traceback (most recent call last)",
      "Cell \u001b[1;32mIn[2], line 4\u001b[0m\n\u001b[0;32m      1\u001b[0m tups\u001b[38;5;241m=\u001b[39m [(\u001b[38;5;124m\"\u001b[39m\u001b[38;5;124makash\u001b[39m\u001b[38;5;124m\"\u001b[39m, \u001b[38;5;241m10\u001b[39m), (\u001b[38;5;124m\"\u001b[39m\u001b[38;5;124mgaurav\u001b[39m\u001b[38;5;124m\"\u001b[39m, \u001b[38;5;241m12\u001b[39m), (\u001b[38;5;124m\"\u001b[39m\u001b[38;5;124manand\u001b[39m\u001b[38;5;124m\"\u001b[39m, \u001b[38;5;241m14\u001b[39m),\n\u001b[0;32m      2\u001b[0m         (\u001b[38;5;124m\"\u001b[39m\u001b[38;5;124msuraj\u001b[39m\u001b[38;5;124m\"\u001b[39m, \u001b[38;5;241m20\u001b[39m), (\u001b[38;5;124m\"\u001b[39m\u001b[38;5;124makhil\u001b[39m\u001b[38;5;124m\"\u001b[39m, \u001b[38;5;241m25\u001b[39m), (\u001b[38;5;124m\"\u001b[39m\u001b[38;5;124mashish\u001b[39m\u001b[38;5;124m\"\u001b[39m, \u001b[38;5;241m30\u001b[39m)]\n\u001b[0;32m      3\u001b[0m dictionary \u001b[38;5;241m=\u001b[39m {}\n\u001b[1;32m----> 4\u001b[0m \u001b[38;5;28mprint\u001b[39m(Convert(tups, dictionary))\n",
      "\u001b[1;31mNameError\u001b[0m: name 'Convert' is not defined"
     ]
    }
   ],
   "source": [
    "tups= [(\"akash\", 10), (\"gaurav\", 12), (\"anand\", 14),\n",
    "        (\"suraj\", 20), (\"akhil\", 25), (\"ashish\", 30)]\n",
    "dictionary = {}\n",
    "print(Convert(tups, dictionary))"
   ]
  },
  {
   "cell_type": "code",
   "execution_count": 3,
   "id": "b50e51bc",
   "metadata": {},
   "outputs": [],
   "source": [
    "#4.Write a Python program to slice a tuple into multiple sub-tuples based on a given size."
   ]
  },
  {
   "cell_type": "code",
   "execution_count": 6,
   "id": "92ca0b61",
   "metadata": {},
   "outputs": [
    {
     "name": "stdout",
     "output_type": "stream",
     "text": [
      "sub tuple1: (1, 2, 3, 4)\n",
      "sub tuple2: (56, 78, 98)\n"
     ]
    }
   ],
   "source": [
    "tuple=(1,2,3,4,56,78,98)\n",
    "sub_tuple1=tuple[0:4]\n",
    "sub_tuple2=tuple[4:7]\n",
    "print('sub tuple1:',sub_tuple1)\n",
    "print('sub tuple2:',sub_tuple2)\n"
   ]
  },
  {
   "cell_type": "code",
   "execution_count": 9,
   "id": "5d16b66f",
   "metadata": {},
   "outputs": [],
   "source": [
    "#5.Write a Python program to create a nested tuple and access an element from it."
   ]
  },
  {
   "cell_type": "code",
   "execution_count": 13,
   "id": "49ec66e6",
   "metadata": {},
   "outputs": [
    {
     "name": "stdout",
     "output_type": "stream",
     "text": [
      "1st element messi\n"
     ]
    }
   ],
   "source": [
    "players_and_age=(('messi',36),('cristiano',39),('rooney',38),('neymar',31))\n",
    "print('1st element',players_and_age[0][0])\n"
   ]
  },
  {
   "cell_type": "code",
   "execution_count": 14,
   "id": "d2d478ec",
   "metadata": {},
   "outputs": [],
   "source": [
    "#6.Write a Python program to remove an element from a tuple."
   ]
  },
  {
   "cell_type": "code",
   "execution_count": 5,
   "id": "9b447fd7",
   "metadata": {},
   "outputs": [
    {
     "ename": "SyntaxError",
     "evalue": "cannot delete function call (2551502485.py, line 2)",
     "output_type": "error",
     "traceback": [
      "\u001b[1;36m  Cell \u001b[1;32mIn[5], line 2\u001b[1;36m\u001b[0m\n\u001b[1;33m    del mytuple()\u001b[0m\n\u001b[1;37m        ^\u001b[0m\n\u001b[1;31mSyntaxError\u001b[0m\u001b[1;31m:\u001b[0m cannot delete function call\n"
     ]
    }
   ],
   "source": [
    "mytuple=(1,2,3,4,5,6,7,8)\n",
    "del mytuple()\n",
    "print(mytuple)"
   ]
  },
  {
   "cell_type": "code",
   "execution_count": 1,
   "id": "677f5658",
   "metadata": {},
   "outputs": [],
   "source": [
    "#7.Write a Python program to merge two tuples and remove the duplicate elements"
   ]
  },
  {
   "cell_type": "code",
   "execution_count": 20,
   "id": "44766598",
   "metadata": {},
   "outputs": [
    {
     "name": "stdout",
     "output_type": "stream",
     "text": [
      "(9, 3, 5, 7, 1, 0, 2, 4, 6, 8)\n"
     ]
    }
   ],
   "source": [
    "t1=(1,3,5,7,9,0)\n",
    "t2=(1,0,2,4,6,8)\n",
    "in_t1=set(t1)\n",
    "in_t2=set(t2)\n",
    "t3=in_t1-in_t2\n",
    "print(tuple(t3)+t2)"
   ]
  },
  {
   "cell_type": "code",
   "execution_count": null,
   "id": "d7969398",
   "metadata": {},
   "outputs": [],
   "source": [
    "#8.Write a Python program to create a tuple with a variable length and unpack it into multiple variables."
   ]
  },
  {
   "cell_type": "code",
   "execution_count": 30,
   "id": "92fe7c1e",
   "metadata": {},
   "outputs": [
    {
     "name": "stdout",
     "output_type": "stream",
     "text": [
      "1\n",
      "2 3 4 45 6\n",
      "798\n"
     ]
    }
   ],
   "source": [
    "mytuple=(1,2,3,4,45,6,798,45,23)\n",
    "x,*y,z,m,n=mytuple\n",
    "print(x)\n",
    "print(*y)\n",
    "print(z)"
   ]
  },
  {
   "cell_type": "code",
   "execution_count": 2,
   "id": "17eb6613",
   "metadata": {},
   "outputs": [],
   "source": [
    "#9.Write a Python program to find the index of the first occurrence of an element in a tuple."
   ]
  },
  {
   "cell_type": "code",
   "execution_count": 31,
   "id": "72f242a6",
   "metadata": {},
   "outputs": [
    {
     "name": "stdout",
     "output_type": "stream",
     "text": [
      "('a', 'b', 'r', 'a', 'k', 'a', 'd', 'h', 'a')\n",
      "Index of k is:  4\n"
     ]
    }
   ],
   "source": [
    "t= ('a','b','r','a','k','a','d','h','a')  \n",
    "print(t)   \n",
    "index = t.index('k')  \n",
    "print(\"Index of k is: \",index)  "
   ]
  },
  {
   "cell_type": "code",
   "execution_count": null,
   "id": "d8d8d3d6",
   "metadata": {},
   "outputs": [],
   "source": []
  }
 ],
 "metadata": {
  "kernelspec": {
   "display_name": "Python 3 (ipykernel)",
   "language": "python",
   "name": "python3"
  },
  "language_info": {
   "codemirror_mode": {
    "name": "ipython",
    "version": 3
   },
   "file_extension": ".py",
   "mimetype": "text/x-python",
   "name": "python",
   "nbconvert_exporter": "python",
   "pygments_lexer": "ipython3",
   "version": "3.11.5"
  }
 },
 "nbformat": 4,
 "nbformat_minor": 5
}

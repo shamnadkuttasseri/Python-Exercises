{
 "cells": [
  {
   "cell_type": "code",
   "execution_count": null,
   "id": "1a42bc52",
   "metadata": {},
   "outputs": [],
   "source": [
    "# 1. Write a program to display the first 7 multiples of 7."
   ]
  },
  {
   "cell_type": "code",
   "execution_count": 6,
   "id": "a601702c",
   "metadata": {},
   "outputs": [
    {
     "name": "stdout",
     "output_type": "stream",
     "text": [
      "multiplication of 7 is\n",
      "7 X 1 = 7\n",
      "7 X 2 = 14\n",
      "7 X 3 = 21\n",
      "7 X 4 = 28\n",
      "7 X 5 = 35\n",
      "7 X 6 = 42\n",
      "7 X 7 = 49\n"
     ]
    }
   ],
   "source": [
    "i=1\n",
    "n=7\n",
    "print('multiplication of 7 is')\n",
    "while i <= 7:\n",
    "    product=n*i\n",
    "    print('%d X %d = %d' % (n,i,product))\n",
    "    i =i+1"
   ]
  },
  {
   "cell_type": "code",
   "execution_count": null,
   "id": "c847b1c2",
   "metadata": {},
   "outputs": [],
   "source": [
    "# 2. Find the sum of numbers in a list using while loop."
   ]
  },
  {
   "cell_type": "code",
   "execution_count": 11,
   "id": "94ffe121",
   "metadata": {},
   "outputs": [
    {
     "name": "stdout",
     "output_type": "stream",
     "text": [
      "sum of list : 15\n"
     ]
    }
   ],
   "source": [
    "import operator\n",
    "lst=[1,2,3,4,5]\n",
    "sum=0\n",
    "i=0\n",
    "\n",
    "while i <len(lst):\n",
    "    sum=sum+operator.add(0,lst[i])\n",
    "    i=i+1\n",
    "\n",
    "print('sum of list :',sum)\n",
    "    "
   ]
  },
  {
   "cell_type": "code",
   "execution_count": null,
   "id": "ba39ddd9",
   "metadata": {},
   "outputs": [],
   "source": [
    "# 3. Write a program to separate positive and negative number from a list."
   ]
  },
  {
   "cell_type": "code",
   "execution_count": 12,
   "id": "7f1dfb9e",
   "metadata": {},
   "outputs": [
    {
     "name": "stdout",
     "output_type": "stream",
     "text": [
      "[1, -1, 3, 4.5, -6]\n"
     ]
    }
   ],
   "source": [
    "lst=[1,-1,3,4.5,-6]\n",
    "print(lst)\n",
    "i=0\n",
    "l=len(lst)+1\n",
    "\n",
    "while i<=l:\n",
    "    if i()\n",
    "    "
   ]
  },
  {
   "cell_type": "code",
   "execution_count": null,
   "id": "d67a5797",
   "metadata": {},
   "outputs": [],
   "source": [
    "# 4. Write a program that appends the square of each number to a new list."
   ]
  },
  {
   "cell_type": "code",
   "execution_count": 35,
   "id": "23c0c8d6",
   "metadata": {},
   "outputs": [
    {
     "name": "stdout",
     "output_type": "stream",
     "text": [
      "org list: [1, 2, 3, 4, 5]\n",
      "squared list: [1, 4, 9, 16, 25]\n"
     ]
    }
   ],
   "source": [
    "lst=[1,2,3,4,5]\n",
    "print('org list:',lst)\n",
    "\n",
    "i=0\n",
    "sqr_lst=[]\n",
    "\n",
    "while i<len(lst):\n",
    "    sqr_lst.append(lst[i]**2)\n",
    "    i=i+1\n",
    "print('squared list:',sqr_lst)"
   ]
  },
  {
   "cell_type": "code",
   "execution_count": null,
   "id": "e4da9aa6",
   "metadata": {},
   "outputs": [],
   "source": [
    "# 5. Write a program in Python to reverse a word."
   ]
  },
  {
   "cell_type": "code",
   "execution_count": 18,
   "id": "bbf2750e",
   "metadata": {},
   "outputs": [
    {
     "name": "stdout",
     "output_type": "stream",
     "text": [
      "orginal string : rock star\n",
      "reversed string : rats kcor\n"
     ]
    }
   ],
   "source": [
    "string= 'rock star'\n",
    "print(\"orginal string :\",string)\n",
    "\n",
    "rev_str=\"\"\n",
    "count=len(string)\n",
    "while count > 0:\n",
    "    rev_str+=string[count-1]\n",
    "    count=count-1\n",
    "print('reversed string :',rev_str)"
   ]
  },
  {
   "cell_type": "code",
   "execution_count": null,
   "id": "b80a826e",
   "metadata": {},
   "outputs": [],
   "source": [
    "# 6. Write a program to filter even and odd number from a list."
   ]
  },
  {
   "cell_type": "code",
   "execution_count": 25,
   "id": "d35b0d25",
   "metadata": {},
   "outputs": [
    {
     "name": "stdout",
     "output_type": "stream",
     "text": [
      "[1, 3, 5, 7]\n",
      "[2, 4, 6, 8]\n"
     ]
    }
   ],
   "source": [
    "lst=[1,2,3,4,5,6,7,8]\n",
    "i=0\n",
    "odd=[]\n",
    "even=[]\n",
    "while i<len(lst):\n",
    "    if lst[i]%2==0:\n",
    "        even.append(lst[i])\n",
    "    else:\n",
    "        odd.append(lst[i])\n",
    "        \n",
    "    i=i+1\n",
    "print(odd)\n",
    "print(even)\n",
    "\n"
   ]
  },
  {
   "cell_type": "code",
   "execution_count": 23,
   "id": "eec68b44",
   "metadata": {},
   "outputs": [],
   "source": [
    "# 7. Create a simple number guessing game where the computer generates a random number between 1 and 10 and the user has to \n",
    "#    guess it. Provide hints whether the guess is too high or too low. Keep asking until the user guesses correctly."
   ]
  },
  {
   "cell_type": "code",
   "execution_count": 1,
   "id": "6a6a40cf",
   "metadata": {},
   "outputs": [
    {
     "name": "stdout",
     "output_type": "stream",
     "text": [
      "Guess the number between 1 and 10: 2\n",
      "Too low! Try again.\n",
      "Guess the number between 1 and 10: 5\n",
      "Too high! Try again.\n",
      "Guess the number between 1 and 10: 4\n",
      "Congratulations! You guessed the correct number: 4\n"
     ]
    }
   ],
   "source": [
    "import random\n",
    "\n",
    "def number_guessing_game():\n",
    "\n",
    "    secret_number = random.randint(1, 10)\n",
    "    \n",
    "\n",
    "    while True:\n",
    "    \n",
    "        guess = input(\"Guess the number between 1 and 10: \")\n",
    "        \n",
    "    \n",
    "        if not guess.isdigit():\n",
    "            print(\"Please enter a valid integer.\")\n",
    "            continue\n",
    "        \n",
    "        guess = int(guess)\n",
    "        \n",
    "   \n",
    "        if guess == secret_number:\n",
    "            print(\"Congratulations! You guessed the correct number:\", secret_number)\n",
    "            break\n",
    "        elif guess < secret_number:\n",
    "            print(\"Too low! Try again.\")\n",
    "        else:\n",
    "            print(\"Too high! Try again.\")\n",
    "\n",
    "number_guessing_game()"
   ]
  },
  {
   "cell_type": "code",
   "execution_count": null,
   "id": "3b2fc240",
   "metadata": {},
   "outputs": [],
   "source": [
    "# 8. Write a Python program to check if a given word is a palindrome using a while loop."
   ]
  },
  {
   "cell_type": "code",
   "execution_count": 4,
   "id": "2eadaafb",
   "metadata": {},
   "outputs": [
    {
     "name": "stdout",
     "output_type": "stream",
     "text": [
      "Enter a word to check if it's a palindrome: shamnad\n",
      "'shamnad' is not a palindrome.\n"
     ]
    }
   ],
   "source": [
    "def is_palindrome(word):\n",
    "\n",
    "    word = word.lower()\n",
    "    \n",
    "\n",
    "    left = 0\n",
    "    right = len(word) - 1\n",
    "    \n",
    "\n",
    "    while left < right:\n",
    "       \n",
    "        if word[left] != word[right]:\n",
    "            return False\n",
    "        \n",
    "      \n",
    "        left += 1\n",
    "        right -= 1\n",
    "    \n",
    "    \n",
    "    return True\n",
    "\n",
    "\n",
    "word = input(\"Enter a word to check if it's a palindrome: \")\n",
    "if is_palindrome(word):\n",
    "    print(f\"'{word}' is a palindrome.\")\n",
    "else:\n",
    "    print(f\"'{word}' is not a palindrome.\")\n",
    "\n"
   ]
  },
  {
   "cell_type": "code",
   "execution_count": null,
   "id": "51f8f9fd",
   "metadata": {},
   "outputs": [],
   "source": [
    "# 9. Write a Python program to print the multiplication table of a given number using a while loop."
   ]
  },
  {
   "cell_type": "code",
   "execution_count": 7,
   "id": "7827e6b6",
   "metadata": {},
   "outputs": [
    {
     "name": "stdout",
     "output_type": "stream",
     "text": [
      "Enter a number:5\n",
      "multiplication of 5 is:\n",
      "5 X 1 = 5\n",
      "5 X 2 = 10\n",
      "5 X 3 = 15\n",
      "5 X 4 = 20\n",
      "5 X 5 = 25\n",
      "5 X 6 = 30\n",
      "5 X 7 = 35\n",
      "5 X 8 = 40\n",
      "5 X 9 = 45\n",
      "5 X 10 = 50\n"
     ]
    }
   ],
   "source": [
    "num=int(input('Enter a number:'))\n",
    "i=1\n",
    "print('multiplication of',num,'is:')\n",
    "while i <= 10:\n",
    "    product=num * i\n",
    "    print('%d X %d = %d' % (num,i,product))\n",
    "    i=i+1"
   ]
  },
  {
   "cell_type": "code",
   "execution_count": null,
   "id": "e05b5ff1",
   "metadata": {},
   "outputs": [],
   "source": [
    "# 10. Write a Python program that checks if a given number is prime or not using a while loop."
   ]
  },
  {
   "cell_type": "code",
   "execution_count": 5,
   "id": "d4617b72",
   "metadata": {},
   "outputs": [
    {
     "name": "stdout",
     "output_type": "stream",
     "text": [
      "enter a number:5\n",
      "True\n"
     ]
    }
   ],
   "source": [
    "n=int(input('enter a number:'))\n",
    "if n <2:\n",
    "    print(False)\n",
    "i =2\n",
    "while (i * i <= n):\n",
    "    if (n % i ==0):\n",
    "        print(False)\n",
    "    i +=1\n",
    "print(True)"
   ]
  },
  {
   "cell_type": "code",
   "execution_count": null,
   "id": "751b1380",
   "metadata": {},
   "outputs": [],
   "source": [
    "# 11. Write a Python program that calculates the result of raising a given number to a specified power using a while loop."
   ]
  },
  {
   "cell_type": "code",
   "execution_count": 6,
   "id": "523dcf9e",
   "metadata": {},
   "outputs": [
    {
     "name": "stdout",
     "output_type": "stream",
     "text": [
      "Enter the base number: 34\n",
      "Enter the exponent: 4\n",
      "1336336.0\n",
      "The result of 34.0 raised to the power of 4 is: 1336336.0\n"
     ]
    }
   ],
   "source": [
    "base = float(input(\"Enter the base number: \"))\n",
    "exponent = int(input(\"Enter the exponent: \"))\n",
    "\n",
    "result = 1\n",
    "i = 0\n",
    "while i < exponent:\n",
    "    result *= base\n",
    "    i += 1    \n",
    "print(result)\n",
    "print(f\"The result of {base} raised to the power of {exponent} is: {result}\")"
   ]
  },
  {
   "cell_type": "code",
   "execution_count": null,
   "id": "41cfb3c9",
   "metadata": {},
   "outputs": [],
   "source": [
    "# 12. Write a Python program to check if a given number is an Armstrong number using a while loop."
   ]
  },
  {
   "cell_type": "code",
   "execution_count": 1,
   "id": "37d827c9",
   "metadata": {},
   "outputs": [
    {
     "name": "stdout",
     "output_type": "stream",
     "text": [
      "Enter a number:12\n",
      "False\n"
     ]
    }
   ],
   "source": [
    "num=int(input('Enter a number:'))\n",
    "\n",
    "sum=0\n",
    "l=len(str(num))\n",
    "temp=num\n",
    "\n",
    "while temp>0:\n",
    "    digit = temp%10\n",
    "    sum +=digit**l\n",
    "    temp//=10\n",
    "\n",
    "if sum==num:\n",
    "    print(True) \n",
    "else:\n",
    "    print(False)\n"
   ]
  },
  {
   "cell_type": "code",
   "execution_count": null,
   "id": "c17f6bd9",
   "metadata": {},
   "outputs": [],
   "source": [
    "# 13. Write a Python program to find the greatest common divisor (GCD) of two numbers using a while loop."
   ]
  },
  {
   "cell_type": "code",
   "execution_count": 4,
   "id": "d12fb82d",
   "metadata": {},
   "outputs": [
    {
     "name": "stdout",
     "output_type": "stream",
     "text": [
      "gcd of 36 and 60 is 12\n"
     ]
    }
   ],
   "source": [
    "num1=36\n",
    "num2=60\n",
    "a=num1\n",
    "b=num2\n",
    "\n",
    "while num1 != num2:\n",
    "    if num1>num2:\n",
    "        num1-=num2\n",
    "    else:\n",
    "        num2-=num1\n",
    "print (\"gcd of\",a ,\"and\",b,\"is\",num)"
   ]
  },
  {
   "cell_type": "code",
   "execution_count": null,
   "id": "2f16af3d",
   "metadata": {},
   "outputs": [],
   "source": [
    "# 14. Write a Python program to find the largest element in a list using a while loop."
   ]
  },
  {
   "cell_type": "code",
   "execution_count": null,
   "id": "f2e16373",
   "metadata": {},
   "outputs": [],
   "source": [
    "lst=[1,2,3,4,5,698,7,65,78]\n",
    "i=0\n",
    "len(lst)==0\n",
    "l=lst[]\n",
    "\n",
    "while i in lst:\n",
    "    "
   ]
  },
  {
   "cell_type": "code",
   "execution_count": null,
   "id": "3d76dd3e",
   "metadata": {},
   "outputs": [],
   "source": [
    "# 15. Write a Python program to print a pattern of asterisks using a while loop. For example, if the user enters 5, it should \n",
    "#     print:\n",
    "# *\n",
    "# **\n",
    "# ***\n",
    "# ****\n",
    "# *****"
   ]
  },
  {
   "cell_type": "code",
   "execution_count": 7,
   "id": "08b83d94",
   "metadata": {},
   "outputs": [
    {
     "name": "stdout",
     "output_type": "stream",
     "text": [
      "Enter the number of rows: 5\n",
      "*\n",
      "**\n",
      "***\n",
      "****\n",
      "*****\n"
     ]
    }
   ],
   "source": [
    "n = int(input(\"Enter the number of rows: \"))\n",
    "i = 1\n",
    "while i <= n:\n",
    "    print('*' * i)\n",
    "    i += 1"
   ]
  },
  {
   "cell_type": "code",
   "execution_count": null,
   "id": "521810fa",
   "metadata": {},
   "outputs": [],
   "source": [
    "# 16. Write a Python program to count the number of digits in a given integer using a while loop."
   ]
  },
  {
   "cell_type": "code",
   "execution_count": 3,
   "id": "02ee9947",
   "metadata": {},
   "outputs": [
    {
     "name": "stdout",
     "output_type": "stream",
     "text": [
      "Enter a number:234\n",
      "Number of digits: 3\n"
     ]
    }
   ],
   "source": [
    "num = int(input(\"Enter a number:\"))\n",
    "count = 0\n",
    "\n",
    "while num != 0:\n",
    "    num //= 10\n",
    "    count += 1\n",
    "\n",
    "print(\"Number of digits: \" + str(count))"
   ]
  },
  {
   "cell_type": "code",
   "execution_count": null,
   "id": "be95d2ab",
   "metadata": {},
   "outputs": [],
   "source": []
  }
 ],
 "metadata": {
  "kernelspec": {
   "display_name": "Python 3 (ipykernel)",
   "language": "python",
   "name": "python3"
  },
  "language_info": {
   "codemirror_mode": {
    "name": "ipython",
    "version": 3
   },
   "file_extension": ".py",
   "mimetype": "text/x-python",
   "name": "python",
   "nbconvert_exporter": "python",
   "pygments_lexer": "ipython3",
   "version": "3.11.5"
  }
 },
 "nbformat": 4,
 "nbformat_minor": 5
}

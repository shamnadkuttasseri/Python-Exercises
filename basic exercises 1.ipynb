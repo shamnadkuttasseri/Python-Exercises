{
 "cells": [
  {
   "cell_type": "code",
   "execution_count": null,
   "id": "c8735cf8",
   "metadata": {},
   "outputs": [],
   "source": [
    "#1.Write a program that prints \"Hello, How are You ? \" on the console."
   ]
  },
  {
   "cell_type": "code",
   "execution_count": 1,
   "id": "b0a46cf0",
   "metadata": {},
   "outputs": [
    {
     "name": "stdout",
     "output_type": "stream",
     "text": [
      "hello,how are you\n"
     ]
    }
   ],
   "source": [
    "print('hello,how are you')"
   ]
  },
  {
   "cell_type": "code",
   "execution_count": 2,
   "id": "1912ca81",
   "metadata": {},
   "outputs": [],
   "source": [
    "#2.Write a program that take the user ‘s name and then prints a greeting message with their name."
   ]
  },
  {
   "cell_type": "code",
   "execution_count": 4,
   "id": "453b6c4b",
   "metadata": {},
   "outputs": [
    {
     "name": "stdout",
     "output_type": "stream",
     "text": [
      "hello Rinshad\n"
     ]
    }
   ],
   "source": [
    "username=\"Rinshad\"\n",
    "print(\"hello\",username)"
   ]
  },
  {
   "cell_type": "code",
   "execution_count": 5,
   "id": "162dfc1a",
   "metadata": {},
   "outputs": [],
   "source": [
    "#3.Write a program that takes two numbers as input and prints their sum."
   ]
  },
  {
   "cell_type": "code",
   "execution_count": 6,
   "id": "14f5c744",
   "metadata": {},
   "outputs": [
    {
     "name": "stdout",
     "output_type": "stream",
     "text": [
      "n1:5\n",
      "n2:5\n",
      "sum: 10\n"
     ]
    }
   ],
   "source": [
    "n1=int(input('n1:'))\n",
    "n2=int(input('n2:'))\n",
    "sum=n1+n2\n",
    "print('sum:',sum)"
   ]
  },
  {
   "cell_type": "code",
   "execution_count": 7,
   "id": "e161fd00",
   "metadata": {},
   "outputs": [],
   "source": [
    "#4.Write a program that takes a string as input and prints its length."
   ]
  },
  {
   "cell_type": "code",
   "execution_count": 8,
   "id": "7a27576e",
   "metadata": {},
   "outputs": [
    {
     "name": "stdout",
     "output_type": "stream",
     "text": [
      "13\n"
     ]
    }
   ],
   "source": [
    "name=\"investigation\"\n",
    "length=len(name)\n",
    "print(length)"
   ]
  },
  {
   "cell_type": "code",
   "execution_count": null,
   "id": "489bed3a",
   "metadata": {},
   "outputs": [],
   "source": [
    "#5.Write a program that takes a sentence and then prints the number of words in that sentence."
   ]
  },
  {
   "cell_type": "code",
   "execution_count": 10,
   "id": "a25571f9",
   "metadata": {},
   "outputs": [
    {
     "name": "stdout",
     "output_type": "stream",
     "text": [
      "enter a sentence:then prints the number of words in that sentence.\n",
      "No of word in the sentence: 9\n"
     ]
    }
   ],
   "source": [
    "sentence=input('enter a sentence:')\n",
    "word_count=sentence.split()\n",
    "print('No of word in the sentence:',len(word_count))"
   ]
  },
  {
   "cell_type": "code",
   "execution_count": null,
   "id": "c65ed8ba",
   "metadata": {},
   "outputs": [],
   "source": [
    "#6.Write a program that takes a string as input and counts the number of uppercase letters in the string."
   ]
  },
  {
   "cell_type": "code",
   "execution_count": 11,
   "id": "1d426ee5",
   "metadata": {},
   "outputs": [
    {
     "name": "stdout",
     "output_type": "stream",
     "text": [
      "enter a string:heLLo World\n"
     ]
    },
    {
     "ename": "NameError",
     "evalue": "name 'count_upper_letter' is not defined",
     "output_type": "error",
     "traceback": [
      "\u001b[1;31m---------------------------------------------------------------------------\u001b[0m",
      "\u001b[1;31mNameError\u001b[0m                                 Traceback (most recent call last)",
      "Cell \u001b[1;32mIn[11], line 2\u001b[0m\n\u001b[0;32m      1\u001b[0m input_string\u001b[38;5;241m=\u001b[39m\u001b[38;5;28minput\u001b[39m(\u001b[38;5;124m\"\u001b[39m\u001b[38;5;124menter a string:\u001b[39m\u001b[38;5;124m\"\u001b[39m)\n\u001b[1;32m----> 2\u001b[0m uppercase_count\u001b[38;5;241m=\u001b[39mcount_upper_letter(input_string)\n\u001b[0;32m      3\u001b[0m \u001b[38;5;28mprint\u001b[39m(\u001b[38;5;124m\"\u001b[39m\u001b[38;5;124mno of uppercase letters:\u001b[39m\u001b[38;5;124m\"\u001b[39m,uppercase_count)\n",
      "\u001b[1;31mNameError\u001b[0m: name 'count_upper_letter' is not defined"
     ]
    }
   ],
   "source": [
    "input_string=input(\"enter a string:\")\n",
    "\n",
    "uppercase_count=count_upper_letter(input_string)\n",
    "print(\"no of uppercase letters:\",uppercase_count)\n"
   ]
  },
  {
   "cell_type": "code",
   "execution_count": null,
   "id": "c889e9a7",
   "metadata": {},
   "outputs": [],
   "source": [
    "#7.Write a program that takes a sentence and then converts all the characters to uppercase."
   ]
  },
  {
   "cell_type": "code",
   "execution_count": 12,
   "id": "90a70cf3",
   "metadata": {},
   "outputs": [
    {
     "name": "stdout",
     "output_type": "stream",
     "text": [
      "enter a string:hello\n",
      "HELLO\n"
     ]
    }
   ],
   "source": [
    "string=input(\"enter a string:\")\n",
    "print(string.upper())"
   ]
  },
  {
   "cell_type": "code",
   "execution_count": null,
   "id": "02a7fdd9",
   "metadata": {},
   "outputs": [],
   "source": [
    "#8.Write a program that takes a string as input and replaces all occurrences of the letter 'a' with the letter 'e'."
   ]
  },
  {
   "cell_type": "code",
   "execution_count": 13,
   "id": "dd60617a",
   "metadata": {},
   "outputs": [
    {
     "name": "stdout",
     "output_type": "stream",
     "text": [
      "enter a string:hallo\n",
      "hello\n"
     ]
    }
   ],
   "source": [
    "s=input(\"enter a string:\")\n",
    "s1=s.replace('a','e')\n",
    "print(s1)"
   ]
  },
  {
   "cell_type": "code",
   "execution_count": null,
   "id": "5ea20256",
   "metadata": {},
   "outputs": [],
   "source": [
    "#9.Create a program that checks if a given string is a palindrome."
   ]
  },
  {
   "cell_type": "code",
   "execution_count": 15,
   "id": "ecd4ffc2",
   "metadata": {},
   "outputs": [
    {
     "name": "stdout",
     "output_type": "stream",
     "text": [
      "Enter a string:shamnad\n",
      "not palindrome\n"
     ]
    }
   ],
   "source": [
    "s=input('Enter a string:')\n",
    "s1=s[::-1]\n",
    "if s == s1:\n",
    "    print(\"s is palindrome\")\n",
    "else:\n",
    "    print('not palindrome')"
   ]
  },
  {
   "cell_type": "code",
   "execution_count": null,
   "id": "d469fb04",
   "metadata": {},
   "outputs": [],
   "source": [
    "#10. Create a program that checks if a substring is present in a given string."
   ]
  },
  {
   "cell_type": "code",
   "execution_count": 1,
   "id": "c1283c73",
   "metadata": {},
   "outputs": [
    {
     "name": "stdout",
     "output_type": "stream",
     "text": [
      "Enter string:hello world\n",
      "Enter word:hello\n",
      "Substring in string!\n"
     ]
    }
   ],
   "source": [
    "string=input(\"Enter string:\")\n",
    "sub_str=input(\"Enter word:\") \n",
    "if(string. find(sub_str)==-1):\n",
    "    print(\"Substring not found in string!\") \n",
    "else:\n",
    "    print(\"Substring in string!\")"
   ]
  },
  {
   "cell_type": "code",
   "execution_count": 1,
   "id": "c421527a",
   "metadata": {},
   "outputs": [],
   "source": [
    "#11. Write a program that reverses the order of words in a given sentence."
   ]
  },
  {
   "cell_type": "code",
   "execution_count": 4,
   "id": "c00ac1c2",
   "metadata": {},
   "outputs": [
    {
     "name": "stdout",
     "output_type": "stream",
     "text": [
      "reverse of mystring: rinshifa is name my\n"
     ]
    }
   ],
   "source": [
    "mystring=\"my name is rinshifa\"\n",
    "mystring_split=mystring.split(' ')\n",
    "reverse_mystring=reversed(mystring_split)\n",
    "final_mystring=\" \".join(reverse_mystring)\n",
    "print('reverse of mystring:',final_mystring)"
   ]
  },
  {
   "cell_type": "code",
   "execution_count": null,
   "id": "447c6e25",
   "metadata": {},
   "outputs": [],
   "source": [
    "#12. Write a program that finds the longest word in a given sentence."
   ]
  },
  {
   "cell_type": "code",
   "execution_count": 8,
   "id": "7f980931",
   "metadata": {},
   "outputs": [
    {
     "name": "stdout",
     "output_type": "stream",
     "text": [
      "write a sentence:python is easy to learn\n",
      "longest word: python\n",
      "length of the word: 6\n"
     ]
    }
   ],
   "source": [
    "s=input('write a sentence:')\n",
    "longest_word=max(s.split(),key=len)\n",
    "print(\"longest word:\",longest_word)\n",
    "print(\"length of the word:\",len(longest_word))"
   ]
  },
  {
   "cell_type": "code",
   "execution_count": null,
   "id": "84fa4ad8",
   "metadata": {},
   "outputs": [],
   "source": []
  }
 ],
 "metadata": {
  "kernelspec": {
   "display_name": "Python 3 (ipykernel)",
   "language": "python",
   "name": "python3"
  },
  "language_info": {
   "codemirror_mode": {
    "name": "ipython",
    "version": 3
   },
   "file_extension": ".py",
   "mimetype": "text/x-python",
   "name": "python",
   "nbconvert_exporter": "python",
   "pygments_lexer": "ipython3",
   "version": "3.11.5"
  }
 },
 "nbformat": 4,
 "nbformat_minor": 5
}
